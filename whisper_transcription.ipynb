{
 "cells": [
  {
   "cell_type": "code",
   "execution_count": 3,
   "metadata": {},
   "outputs": [],
   "source": [
    "# See https://github.com/openai/whisper for installation"
   ]
  },
  {
   "cell_type": "code",
   "execution_count": 1,
   "metadata": {},
   "outputs": [
    {
     "name": "stdout",
     "output_type": "stream",
     "text": [
      "Defaulting to user installation because normal site-packages is not writeable\n",
      "Collecting git+https://github.com/openai/whisper.git\n",
      "  Cloning https://github.com/openai/whisper.git to /private/var/folders/j8/7cncpz2j6m11kzpz50qb3h5050xknk/T/pip-req-build-xq338dmq\n",
      "  Running command git clone -q https://github.com/openai/whisper.git /private/var/folders/j8/7cncpz2j6m11kzpz50qb3h5050xknk/T/pip-req-build-xq338dmq\n",
      "  Resolved https://github.com/openai/whisper.git to commit 1cea4357687b676b293cb5473e1ade25f5b1cef7\n",
      "\u001b[33m  WARNING: Value for prefixed-purelib does not match. Please report this to <https://github.com/pypa/pip/issues/10151>\n",
      "  distutils: /private/var/folders/j8/7cncpz2j6m11kzpz50qb3h5050xknk/T/pip-build-env-cjvoqfxg/normal/lib/python3.9/site-packages\n",
      "  sysconfig: /Library/Python/3.9/site-packages\u001b[0m\n",
      "\u001b[33m  WARNING: Value for prefixed-platlib does not match. Please report this to <https://github.com/pypa/pip/issues/10151>\n",
      "  distutils: /private/var/folders/j8/7cncpz2j6m11kzpz50qb3h5050xknk/T/pip-build-env-cjvoqfxg/normal/lib/python3.9/site-packages\n",
      "  sysconfig: /Library/Python/3.9/site-packages\u001b[0m\n",
      "\u001b[33m  WARNING: Additional context:\n",
      "  user = False\n",
      "  home = None\n",
      "  root = None\n",
      "  prefix = '/private/var/folders/j8/7cncpz2j6m11kzpz50qb3h5050xknk/T/pip-build-env-cjvoqfxg/normal'\u001b[0m\n",
      "\u001b[33m  WARNING: Value for prefixed-purelib does not match. Please report this to <https://github.com/pypa/pip/issues/10151>\n",
      "  distutils: /private/var/folders/j8/7cncpz2j6m11kzpz50qb3h5050xknk/T/pip-build-env-cjvoqfxg/overlay/lib/python3.9/site-packages\n",
      "  sysconfig: /Library/Python/3.9/site-packages\u001b[0m\n",
      "\u001b[33m  WARNING: Value for prefixed-platlib does not match. Please report this to <https://github.com/pypa/pip/issues/10151>\n",
      "  distutils: /private/var/folders/j8/7cncpz2j6m11kzpz50qb3h5050xknk/T/pip-build-env-cjvoqfxg/overlay/lib/python3.9/site-packages\n",
      "  sysconfig: /Library/Python/3.9/site-packages\u001b[0m\n",
      "\u001b[33m  WARNING: Additional context:\n",
      "  user = False\n",
      "  home = None\n",
      "  root = None\n",
      "  prefix = '/private/var/folders/j8/7cncpz2j6m11kzpz50qb3h5050xknk/T/pip-build-env-cjvoqfxg/overlay'\u001b[0m\n",
      "  Installing build dependencies ... \u001b[?25ldone\n",
      "\u001b[?25h  Getting requirements to build wheel ... \u001b[?25ldone\n",
      "\u001b[?25h    Preparing wheel metadata ... \u001b[?25ldone\n",
      "\u001b[?25hRequirement already satisfied: numpy in /Users/azanella/Library/Python/3.9/lib/python/site-packages (from openai-whisper==20231106) (1.26.2)\n",
      "Requirement already satisfied: tqdm in /Users/azanella/Library/Python/3.9/lib/python/site-packages (from openai-whisper==20231106) (4.66.1)\n",
      "Requirement already satisfied: tiktoken in /Users/azanella/Library/Python/3.9/lib/python/site-packages (from openai-whisper==20231106) (0.5.1)\n",
      "Requirement already satisfied: torch in /Users/azanella/Library/Python/3.9/lib/python/site-packages (from openai-whisper==20231106) (2.1.1)\n",
      "Requirement already satisfied: more-itertools in /Users/azanella/Library/Python/3.9/lib/python/site-packages (from openai-whisper==20231106) (10.1.0)\n",
      "Requirement already satisfied: numba in /Users/azanella/Library/Python/3.9/lib/python/site-packages (from openai-whisper==20231106) (0.58.1)\n",
      "Requirement already satisfied: llvmlite<0.42,>=0.41.0dev0 in /Users/azanella/Library/Python/3.9/lib/python/site-packages (from numba->openai-whisper==20231106) (0.41.1)\n",
      "Requirement already satisfied: regex>=2022.1.18 in /Users/azanella/Library/Python/3.9/lib/python/site-packages (from tiktoken->openai-whisper==20231106) (2023.10.3)\n",
      "Requirement already satisfied: requests>=2.26.0 in /Users/azanella/Library/Python/3.9/lib/python/site-packages (from tiktoken->openai-whisper==20231106) (2.31.0)\n",
      "Requirement already satisfied: certifi>=2017.4.17 in /Users/azanella/Library/Python/3.9/lib/python/site-packages (from requests>=2.26.0->tiktoken->openai-whisper==20231106) (2023.7.22)\n",
      "Requirement already satisfied: urllib3<3,>=1.21.1 in /Users/azanella/Library/Python/3.9/lib/python/site-packages (from requests>=2.26.0->tiktoken->openai-whisper==20231106) (2.1.0)\n",
      "Requirement already satisfied: charset-normalizer<4,>=2 in /Users/azanella/Library/Python/3.9/lib/python/site-packages (from requests>=2.26.0->tiktoken->openai-whisper==20231106) (3.3.2)\n",
      "Requirement already satisfied: idna<4,>=2.5 in /Users/azanella/Library/Python/3.9/lib/python/site-packages (from requests>=2.26.0->tiktoken->openai-whisper==20231106) (3.4)\n",
      "Requirement already satisfied: networkx in /Users/azanella/Library/Python/3.9/lib/python/site-packages (from torch->openai-whisper==20231106) (3.2.1)\n",
      "Requirement already satisfied: sympy in /Users/azanella/Library/Python/3.9/lib/python/site-packages (from torch->openai-whisper==20231106) (1.12)\n",
      "Requirement already satisfied: typing-extensions in /Users/azanella/Library/Python/3.9/lib/python/site-packages (from torch->openai-whisper==20231106) (4.8.0)\n",
      "Requirement already satisfied: jinja2 in /Users/azanella/Library/Python/3.9/lib/python/site-packages (from torch->openai-whisper==20231106) (3.1.2)\n",
      "Requirement already satisfied: fsspec in /Users/azanella/Library/Python/3.9/lib/python/site-packages (from torch->openai-whisper==20231106) (2023.10.0)\n",
      "Requirement already satisfied: filelock in /Users/azanella/Library/Python/3.9/lib/python/site-packages (from torch->openai-whisper==20231106) (3.13.1)\n",
      "Requirement already satisfied: MarkupSafe>=2.0 in /Users/azanella/Library/Python/3.9/lib/python/site-packages (from jinja2->torch->openai-whisper==20231106) (2.1.3)\n",
      "Requirement already satisfied: mpmath>=0.19 in /Users/azanella/Library/Python/3.9/lib/python/site-packages (from sympy->torch->openai-whisper==20231106) (1.3.0)\n",
      "\u001b[33mWARNING: You are using pip version 21.2.4; however, version 23.3.1 is available.\n",
      "You should consider upgrading via the '/Library/Developer/CommandLineTools/usr/bin/python3 -m pip install --upgrade pip' command.\u001b[0m\n",
      "Note: you may need to restart the kernel to use updated packages.\n"
     ]
    }
   ],
   "source": [
    "%pip install git+https://github.com/openai/whisper.git "
   ]
  },
  {
   "cell_type": "code",
   "execution_count": 2,
   "metadata": {},
   "outputs": [
    {
     "name": "stderr",
     "output_type": "stream",
     "text": [
      "UsageError: Line magic function `%brew` not found.\n"
     ]
    }
   ],
   "source": [
    "%brew install ffmpeg"
   ]
  },
  {
   "cell_type": "code",
   "execution_count": 2,
   "metadata": {},
   "outputs": [
    {
     "name": "stderr",
     "output_type": "stream",
     "text": [
      "/Users/azanella/Library/Python/3.9/lib/python/site-packages/whisper/transcribe.py:115: UserWarning: FP16 is not supported on CPU; using FP32 instead\n",
      "  warnings.warn(\"FP16 is not supported on CPU; using FP32 instead\")\n"
     ]
    },
    {
     "name": "stdout",
     "output_type": "stream",
     "text": [
      " La parole est à madame Sandra Rodole pour le groupe écologist. De 129%. C'est l'augmentation des bénéficiaires de l'aide alimentaire sur les 10 dernières années en France. Soit une multiplication par 3 du nom des bénéficiaires avec une augmentation drastique ces deux dernières années. Évidemment, vous le savez bien, les 3-4 de ces bénéficiaires quasiment sont des femmes. La parole est à madame Sandra Rodole pour le groupe écologist. C'est l'augmentation de la parole.\n"
     ]
    }
   ],
   "source": [
    "import whisper\n",
    "\n",
    "model = whisper.load_model(\"base\")\n",
    "result = model.transcribe(\"/Users/azanella/Documents/repo_git/ai-hackatech/StudioVRAI/hackatech/raw-audio/QG_20230404144514_1_1071010_1342160_1283_32095.wav\")\n",
    "print(result[\"text\"])"
   ]
  },
  {
   "cell_type": "code",
   "execution_count": 4,
   "metadata": {},
   "outputs": [],
   "source": [
    "from os import listdir\n",
    "import pandas as pd"
   ]
  },
  {
   "cell_type": "code",
   "execution_count": 5,
   "metadata": {},
   "outputs": [
    {
     "data": {
      "text/plain": [
       "['QG_20230404144514_1_3329410_3583690_9046_55482.wav',\n",
       " 'QG_20230411144521_1_6466900_6730600_9952_78448.wav',\n",
       " 'QG_20230516144510_1_2814980_3082510_11655_123375.wav',\n",
       " 'QG_20230606143049_1_5188860_5447990_12853_98321.wav',\n",
       " 'QG_20230411144521_1_3589780_3847440_131450_155750.wav',\n",
       " 'QG_20230411144521_1_1799010_2112820_118429_132268.wav',\n",
       " 'QG_20230404144514_1_4028770_4294050_15414_131582.wav',\n",
       " 'QG_20230523144507_1_6804310_6977820_17791_82776.wav',\n",
       " 'QG_20230411144521_1_276170_524080_59282_76298.wav',\n",
       " 'QG_20230411144521_1_276170_524080_9514_17199.wav',\n",
       " 'QG_20230516144510_1_310070_652390_7424_139276.wav',\n",
       " 'QG_20230411144521_1_3060700_3328720_6341_59256.wav',\n",
       " 'QG_20230523144507_1_5782600_6042070_129709_203474.wav',\n",
       " 'QG_20230523144507_1_5282460_5527520_9583_121176.wav',\n",
       " 'QG_20230411144521_1_6466900_6730600_88206_123137.wav',\n",
       " 'QG_20230411144521_1_3589780_3847440_155941_172013.wav',\n",
       " 'QG_20230411144521_1_1540700_1799010_153052_178890.wav',\n",
       " 'QG_20230404144514_1_1071010_1342160_196852_212258.wav',\n",
       " 'QG_20230411144521_1_1294510_1540700_58812_75288.wav',\n",
       " 'QG_20230516144510_1_10390_310070_51404_69014.wav',\n",
       " 'QG_20230530144858_1_1191060_1493860_20029_134409.wav',\n",
       " 'QG_20230516144510_1_3082510_3343020_8552_127641.wav',\n",
       " 'QG_20230411144521_1_27170_276170_18451_44651.wav',\n",
       " 'QG_20230502144519_1_2319090_2576610_11895_97419.wav',\n",
       " 'QG_20230411144521_1_1294510_1540700_120961_149325.wav',\n",
       " 'QG_20230509144503_1_268550_557550_11941_115739.wav',\n",
       " 'QG_20230411144521_1_2852380_3060700_88969_113906.wav',\n",
       " 'QG_20230509144503_1_827050_1075350_39949_99280.wav',\n",
       " 'QG_20230523144507_1_6977820_7241070_18163_127141.wav',\n",
       " 'QG_20230509144503_1_1075350_1421560_13892_139197.wav',\n",
       " 'QG_20230606143049_1_3613230_3861750_10831_120227.wav',\n",
       " 'QG_20230509144503_1_827050_1075350_17403_24918.wav',\n",
       " 'QG_20230502144519_1_2836480_3092010_12587_30454.wav',\n",
       " 'QG_20230404144514_1_4542500_4770840_196965_226942.wav',\n",
       " 'QG_20230502144519_1_913090_1191440_271123_277474.wav',\n",
       " 'QG_20230404144514_1_4770840_5020310_13032_113507.wav',\n",
       " 'QG_20230411144521_1_27170_276170_160155_191522.wav',\n",
       " 'QG_20230404144514_1_3583690_3797250_171102_207828.wav',\n",
       " 'QG_20230411144521_1_6983450_7287000_6973_89977.wav',\n",
       " 'QG_20230502144519_1_913090_1191440_38559_125395.wav',\n",
       " 'QG_20230502144519_1_330190_677440_9643_34718.wav',\n",
       " 'QG_20230404144514_1_1071010_1342160_1283_32095.wav',\n",
       " 'QG_20230530144858_1_2293090_2558000_10844_115362.wav',\n",
       " 'QG_20230509144503_1_2747540_3008900_211430_238120.wav',\n",
       " 'QG_20230606143049_1_1736510_2014390_14004_120487.wav',\n",
       " 'QG_20230509144503_1_5985270_6233320_8106_131482.wav',\n",
       " 'QG_20230502144519_1_7261260_7531000_13515_97613.wav',\n",
       " 'QG_20230411144521_1_1799010_2112820_261344_286627.wav',\n",
       " 'QG_20230411144521_1_1540700_1799010_182174_193779.wav',\n",
       " 'QG_20230404144514_1_3797250_4028770_137623_206435.wav',\n",
       " 'QG_20230516144510_1_1222340_1514040_16443_28950.wav',\n",
       " 'QG_20230502144519_1_3635190_3889370_35039_57723.wav',\n",
       " 'QG_20230523144507_1_3987850_4267370_44172_139839.wav',\n",
       " 'QG_20230411144521_1_2852380_3060700_150848_186251.wav',\n",
       " 'QG_20230411144521_1_2342300_2579110_39588_67630.wav',\n",
       " 'QG_20230606143049_1_4401170_4658940_9657_101736.wav',\n",
       " 'QG_20230404144514_1_1071010_1342160_144858_182089.wav',\n",
       " 'QG_20230411144521_1_2852380_3060700_11082_39405.wav',\n",
       " 'QG_20230523144507_1_6977820_7241070_135187_259110.wav',\n",
       " 'QG_20230516144510_1_1793640_2065030_15129_129918.wav',\n",
       " 'QG_20230516144510_1_652390_917320_54541_128874.wav',\n",
       " 'QG_20230411144521_1_2112820_2342300_108830_113502.wav',\n",
       " 'QG_20230509144503_1_557550_827050_37832_143591.wav',\n",
       " 'QG_20230606143049_1_4658940_4933650_10519_125760.wav',\n",
       " 'QG_20230502144519_1_330190_677440_97265_116277.wav',\n",
       " 'QG_20230523144507_1_4520350_4767670_12244_134902.wav',\n",
       " 'QG_20230530144858_1_863690_1191060_45378_132996.wav',\n",
       " 'QG_20230411144521_1_2852380_3060700_121140_142844.wav',\n",
       " 'QG_20230509144503_1_3501590_3719560_189458_216623.wav',\n",
       " 'QG_20230404144514_1_3583690_3797250_20308_94436.wav',\n",
       " 'QG_20230502144519_1_1794060_2052050_9004_39907.wav',\n",
       " 'QG_20230516144510_1_3343020_3611250_13545_115601.wav',\n",
       " 'QG_20230404144514_1_4294050_4542500_180072_203859.wav',\n",
       " 'QG_20230523144507_1_4267370_4520350_18311_116709.wav',\n",
       " 'QG_20230411144521_1_1799010_2112820_54823_86493.wav',\n",
       " 'QG_20230411144521_1_2342300_2579110_68455_104538.wav',\n",
       " 'QG_20230516144510_1_1222340_1514040_52574_119971.wav',\n",
       " 'QG_20230523144507_1_6550340_6804310_127940_205807.wav',\n",
       " 'QG_20230502144519_1_1191440_1530000_57922_119605.wav',\n",
       " 'QG_20230530144858_1_330140_585630_226833_240359.wav',\n",
       " 'QG_20230502144519_1_1530000_1794060_62618_126492.wav',\n",
       " 'QG_20230411144521_1_1037580_1294510_231404_243777.wav',\n",
       " 'QG_20230502144519_1_6264380_6533050_13228_33498.wav',\n",
       " 'QG_20230509144503_1_827050_1075350_118265_122616.wav',\n",
       " 'QG_20230502144519_1_2052050_2319090_20547_55710.wav',\n",
       " 'QG_20230411144521_1_276170_524080_17382_22688.wav',\n",
       " 'QG_20230411144521_1_3589780_3847440_37311_90120.wav',\n",
       " 'QG_20230411144521_1_781980_1037580_12728_45023.wav',\n",
       " 'QG_20230516144510_1_7285290_7547000_15277_105347.wav',\n",
       " 'QG_20230502144519_1_1530000_1794060_11308_19057.wav',\n",
       " 'QG_20230502144519_1_62800_330190_19567_62956.wav',\n",
       " 'QG_20230502144519_1_3352150_3635190_35708_133402.wav',\n",
       " 'QG_20230516144510_1_5967990_6226040_13758_134199.wav',\n",
       " 'QG_20230509144503_1_3279440_3501590_13831_105512.wav',\n",
       " 'QG_20230411144521_1_3060700_3328720_156168_216019.wav',\n",
       " 'QG_20230509144503_1_1689850_1960800_13041_134694.wav',\n",
       " 'QG_20230606143049_1_4933650_5188860_12476_129662.wav',\n",
       " 'QG_20230606143049_1_4131660_4401170_9172_119012.wav',\n",
       " 'QG_20230502144519_1_3635190_3889370_216920_251756.wav',\n",
       " 'QG_20230509144503_1_2747540_3008900_14387_110928.wav',\n",
       " 'QG_20230411144521_1_2112820_2342300_55680_78848.wav',\n",
       " 'QG_20230404144514_1_3329410_3583690_55884_129257.wav',\n",
       " 'QG_20230502144519_1_677440_913090_11094_123731.wav',\n",
       " 'QG_20230509144503_1_4330_268550_18044_122112.wav',\n",
       " 'QG_20230411144521_1_2579110_2852380_147728_192654.wav',\n",
       " 'QG_20230411144521_1_1294510_1540700_158292_200420.wav',\n",
       " 'QG_20230606143049_1_3073620_3346880_15734_134698.wav',\n",
       " 'QG_20230523144507_1_5029770_5282460_11035_124925.wav',\n",
       " 'QG_20230411144521_1_27170_276170_79708_95761.wav',\n",
       " 'QG_20230523144507_1_6550340_6804310_210880_222792.wav',\n",
       " 'QG_20230411144521_1_781980_1037580_56041_70099.wav',\n",
       " 'QG_20230411144521_1_2342300_2579110_8418_39085.wav',\n",
       " 'QG_20230516144510_1_2328650_2583880_9850_121344.wav',\n",
       " 'QG_20230523144507_1_5782600_6042070_8797_121137.wav',\n",
       " 'QG_20230516144510_1_2583880_2814980_8587_121558.wav',\n",
       " 'QG_20230404144514_1_1071010_1342160_74461_87300.wav',\n",
       " 'QG_20230411144521_1_1037580_1294510_132851_161288.wav',\n",
       " 'QG_20230516144510_1_917320_1222340_54737_122759.wav',\n",
       " 'QG_20230404144514_1_4542500_4770840_10376_82629.wav',\n",
       " 'QG_20230530144858_1_330140_585630_9015_103680.wav',\n",
       " 'QG_20230411144521_1_2852380_3060700_62340_88816.wav',\n",
       " 'QG_20230411144521_1_2112820_2342300_7008_31149.wav',\n",
       " 'QG_20230404144514_1_1071010_1342160_124958_130308.wav',\n",
       " 'QG_20230404144514_1_4294050_4542500_131872_170682.wav',\n",
       " 'QG_20230411144521_1_524080_781980_54987_81245.wav',\n",
       " 'QG_20230509144503_1_2226750_2503050_51196_121509.wav',\n",
       " 'QG_20230411144521_1_1540700_1799010_221806_254212.wav',\n",
       " 'QG_20230509144503_1_7028570_7291000_11668_135433.wav',\n",
       " 'QG_20230502144519_1_2836480_3092010_56442_68218.wav',\n",
       " 'QG_20230502144519_1_6264380_6533050_36699_115431.wav',\n",
       " 'QG_20230404144514_1_1071010_1342160_39370_43863.wav',\n",
       " 'QG_20230502144519_1_3092010_3352150_25997_44154.wav',\n",
       " 'QG_20230411144521_1_3060700_3328720_76300_97505.wav',\n",
       " 'QG_20230530144858_1_2818740_3060040_9657_120089.wav',\n",
       " 'QG_20230502144519_1_1191440_1530000_41122_55916.wav',\n",
       " 'QG_20230411144521_1_3328720_3589780_24710_36294.wav',\n",
       " 'QG_20230516144510_1_3611250_3847710_12165_107219.wav',\n",
       " 'QG_20230523144507_1_6294030_6550340_13562_126736.wav',\n",
       " 'QG_20230411144521_1_3328720_3589780_129925_189772.wav',\n",
       " 'QG_20230530144858_1_330140_585630_242132_249450.wav',\n",
       " 'QG_20230411144521_1_2852380_3060700_45562_58338.wav',\n",
       " 'QG_20230516144510_1_2065030_2328650_13036_117325.wav',\n",
       " 'QG_20230509144503_1_3501590_3719560_10448_100475.wav',\n",
       " 'QG_20230411144521_1_2112820_2342300_79237_92086.wav',\n",
       " 'QG_20230404144514_1_4294050_4542500_10015_96191.wav']"
      ]
     },
     "execution_count": 5,
     "metadata": {},
     "output_type": "execute_result"
    }
   ],
   "source": [
    "# For all files:\n",
    "files = listdir('/Users/azanella/Documents/repo_git/ai-hackatech/StudioVRAI/hackatech/raw-audio')\n",
    "files"
   ]
  },
  {
   "cell_type": "code",
   "execution_count": 6,
   "metadata": {},
   "outputs": [
    {
     "name": "stderr",
     "output_type": "stream",
     "text": [
      "/Users/azanella/Library/Python/3.9/lib/python/site-packages/whisper/transcribe.py:115: UserWarning: FP16 is not supported on CPU; using FP32 instead\n",
      "  warnings.warn(\"FP16 is not supported on CPU; using FP32 instead\")\n"
     ]
    },
    {
     "name": "stdout",
     "output_type": "stream",
     "text": [
      " Monsieur le ministre de l'Intérieur, nous avons découvert que vous nous accusiez d'être complices d'interrorisme intellectuel. Nous avons n'aïvement pensé qu'il s'agissé d'un poisson d'avril avec certains fonds de vérité, tout travail intellectuel semblant en effet vous terroriser. Mais pendant que vous étiez occupé à recycler les théories de l'extrême droite pour servir vos ambitions personnelles, un compte Twitter a révélé publiquement l'existence de boucle telegramme néonasi, invitant à commettre des attentats contre nos compatriotes musulmans, et je vous parle là d'interrorisme bien concret. Et il a fallu que ces tweets sortent pour vous forcer à réagir de la plus faible des manières, puisque vous avez demandé à Telegramme de simplement fermer ces canaux de discussion, il y avait pourtant dans ces boucles des membres actifs qui étaient fonctionnaires ou militaires. L'État ne peut avoir qu'une seule réponse en vereux. D'or !\n"
     ]
    },
    {
     "name": "stderr",
     "output_type": "stream",
     "text": [
      "/Users/azanella/Library/Python/3.9/lib/python/site-packages/whisper/transcribe.py:115: UserWarning: FP16 is not supported on CPU; using FP32 instead\n",
      "  warnings.warn(\"FP16 is not supported on CPU; using FP32 instead\")\n"
     ]
    },
    {
     "name": "stdout",
     "output_type": "stream",
     "text": [
      " Le dernier rapport de Madame la Défenseur des Droits confirme ce que nous savons tous déjà. Porte le triste constat de décision de justice inexécutée, affectant d'une part nos compatriotes justiciables, leurs familles et d'autres parts l'autorité des magistrats. Cette ensemble participez-la au non-respect du droit et à la justice et de la justice. Notre actualité local à la Martinique et en Guadeloupe porte un triste exemple de ces dysfonctionnements. En effet, vous avez reçu, monsieur le ministre, et à l'initiative de mon collègue Jean-Philippe Nieland, une lettre ouverte des parlementaires de Martinique et de Guadeloupe, le 6 avril dernier portant sur la situation de monsieur Noël Daufour, justiciable placé en détention provisoire au centre pénitentiaire de du cause en Martinique. Dès que le juge d'instruction est autorisé par ordonnance, monsieur Daufour a se rendre au cheveu de sa fille, de trois ans hospitaliser gravement malade, il savait qu'il n'a pu si rendre qu'une seule froid et quelques heures dans des délais à normalement long. Je sais que votre cabinet a répondu à mon collègue sur l'intérêt prétation de cette ordonnance, néanmoins il y a lieu de relever des difficultés liés à l'application des décisions judiciaires urgentes.\n"
     ]
    },
    {
     "name": "stderr",
     "output_type": "stream",
     "text": [
      "/Users/azanella/Library/Python/3.9/lib/python/site-packages/whisper/transcribe.py:115: UserWarning: FP16 is not supported on CPU; using FP32 instead\n",
      "  warnings.warn(\"FP16 is not supported on CPU; using FP32 instead\")\n"
     ]
    },
    {
     "name": "stdout",
     "output_type": "stream",
     "text": [
      " Il y a 60 ans, l'écologist Rachele Carson a l'air tésur les dangers des pesticides et de l'agriculture intensive dans le livre printemps silencieux. Elle était moquée et s'est désormais attestée. Les pesticides et l'agriculture intensive sont responsables de la disparition de 20 millions de doiseaux par an, comme la test une étude publiée hier. Que tout le monde comprenne bien cette étude est qualifiée par le CNRS comme la plus complète jamais réalisée. 37 ans de données sur 28 pays, 170 espèces et une conclusion scientifique, implacable. L'agriculture intensive est responsable en tout premier lieu de l'effondrement de la biodiversité. Et vous que faites-vous une pause ? Vous tergiverser sur le glyphosate, vous réintroduz les néonecotinoïdes et demandez aux inspecteurs de l'environnement de ne pas contrôler les arbres agricultaires sur l'usage de pesticides pourtant toxique et vous méprisez l'agriculture biologique. Et pourtant, l'agriculture biologique peut nous nourrir sans pesticides et donc sans menacer la biodiversité. Je pourrais développer l'ongement mais je n'aurai pas le temps sur les bienfaits de l'agriculture bio par rapport à l'agriculture conventionnelle qu'on devrait appeler agriculture chimique. L'agriculture bio, c'est sans pesticides. C'est 30% de consommation d'eau en moins. C'est plus d'emploi à l'éktare. C'est une meilleure rémunération pour les agriculteurs. L'agriculture n'est pas plus cher, mais elle est moins subventionnée. Elle est fragilisée par votre choix de supprimer la domaine tiens et son prix est rancherie par les marges des centrales d'achat. La réalité, c'est que les magasins bio aujourd'hui ferment et les agriculteurs bio ne s'en sortent plus. La filière se meurt et pourtant, il existe une solution simple. Appliquer la loi, la loi égalee un pause 20% de produits bio dans les cantines, en en éloin. Et avec ce débouché, nous pourrions sauver la filière et offrir à tout le monde d'une alimentation de qualité. Ce que nous vous demandons aujourd'hui, c'est à minima d'appliquer la loi pour sauver la filière.\n"
     ]
    },
    {
     "name": "stderr",
     "output_type": "stream",
     "text": [
      "/Users/azanella/Library/Python/3.9/lib/python/site-packages/whisper/transcribe.py:115: UserWarning: FP16 is not supported on CPU; using FP32 instead\n",
      "  warnings.warn(\"FP16 is not supported on CPU; using FP32 instead\")\n"
     ]
    },
    {
     "name": "stdout",
     "output_type": "stream",
     "text": [
      " Monsieur Papé Ndiaye, ministre de l'Education nationale et de la jeunesse de France. Le savoir est de beaucoup la portion la plus considérable du bonheur, disait sauf-hock, dans sa tragédie Antigone. Trajique, c'est la définition même de la situation des personnes portes de handicapes intellectuelles dans mon département, le nord, mais également dans la France entière sous votre gouvernement. Ils sont plus de 8 000 porteurs d'endiquate intellectuelle dans le département du nord à ne pas bénéficier d'une prise en charge adaptée selon l'association les papillons blancs, dont plus de 900 seuls dans le douezie. Trajique, c'est la lettre de mise en demeure qu'on reçut les parents des enfants de l'établissement pour enfants et adolescent polis handicapés de féchins dans ma circonscription, l'être qui a été signé de votre main pour je cite non-scholarisation de leurs enfants, alors que les parents, toutes les pènes du monde, a trouvé des établissements adaptés pour leurs enfants. Trajique, c'est l'état de notre système d'éducation qui laisse sur le côté de ses enfants, sans instruction ainsi que des parents dans un état de détresse incommensurable. À féchins, comme dans beaucoup des établissements d'accueil, les enfants sont gérés, regroupés dans des salles communes, sans éveil particulier, sans programme éducatif adapté, malgré tout le dévouement du personnel soignant. Vous êtes coupables, coupables ne ne paraît respecter notre constitution qui garantit l'égalité dans l'éducation pour tous et à tous les degrés. Oui, pour tous. Ma question est simple, monsieur le ministre, comptez-vous faire quelque chose pour appliquer le principe d'égalité, qui est un principe constitutionnel et permettre à ses enfants de bénéficier d'une éducation adaptée à leur handicap et donc d'accéder au savoir, à la découverte, à l'éveil et donc au bonheur. Je vous remercie.\n"
     ]
    },
    {
     "name": "stderr",
     "output_type": "stream",
     "text": [
      "/Users/azanella/Library/Python/3.9/lib/python/site-packages/whisper/transcribe.py:115: UserWarning: FP16 is not supported on CPU; using FP32 instead\n",
      "  warnings.warn(\"FP16 is not supported on CPU; using FP32 instead\")\n"
     ]
    },
    {
     "name": "stdout",
     "output_type": "stream",
     "text": [
      " Madame la Présidente, mesdames et messieurs les députés, monsieur le député Péros. D'abord, vous avez cité le rapport du président Morénas, dont le cours à porteur était l'Oyque Prudom. Je salue les députés encore très nombreux ici, qui ont participé. Je pense à Pascal Boyer, je passe à UBR, Vulfran, je pense à Vincent Teebo et à vous-même, puisque vous avez dans le cadre de cette mission beaucoup travaillée.\n"
     ]
    },
    {
     "name": "stderr",
     "output_type": "stream",
     "text": [
      "/Users/azanella/Library/Python/3.9/lib/python/site-packages/whisper/transcribe.py:115: UserWarning: FP16 is not supported on CPU; using FP32 instead\n",
      "  warnings.warn(\"FP16 is not supported on CPU; using FP32 instead\")\n"
     ]
    },
    {
     "name": "stdout",
     "output_type": "stream",
     "text": [
      " Comme vous, je connais les difficultés et les craintes du nos concitoyens pour le racccer à la santé au soin. Vous avez déjà eu l'occasion d'en parler à plusieurs reprises et je connais votre engagement sur ces questions.\n"
     ]
    },
    {
     "name": "stderr",
     "output_type": "stream",
     "text": [
      "/Users/azanella/Library/Python/3.9/lib/python/site-packages/whisper/transcribe.py:115: UserWarning: FP16 is not supported on CPU; using FP32 instead\n",
      "  warnings.warn(\"FP16 is not supported on CPU; using FP32 instead\")\n"
     ]
    },
    {
     "name": "stdout",
     "output_type": "stream",
     "text": [
      " Marseille souffre, Marseille pleure, Marseille est en colère. Dans la nuit de dimanche à l'indie, pas moins de trois règlements de comptes ont eu lieu, entraînant en l'amour de trois personnes dont un adolescent de 16 ans et l'hospitalisation de huit autres. Nous constatons depuis plusieurs semaines maintenant une accélération de ces assassinats sur fond de trafic de stupéfiants. Une double logique de contrôle territorial d'une part et devant d'état d'autre part, en serait à l'origine. Cette situation, mes chers collègues, est inquiétante car elle intervient alors que Marseille connaît une augmentation sensible de ces moyens de police et de justice. Trois cent policiers nouveaux, trois compagnies de CRS, 30 magistrats, 10 greffiers, tous en poste au moment même où nous nous parlons et ceux grâce à la décision du président de la République. Le travail réalisé à titre d'illustration à permis de démanteler définitivement 39 points de d'île de saisir 5,4 tonnes de cannabis ou encore de dresser 18600. Vous avez bien entendu mes chers collègues, 18600 amants de forfaitaires d'élictuel pour usage de stupéfiants. Pour autant, nous sommes de plus en plus nombreux à ne pas accepter cette résignation qui semble s'abattre sur la ville et plonger des familles entières dans la terreur et la douleur. Pour soutenir la stratégie de pilonnage menée par la préfète de police, nous devons me sembler t-il renforcer les moyens de la direction zonal de la police judiciaire et occuper plus encore les quartiers par le renforcement de la présence de CRS. Alors, monsieur le ministre, ma question est simple. Quelles sont les moyens précis que vous comptez à louer à Marseille de façon pérenne pour mieux lutter contre cette situation dramatique? Je vous emmerci. Merci beaucoup.\n"
     ]
    },
    {
     "name": "stderr",
     "output_type": "stream",
     "text": [
      "/Users/azanella/Library/Python/3.9/lib/python/site-packages/whisper/transcribe.py:115: UserWarning: FP16 is not supported on CPU; using FP32 instead\n",
      "  warnings.warn(\"FP16 is not supported on CPU; using FP32 instead\")\n"
     ]
    },
    {
     "name": "stdout",
     "output_type": "stream",
     "text": [
      " ou est passé votre projet de loi visant à inscrire l'avortement, le droit l'avortement dans la Constitution. Le 24 novembre, l'Assemblée nationale a voté pour cette grande avancée pour le droit des femmes. Le 1er février, c'était autour du Sénat, le 8 mars, enfin le président de la République annoncée, un projet de loi constitutionnel dans les prochains mois pour inscrire le droit à l'IVG dans la Constitution. Et puis, rien. Rien dans votre feuille de route des 100 jours, des 100 prochains jours dévoilés le 26 avril dernier. Rien dans les discours télévisés du président de la République qui appelait à l'apaisement. Mais nous parlementaires féministes n'avons pas oublié cette promesse. Vous voulez appaiser comment c'est par tenir vos engagements. 80 % des Français et des Français attendent sa tante inscription dans la Constitution. Le droit des femmes n'est pas un jeu. Ce n'est pas un slogan politique et encore moins un prétexte pour faire des promesses, l'archer opportunément un 8 mars.\n"
     ]
    },
    {
     "name": "stderr",
     "output_type": "stream",
     "text": [
      "/Users/azanella/Library/Python/3.9/lib/python/site-packages/whisper/transcribe.py:115: UserWarning: FP16 is not supported on CPU; using FP32 instead\n",
      "  warnings.warn(\"FP16 is not supported on CPU; using FP32 instead\")\n"
     ]
    },
    {
     "name": "stdout",
     "output_type": "stream",
     "text": [
      " Je tiens à saluer aussi la solidarité extraordinaire. Donc, au preuve, les Marseillais et les Marseillais. Lourdement, meurtrie déjà, il y a quatre ans par la catastrophe de la rue d'Obaigne, même si les circonstances de ces deux drames semblent bien différentes.\n"
     ]
    },
    {
     "name": "stderr",
     "output_type": "stream",
     "text": [
      "/Users/azanella/Library/Python/3.9/lib/python/site-packages/whisper/transcribe.py:115: UserWarning: FP16 is not supported on CPU; using FP32 instead\n",
      "  warnings.warn(\"FP16 is not supported on CPU; using FP32 instead\")\n"
     ]
    },
    {
     "name": "stdout",
     "output_type": "stream",
     "text": [
      " Dimanche à 0h46, une explosion afraper soudainement le 17 rue de Tivoli à Marseille.\n"
     ]
    },
    {
     "name": "stderr",
     "output_type": "stream",
     "text": [
      "/Users/azanella/Library/Python/3.9/lib/python/site-packages/whisper/transcribe.py:115: UserWarning: FP16 is not supported on CPU; using FP32 instead\n",
      "  warnings.warn(\"FP16 is not supported on CPU; using FP32 instead\")\n"
     ]
    },
    {
     "name": "stdout",
     "output_type": "stream",
     "text": [
      " La ministre de la République s'adresse à l'Oprenant, et c'était donné sans jour pour appaiser leur colère. Une colère immense et pour cause. Ça réforme des retraités et était laboré sans négociation avec les partenaires sociaux, sans dialogue avec les forces politiques, promulgués, sans le vote des représentants du peuple, pour promulgués, malgré une mobilisation massive, des salariés du privé et du public, des jeunes comme des retraités de la France, dans sa diversité. Depuis le premier jour de la mobilisation contre cette réforme, cette France s'est levée quand on le recule, là je n'ai pas à la retraite. Elle s'est mobilisée pour revendiquer le droit de vivre, dignement, à tout âge. Elle s'est insurgée contre le 471, contre le 443, contre le 493, contre toutes vos manœuvres pour imposer votre réforme. Elle a aussi espéré un référendum, quatre mois de mobilisation pour exprimer une soif de justice sociale et de respect hier. Le président de la République a une fois de plus, était dans le déni de cette réalité, dans la droite ligne des propos tenues par différents membres de gouvernement. Il a osé prétendre que cette France mobilisée n'était pas la France que votre gouvernement serait trop intelligent pour être compris de cette France-là. Les sans-journes sont que provocations de gras s'arrêtait-vous-là, cessait de piétingner le peuple et ses représentants, cessait de faire croire que l'extrême droite serait la seule opposition respectable, cessait de diaboliser vos opposants le 6 juin, sera le grand dévou de cette France qui vous encombre. Le 8 juin nous porteront ici même la voie de cette France en votant l'abrogation de la réforme des retraites. Ce vote vous ne pourrez l'empêcher, vous ne pourrez l'empêcher, même si ce dont êtes votre voter l'eau. Merci beaucoup, Monsieur le président. Un peu de silence, il vous plaît. La parole est à madame la première ministre.\n"
     ]
    },
    {
     "name": "stderr",
     "output_type": "stream",
     "text": [
      "/Users/azanella/Library/Python/3.9/lib/python/site-packages/whisper/transcribe.py:115: UserWarning: FP16 is not supported on CPU; using FP32 instead\n",
      "  warnings.warn(\"FP16 is not supported on CPU; using FP32 instead\")\n"
     ]
    },
    {
     "name": "stdout",
     "output_type": "stream",
     "text": [
      " Je vous ai dit que la situation est très importante. Je vous ai dit que la situation est très importante. Je vous ai dit que la situation est très importante. Je vous ai dit que la situation est très importante. Madame la présidente, monsieur le ministre Bruno Le Mère, les prix flambent. Et la situation devient insupportable pour les Français. Ils sont contraintes de débourser de plus en plus pour subvenir à leurs besoins vitaux, telles que l'énergie, les carburants, est surtout la nourriture. Des millions de Français ont faim et doivent faire des sacrifices. C'est des choix difficiles pour simplement boucler les fêtes de moi. Et ne s'en sortent plus. 4 Français sur 10 déclarent sauter un repas. Les Bheures sociaux ont constaté une augmentation des impénieurs de 10%. Les pattes deviennent du caviar. Et les grandes enseignes y apposent des antivoles. Même les associations carrécatives, au d'humal, a se fournir d'aliment. De base.\n"
     ]
    },
    {
     "name": "stderr",
     "output_type": "stream",
     "text": [
      "/Users/azanella/Library/Python/3.9/lib/python/site-packages/whisper/transcribe.py:115: UserWarning: FP16 is not supported on CPU; using FP32 instead\n",
      "  warnings.warn(\"FP16 is not supported on CPU; using FP32 instead\")\n"
     ]
    },
    {
     "name": "stdout",
     "output_type": "stream",
     "text": [
      " Merci, Madame la présidente, monsieur le député. Alors, vous avez raison, la hausse des prix, elle impacte les ménages les plus fragiles. C'est une réalité. Et cette situation et la conséquence directe, bien sûr, de l'inflation alimentaire qui existe aujourd'hui, et je crois que face à ces difficultés, le gouvernement agit depuis l'été 2022. Premièrement, avec 46 milliards d'euros dépensés par l'État pour contenir la hausse des prix de l'énergie, qui a un impact direct sur la limitation, bien entendu, ce qui a permis de faire en sorte que l'inflation soit parmi les plus basse d'Europe. Avec la revalorisation anticipée de 4 % des prestations complétées au 1er avril, pour porter l'augmentation à 5,6 % par an, avec le trimestre antiinflation que porte actuellement, brûnant le maire et Olivier Grégoire, et avec en matière d'alimentation une action double. D'abord, le renforcement exceptionnel des moyens des associations d'aide alimentaire. Les crédits de l'État ont ainsi triplé depuis 2022. Et oui, à bon, ils ont triplé pour atteindre 156 millions d'euros.\n"
     ]
    },
    {
     "name": "stderr",
     "output_type": "stream",
     "text": [
      "/Users/azanella/Library/Python/3.9/lib/python/site-packages/whisper/transcribe.py:115: UserWarning: FP16 is not supported on CPU; using FP32 instead\n",
      "  warnings.warn(\"FP16 is not supported on CPU; using FP32 instead\")\n"
     ]
    },
    {
     "name": "stdout",
     "output_type": "stream",
     "text": [
      " Les armoules ont su cédé les images d'un camp unis où les pays du G7 et le président Zelensky ont réaffiré avec force leur parfate unité face à l'agression de Ukraine par la Russie. Depuis que cette guerre a commencé au porte de l'Europe, il y a au moins une autre d'espoir dans cette sinistre partition. Les alliés du G7 ne sont jamais apparu aussi sûrs de leur unité. Unis, dans le soutien humanitaire que l'Europe ne cesse d'apporter aux Ukrainians, unis par un renforcement inédit des capacités biléteres européennes et dans lequel la France prend toute sa part comme en témoin de le projet de loi de programmation militaire que nous examinons cette semaine. Unis aussi dans les sanctions que nous continuons d'infliger au régime russe, nous, européens, en parfait coordination avec les États-Unis et les membres du G7. Dans le cadre de mon rapport sur les sanctions internationales, j'étais à Bruxelles et à Washington la semaine dernière. Et les acteurs qui nous avons auditionnés ont un animement reconnu que jamais nos régimes de sanctions avaient été aussi bien coordonnées entre nos deux continents. Cette unité entre les pays du G7, elle s'arrête malheureusement au porte de cet émicycle. À l'extrême droite, d'abord, le leader du rassemblement national est passé d'une servitude financière à Vladimir Poutine à une connevance coupable, tout aussi grave, en dénonçant je la cite, des sanctions économiques qui ne servent à rien. Et à l'extrême gauche, le leader des insoumis nostalgiques de la guerre froide, se tient prêt à relancer son projet d'alliance altermondialiste et entretient par son obsession anti-américaine, un clivage norsude qui pousse à la division et qui fait le bonheur du crème-lein. Pourtant, la réalité que vous refusez de reconnaître c'est que ces sanctions ont permis de frapper durment les forces de guerre russe. Aussi, madame la ministre, pouvez-vous nous détailler les nouvelles mesures annoncées par l'Union européenne dans le cas de ce 11ème paquet de sanctions dédiées notamment au contournement. Merci.\n"
     ]
    },
    {
     "name": "stderr",
     "output_type": "stream",
     "text": [
      "/Users/azanella/Library/Python/3.9/lib/python/site-packages/whisper/transcribe.py:115: UserWarning: FP16 is not supported on CPU; using FP32 instead\n",
      "  warnings.warn(\"FP16 is not supported on CPU; using FP32 instead\")\n"
     ]
    },
    {
     "name": "stdout",
     "output_type": "stream",
     "text": [
      " de la province. Il y a des gens qui sont en train de faire le changement. Sachant qu'il s'agit de sujets qui concernent également le ministère de l'Intérieur, puisque notre particularité résulte du fait que ces services de transferment et des scorts sont assurés à la fois par l'argent d'armouris et la police nationale. Les syndicats pénitentiaires ont exprimé leur souhait d'assurer ces missions pour plus d'efficacité avec les moyens qui s'imposent. Et par cette occasion, Monsieur le ministre, nous allons nous remonter au tramarein avant saisis votre cabinet pour travailler sur la question de la justice dans nos territoires.\n"
     ]
    },
    {
     "name": "stderr",
     "output_type": "stream",
     "text": [
      "/Users/azanella/Library/Python/3.9/lib/python/site-packages/whisper/transcribe.py:115: UserWarning: FP16 is not supported on CPU; using FP32 instead\n",
      "  warnings.warn(\"FP16 is not supported on CPU; using FP32 instead\")\n"
     ]
    },
    {
     "name": "stdout",
     "output_type": "stream",
     "text": [
      " le plan qui a été présenté par le président de République à Savine Le Lac, c'est d'abord le retour d'expérience de l'été dernier, c'est la suite des rapports de la Cour des comptes et c'est la suite des rapports parlementaires y compris celui de juin 2018 auquel nous fait référence et qui était très complet sur le sujet.\n"
     ]
    },
    {
     "name": "stderr",
     "output_type": "stream",
     "text": [
      "/Users/azanella/Library/Python/3.9/lib/python/site-packages/whisper/transcribe.py:115: UserWarning: FP16 is not supported on CPU; using FP32 instead\n",
      "  warnings.warn(\"FP16 is not supported on CPU; using FP32 instead\")\n"
     ]
    },
    {
     "name": "stdout",
     "output_type": "stream",
     "text": [
      " le sujet, ce n'est pas d'être d'un côté. Le sujet, c'est de ceux qui dénonce toutes les violences et toutes les intimidations, qui préfèrent les agressions ou décisions justices, qui préfèrent les insultes ou les mises en cause, plutôt que le suivi des processus démocratiques. Et le simple fait que vous soyez en train de réagir pendant que je réponds ça, t'es moine du caractère trouble que vous avez par rapport à ces questions.\n"
     ]
    },
    {
     "name": "stderr",
     "output_type": "stream",
     "text": [
      "/Users/azanella/Library/Python/3.9/lib/python/site-packages/whisper/transcribe.py:115: UserWarning: FP16 is not supported on CPU; using FP32 instead\n",
      "  warnings.warn(\"FP16 is not supported on CPU; using FP32 instead\")\n"
     ]
    },
    {
     "name": "stdout",
     "output_type": "stream",
     "text": [
      " Vous serez un peu plus crédible si aux lieux de faire preuve, d'idéologie, sur les propositions que vous avons faites pour protéger nos compatriotes, vous aviez soutenu les mesures du gouvernement et de la première ministre pour le pouvoir d'achat des plus modestes.\n"
     ]
    },
    {
     "name": "stderr",
     "output_type": "stream",
     "text": [
      "/Users/azanella/Library/Python/3.9/lib/python/site-packages/whisper/transcribe.py:115: UserWarning: FP16 is not supported on CPU; using FP32 instead\n",
      "  warnings.warn(\"FP16 is not supported on CPU; using FP32 instead\")\n"
     ]
    },
    {
     "name": "stdout",
     "output_type": "stream",
     "text": [
      " Monsieur le ministre, lorsque vous êtes venu à un anci tout récemment, vous avez fait état des problèmes rencontrés à Strasbourg, précisément sur ce passage au canon, mais cela ne doit pas nous décourager. Et vous avez évoqué l'idée de fournir en Lorraine un véritable RR du Cion Lorain qui irait être élevé.\n"
     ]
    },
    {
     "name": "stderr",
     "output_type": "stream",
     "text": [
      "/Users/azanella/Library/Python/3.9/lib/python/site-packages/whisper/transcribe.py:115: UserWarning: FP16 is not supported on CPU; using FP32 instead\n",
      "  warnings.warn(\"FP16 is not supported on CPU; using FP32 instead\")\n"
     ]
    },
    {
     "name": "stdout",
     "output_type": "stream",
     "text": [
      " contraint à la démission à la suite de l'attaque inexcusable de son domicile par le de la part de l'extrême droite. Nous devons condamner toutes les violences en particulier celle contre les maires et les locaux s'attaquer aux élus, s'attaquer aux vivants-sembes, s'attaquer aux fondements de notre contre- associale, s'attaquer à la République.\n"
     ]
    },
    {
     "name": "stderr",
     "output_type": "stream",
     "text": [
      "/Users/azanella/Library/Python/3.9/lib/python/site-packages/whisper/transcribe.py:115: UserWarning: FP16 is not supported on CPU; using FP32 instead\n",
      "  warnings.warn(\"FP16 is not supported on CPU; using FP32 instead\")\n"
     ]
    },
    {
     "name": "stdout",
     "output_type": "stream",
     "text": [
      " Ma question s'adresse à Madame la Premier ministre. Madame la Premier ministre, le groupe liat a déposé dans son créneau une proposition de loi visant à l'abrogation du recul de l'âge de départ à l'artreinte et à la création d'une conférence de financement du système de retraite. Cette proposition de loi a été déclarée recevable par le bureau de l'Assemblée nationale et a été inscrit le 8 juin à l'ordre du jour de notre Assemblée. Ce matin, le président de la Commission des Finances saisit par la présidente de la Commission des Affaires sociales l'a également déclaré recevable. Cette proposition de loi visait un double objectif, permettre enfin à l'Assemblée nationale de se prononcer sur la hausse de deux années de l'âge légale de départ à l'artreinte. Et deuxièmement de lancer une conférence de financement du système de retraite pour aboutir à des propositions équilibrées socialement et financièrement. Elle pourrait être intégrée dès 2024 dans la prochaine loi de financement de la sécurité sociale. Certains rumeurs, Madame la Première ministre, se courent selon lesquels le gouvernement pourrait avoir recours au vote bloqué de l'artreinte-quatre-trois de la Constitution. D'autres rumeurs évoquent une éventuelle nouvelle réunion du bureau de l'Assemblée nationale pour écarté cette proposition. Il y a encore d'autres rumeurs. Aussi, ma question est toute simple. Le gouvernement, l'Estratil, l'Assemblée nationale, se prononcer sur cette proposition de loi ou aura-t-il de nouveaux recours à des dispositions visant à en empêcher le vote ? Je vous remercie. Je vous remercie.\n"
     ]
    },
    {
     "name": "stderr",
     "output_type": "stream",
     "text": [
      "/Users/azanella/Library/Python/3.9/lib/python/site-packages/whisper/transcribe.py:115: UserWarning: FP16 is not supported on CPU; using FP32 instead\n",
      "  warnings.warn(\"FP16 is not supported on CPU; using FP32 instead\")\n"
     ]
    },
    {
     "name": "stdout",
     "output_type": "stream",
     "text": [
      " Merci Madame la Présidente, Madame la Première ministre, Madame Messieurs les ministres, cherchers collègues. La mort du maire de signe, les agissements glacents contre le maire de Sabrévin, les actes de violence, d'intimidation dont sont victimes quotidiennement les élus locaux, départementaux régionaux, nationaux, européens, sont inacceptables. Est-il normal dans une démocratie que certains de nos collègues, nos enfants, nos conjoints, nos conjoints, et parfois peur d'être reconnu d'être prise à partie ou tout simplement de rentrer chez eux chez nous. Mes chers collègues, je voudrais rappeler que dans notre pays, il n'existe pas de bon ou de mauvais élus selon nos éthiquettes, selon les décisions que nous prenons. Nous avons tous été élus au niveau local national par le peuple et les élections sont là pour nous sanctionner ou nous renouveler. La violence ne serait jamais être justifiée. Je suis consciente que des mesures ont été prises récemment pour mieux sanctionner de tels actes, notamment grâce à la loi engagement et proximité, que aujourd'hui des associations nationales peuvent se constituer partie civile, mais on le voit, nous devons montrer plus de fermetés, comme l'avésuétés, naïma, mouchou notamment lorsque de tels actes sont commis en récidive. Nous devons être plus fermes face à toutes les violences, mais nous devons aussi permettre aux élus de mieux se protéger, d'être mieux protégés, qui osera demain se présenter aux élections si nous devenons tous des cibles, qui osera relever demain les défis auxquels nous le savons, nous allons tous être confrontés, qu'il soit écologique, numérique, démographique, si la violence devient la réponse à toutes nos volontés de changements. L'annonce de la création d'un centre d'analysé de lutte et d'atteintes aux élus est une bonne initiative, mais nous devons aller plus loin. Quelle moyen pourront nous mettre en place collectivement pour que notre démocratie continue à vivre dans nos villes et dans nos villages?\n"
     ]
    },
    {
     "name": "stderr",
     "output_type": "stream",
     "text": [
      "/Users/azanella/Library/Python/3.9/lib/python/site-packages/whisper/transcribe.py:115: UserWarning: FP16 is not supported on CPU; using FP32 instead\n",
      "  warnings.warn(\"FP16 is not supported on CPU; using FP32 instead\")\n"
     ]
    },
    {
     "name": "stdout",
     "output_type": "stream",
     "text": [
      " La première ministre, monsieur les ministres de l'agriculture et du commerce extérieur, à partir du 25 avril, la France ne pourra plus exporter sa production série ailleurs dans certains pays très demandeurs en dehors de l'Europe, conséquent d'une décision de l'un de 16, l'autorité de sécurité alimentaire qui interdit l'utilisation dans notre pays de la FOSFIN, un insecte ici d'utiliser pour traiter les cargaisons de sérielles dans lesquels de bateaux.\n"
     ]
    },
    {
     "name": "stderr",
     "output_type": "stream",
     "text": [
      "/Users/azanella/Library/Python/3.9/lib/python/site-packages/whisper/transcribe.py:115: UserWarning: FP16 is not supported on CPU; using FP32 instead\n",
      "  warnings.warn(\"FP16 is not supported on CPU; using FP32 instead\")\n"
     ]
    },
    {
     "name": "stdout",
     "output_type": "stream",
     "text": [
      " pour autant forcer de constater quand dégradant la note de la France à à moins, Fitch n'a fait que le triste constat d'une situation catastrophique. Cette situation nous avons 16 de l'aidernoncé. 600 milliards de détent plus sous le premier qu'un téglum à Macron et 150 milliards de plus parents. Un déficit record de la balance commerciale, un niveau de prélèvement obligatoire jamais atteint, alors que l'ensemble de nos services plus luxe dégrade, une inflation qui pèse lourdement sur les classes populaires et moyennes. Mais surtout, la gence souligne l'impasse politique issu du passage au forceuseuse, une réforme des retraites injustes et injustifiés, source d'un chaos social qui ne peut que nourrir à notre économie, ce n'est pas faute de vous avoir prévenu. Vous êtes pourtant dans le dénis cette réalité et vous avez indiqué vouloir poursuivre des réformes structurantes. Mais comment mener quelques réformes que ce soit dans ce contexte? Comment poursuivre quelque chose qui n'a pas commencé? Car à part entretenir le chaos social, vous refusez les réformes de notre paye aux réportant besoin pour s'apaiser, taxez les surprofiles financiers, lutter efficacement contre les frauds, mettre fin à la submersion liatoire, sortir du marché européen l'électricité. Vous ne me réjusquissiez, dans le dogros pays, ce du libre échange, qui revient nos agriculteurs et frais de la réindustrialisation. Contre l'inflation, vous refusez de réduire la têvasse sur l'énergie et de la supprimer sur les produits de première nécessité. Monsieur le ministre peut sortir de la passe quand elle est vouée écouter les Français et prendre les vrais mesures d'ailleurs adoptées par d'autres pays que vous propose Marie-Lopaine, Rlaçonbement national. Je vous remercie.\n"
     ]
    },
    {
     "name": "stderr",
     "output_type": "stream",
     "text": [
      "/Users/azanella/Library/Python/3.9/lib/python/site-packages/whisper/transcribe.py:115: UserWarning: FP16 is not supported on CPU; using FP32 instead\n",
      "  warnings.warn(\"FP16 is not supported on CPU; using FP32 instead\")\n"
     ]
    },
    {
     "name": "stdout",
     "output_type": "stream",
     "text": [
      " Merci, Madame la Présidente, Madame les députés, Monsieur le député, Mlle la Cresse, l'ambition d'HRMétropolitin indiquée par le Prendre la République à la fin de l'année dernière, est une immense ambition pour notre pays, une immense ambition pour développer nos transports publics, pour faire face à la transition écologique, pour réduire notre dépendance à la voiture, parce que beaucoup de nos compatriotes voudraient trouver des transports publics qui leur permettent de faire les trajets entre le domicile et le travail, mais ne peuvent pas aujourd'hui ou pas dans des conditions satisfaisantes.\n"
     ]
    },
    {
     "name": "stderr",
     "output_type": "stream",
     "text": [
      "/Users/azanella/Library/Python/3.9/lib/python/site-packages/whisper/transcribe.py:115: UserWarning: FP16 is not supported on CPU; using FP32 instead\n",
      "  warnings.warn(\"FP16 is not supported on CPU; using FP32 instead\")\n"
     ]
    },
    {
     "name": "stdout",
     "output_type": "stream",
     "text": [
      " Depuis des mois, une crise sans précédent du logement s'annoncé. Elle est là. Madame la première ministre. Tous les acteurs le disent. Les marchés des transactions immobilières et je l'ai. Celui des locations est asphyxiées. Le mal logement s'aggrave en France. Depuis six ans, il manque au moins 100 000 logements en France. Cela touche tous les territoires et tous les types de logement y compris le logement social. On est en manque cruel. Alors, bien sûr, les causes sont multiples, mais elles se cumulent. Les dos d'intérêt ont augmenté. Les crédits se sont recérés. Et les banques sont devenus extrêmement frileuses. Le foncier se fait rare. Ce sont les blocages des projets en zone réunus. Les zones rurales qui sont les plus touchées. Mais c'est aussi les pays luis qui n'avance pas. Et que dire des fameuses zanes, ce zéro artificialisation net, qui de plus de plus devient des aimes, le zéro ou zone en merdement maximal. Oui, on en est là. C'est aussi la question des DPE, dont la fiabilité de plus en plus en cause avec des mesures nouvelles qui leur sont adossées, avec les passeoirs énergétiques qui retirent du marché des dizaines de milliers de logements par an dans les mois et les années qui viennent. C'est encore des difficultés avec ma prime rénov, avec des particuliers, des entreprises qui attendent des paiements souvent alléatoires et réduits. Non, je t'ai plu. La coupe est pleine et il paraît que l'Europe va en rajouter une couche. La crise du logement est bien là. Alors, tout cela entretient un fort ressentiment social. Nos concitoyens n'empêvent plus. Le président de la République au début de son premier mandat avait annoncé un choc sur l'offre de logements. Il est là le choc, mais pas dans le sens qui était souhaité. Alors, Madame la Premier ministre, que comptez-vous faire pour soutenir le logement et des nos concitoyens qui en ont tant besoin?\n"
     ]
    },
    {
     "name": "stderr",
     "output_type": "stream",
     "text": [
      "/Users/azanella/Library/Python/3.9/lib/python/site-packages/whisper/transcribe.py:115: UserWarning: FP16 is not supported on CPU; using FP32 instead\n",
      "  warnings.warn(\"FP16 is not supported on CPU; using FP32 instead\")\n"
     ]
    },
    {
     "name": "stdout",
     "output_type": "stream",
     "text": [
      " Cela aura re-present un risque immédiat pour notre filière céréalière et notre commerce extérieur. La décision de l'ancès porte ainsi une atteinte grave à l'export d'une filière stratégique pour la France. Insigne, monsieur le ministre, comment le gouvernement qu'on t'y réagir à cette décision, endfins de ne pas laisser les rééliers sans solution et de ne pas faire subir à la France des contraintes à l'export qui seraient dévastratrices ? Je vous remercie.\n"
     ]
    },
    {
     "name": "stderr",
     "output_type": "stream",
     "text": [
      "/Users/azanella/Library/Python/3.9/lib/python/site-packages/whisper/transcribe.py:115: UserWarning: FP16 is not supported on CPU; using FP32 instead\n",
      "  warnings.warn(\"FP16 is not supported on CPU; using FP32 instead\")\n"
     ]
    },
    {
     "name": "stdout",
     "output_type": "stream",
     "text": [
      " en interdisant les dispositifs sonores pour tatifs sans avoir peur du ridicule ou les cartons rouges au stade de France. Mais Madame, la première ministre, la page n'est pas tournée. Votre projet brise des vies. Il n'aura pas fallu attendre trois semaines après sa promulgation pour que votre contre-réforme des retraites et des conséquences dramatiques. Je pense en particulier à ces femmes, à ces hommes, qui avaient négocié leur départ à la retraite anticippée, avec leurs employeurs, attendons avec impatience ce droit au repos, ces moments au côté de leurs familles et au sein d'associations. C'est le cas de l'ivier, de la société de Rano, alors que son départ à la retraite a été célébrée et ayant des projets tout tracés, il devra choisir entreprendre un congé sans solde le privon de revenu ou revenir travailler durant une année.\n"
     ]
    },
    {
     "name": "stderr",
     "output_type": "stream",
     "text": [
      "/Users/azanella/Library/Python/3.9/lib/python/site-packages/whisper/transcribe.py:115: UserWarning: FP16 is not supported on CPU; using FP32 instead\n",
      "  warnings.warn(\"FP16 is not supported on CPU; using FP32 instead\")\n"
     ]
    },
    {
     "name": "stdout",
     "output_type": "stream",
     "text": [
      " Monsieur le ministre, la connaissance et l'éducation permettent l'expression de la liberté dans une démocratie. En transmettant leur savoir et en valorisant les compétences des élèves, les enseignants participent à la construction de notre société. Ils permettent à nos enfants de préparer leur avenir. La revalorisation des salaires du corps enseignant que vous avez annoncé, la mission de la ministre et l'expression concrète de ces justes reconnaissances. Garant des valeurs de la République qui nous unissent, nos professeurs sont depuis plusieurs années en première ligne quand la laïcité est attaqué. Une enquête publiée le 8 mars dernier par le SNP-DEN-UNSA, a révélé qu'un tiers des personnels de direction confrontés à des atteintes à la laïcité ne faisaient pas remonter ces signalements. C'est pour répondre à cette urgence républicaine et au demande des enseignants que le Conseil des sages de la laïcité a été créé en 2018, en exercant, pour l'éducation nationale, une mission de conseil d'expertise et d'études relative à la mise en oeuvre du principe de laïcité. C'est dans ce contexte que vous avez annoncé le 14 avril dernier, la nomination de 5 nouveaux membres au sein du Conseil des sages et avait promulgué un arrêté. Modifiant son fonctionnement et réduisant son autonomie. Parmi les nouvelles nominations, figure-selle d'Allem Policard, dont certains propos ont suscité des inquiétudes quand il a précisé notamment ne pas défendre, je cite, la dimension émancipatrice de la laïcité qui consiste à imposer la lumière et du préférer sa dimension anglo-saxonne. La ligne du président de la République et de notre majorité éclaire faire bénéficier à chacun de nos enfants de la force du principe de laïcité et de l'universalisme républicain. Monsieur le ministre, pouvez-vous délors nous indiquer votre feuille de route dans la matière? Je vous remercie.\n"
     ]
    },
    {
     "name": "stderr",
     "output_type": "stream",
     "text": [
      "/Users/azanella/Library/Python/3.9/lib/python/site-packages/whisper/transcribe.py:115: UserWarning: FP16 is not supported on CPU; using FP32 instead\n",
      "  warnings.warn(\"FP16 is not supported on CPU; using FP32 instead\")\n"
     ]
    },
    {
     "name": "stdout",
     "output_type": "stream",
     "text": [
      " et le discours fondateur de Robert Fuman. Depuis maintenant, six ans sans de la majorité, nous portons une d'exigences d'action et de refondation du projet européen à travers un agrandat de souveraineté proposé au français par le président de la République. Et durant ces six années, nous avons avancé résolument sur ce chemin, du plan de relance européen, à la stratégie d'acquisition des vaccins, en passant par la lutte contre le dérèglement climatique. Et bien sûr, notre réponse commune face à la vision russe en Ukraine, l'Europe a montré ces dernières années, sa capacité à résister, à protéger, et même à dépasser ces dogmes. Mais nous avons besoin de continuer à transformer l'Europe de la coopération en Europe de la puissance. Nous sommes à ce moment charnière de notre histoire où nous devons fort de nos réussites, nous projeter dans l'avenir du modèle européen et de son autonomie stratégique. Nous sommes dans un temps où les menaces géopolitiques, l'urgence climatique, les évolutions technologiques majeures, donnent à l'Europe une responsabilité particulière. Nous sommes aussi dans un temps où les ennemis de l'Europe restent nombreux, y compris dans cet émicycle, où certains, alors que Vladimir Poutine en se vours, menace encore l'Europe et nos valeurs, préfèrent dépenser toute leur énergie pour dénigrer le drapeau européen et à travers lui l'unité européenne. Cela, à l'extrême droite et à l'extrême gauche, joue un jeu dangereux, car l'Europe indépendante est souveraine et le meilleur levier de puissance et de protection. Ma dame, la première ministre, le 9 mai 2022, le président de la République, concluait la conférence sur l'avenir de l'Europe. Cette conférence se sont les étagées nœurs de l'Europe avant la révolution européenne de la puissance que nous appelons nos vœux et qui est absolument essentielle, si nous voulons répondre aux enjeux de notre époque, et notamment celui de l'intégration de l'Ukraine au sein de l'Union européenne. Ma dame, la première ministre, dans ce siècle, redevenu incertain. Nous voulons continuer à faire de l'Europe, à continent le continent le plus écologique, le plus innovant, le plus protecteur, celui qui défend les valeurs de liberté et de démocratie. Pouvez-vous nous adéquer la feuille de route du gouvernement pour éparvenir? Je vous remercie. Merci beaucoup, monsieur le président. La parole est à ma dame, la première ministre.\n"
     ]
    },
    {
     "name": "stderr",
     "output_type": "stream",
     "text": [
      "/Users/azanella/Library/Python/3.9/lib/python/site-packages/whisper/transcribe.py:115: UserWarning: FP16 is not supported on CPU; using FP32 instead\n",
      "  warnings.warn(\"FP16 is not supported on CPU; using FP32 instead\")\n"
     ]
    },
    {
     "name": "stdout",
     "output_type": "stream",
     "text": [
      " Monsieur le ministre de l'Intérieur, vous vous trompez de cible. Nous allons vivre un été infernal. Tous les voyants sont au rouge. Ces chrèches hivernales n'appréhaticent au pub à feu de forêt précoce. Et vous, pendant ce temps, GPS-SPion, caméra de surveillance, marquage codé sur la peau. Alors, il n'y a pas d'argent magique. Mais qu'est ce qu'il y en a quand il s'agit de réprimer les militants ? Vous mettez au service d'intérêt privé, un arsenal judiciaire et policier sans précédent. Une gable-gide argent publique pour protéger une poignée de privilégés. Comme vous avez réprimé les syndicats et les mouvements ouvriers, votre offensive contre les militants qui défendent nos biens communs est inédites. Alors, avec vous sans surprise, à chaque fois, c'est la même de vis. Dur, avec les gens, faibles, avec les puissants. Vous ne jouez pas avec le feu. Vous faites pire que ça. Vous démarrez les incendies. Et vous vous déchaînez contre nous parce que vous avez peur. Vous avez peur parce que nous sommes de plus en plus nombreux à nous soulever. Et pas que des grands méchants radicaux, comme vous le prétendez. Nous sommes infirmières, scientifiques, ouvriers, étudiants, philosophes, agriculteurs, artistes. Vous avez peur de nous, nous les raisonnables, nous, les défenseurs du vivant. Alors, comme d'habitude, vous allez surjouer la caricature, flortée avec le mensonge. Nous serions les violents, nous serions les irresponsables. Mais la vérité, monsieur le ministre, c'est que les militants que vous traquiez et arrêtés, ont le courage que vous n'avez pas. Le courage de dire non à la gros business, de dire non à ceux qui ne veulent pas perdre leur privilège, le courage de protéger nos biens communs. Alors, monsieur le ministre, quand allez-vous enfin faire preuve de courage, quand allez-vous changer de cible? Merci.\n"
     ]
    },
    {
     "name": "stderr",
     "output_type": "stream",
     "text": [
      "/Users/azanella/Library/Python/3.9/lib/python/site-packages/whisper/transcribe.py:115: UserWarning: FP16 is not supported on CPU; using FP32 instead\n",
      "  warnings.warn(\"FP16 is not supported on CPU; using FP32 instead\")\n"
     ]
    },
    {
     "name": "stdout",
     "output_type": "stream",
     "text": [
      " Depuis des mois, le peuple se mobilise contre votre réforme des retraites injustes et unitile.\n"
     ]
    },
    {
     "name": "stderr",
     "output_type": "stream",
     "text": [
      "/Users/azanella/Library/Python/3.9/lib/python/site-packages/whisper/transcribe.py:115: UserWarning: FP16 is not supported on CPU; using FP32 instead\n",
      "  warnings.warn(\"FP16 is not supported on CPU; using FP32 instead\")\n"
     ]
    },
    {
     "name": "stdout",
     "output_type": "stream",
     "text": [
      " La première ministre a dit qu'il y a une interview au Figaro du lundi 24 avril dernier. Le président de la République demande être aux Français d'être passionnés et d'attendre la fin de l'été afin de voir l'inflation baissée. La première ministre jusqu'à quand, enfin, abuserait-vous de la patience des Français ?\n"
     ]
    },
    {
     "name": "stderr",
     "output_type": "stream",
     "text": [
      "/Users/azanella/Library/Python/3.9/lib/python/site-packages/whisper/transcribe.py:115: UserWarning: FP16 is not supported on CPU; using FP32 instead\n",
      "  warnings.warn(\"FP16 is not supported on CPU; using FP32 instead\")\n"
     ]
    },
    {
     "name": "stdout",
     "output_type": "stream",
     "text": [
      " Je vous remercie pour vous remerciement parce que, effectivement, soignante pendant la crise, j'ai été vacciné des janviers 2021. Et je sais pertinemment que des soignants, parce qu'ils avaient attraper la COVID, dit, immuniser son déjà retourner dans les services pour lesquels vous navires, il n'y a rien prévu, pas de modalité ni rien. Pourquoi faudrait-il une modalité aujourd'hui, il meurt à le ministre de la Santé ? C'est totalement incohérent. Ces personnes n'ont pas eu de salaire pendant plusieurs mois, vous les avez suspendus maintenant, réintégrer les.\n"
     ]
    },
    {
     "name": "stderr",
     "output_type": "stream",
     "text": [
      "/Users/azanella/Library/Python/3.9/lib/python/site-packages/whisper/transcribe.py:115: UserWarning: FP16 is not supported on CPU; using FP32 instead\n",
      "  warnings.warn(\"FP16 is not supported on CPU; using FP32 instead\")\n"
     ]
    },
    {
     "name": "stdout",
     "output_type": "stream",
     "text": [
      " Monsieur le ministre, l'enfer est pas vée de bonnes intentions. Ce ne sont pas vos intentions que nous fousstigeons mais bien la méthode.\n"
     ]
    },
    {
     "name": "stderr",
     "output_type": "stream",
     "text": [
      "/Users/azanella/Library/Python/3.9/lib/python/site-packages/whisper/transcribe.py:115: UserWarning: FP16 is not supported on CPU; using FP32 instead\n",
      "  warnings.warn(\"FP16 is not supported on CPU; using FP32 instead\")\n"
     ]
    },
    {
     "name": "stdout",
     "output_type": "stream",
     "text": [
      " Notre pays fait face à un défi immense à leur horizon 2040-2050, garantir à nos enfants une énergie en quantité suffisante et impris abordable. Face à la réfection et au rancherisme inéluctable, des énergies fossiles, c'est la préservation de notre modèle démocratique, économique et social qui est en jeu. Il revient donc à notre génération de mener à bien une passionnante aventure industrielle et humaine sur le temps long. Les discours du président de la République, au Crozo, à Belford, puis les deux lois successivement votées dans cet émicycle sous votre impulsion avec des majorités nettes, sur l'accélération des énergies de rouvlables d'une part et d'une cléaire d'autre part, ont posé déjà l'on important. Je veux ici rendre hommage aux femmes et aux hommes engagés dans cette grande aventure industrielle, soudeur, tuyoteur, chaude renier, que nous entreprises se disputent cherement dans tous les bassins d'emplois, de brest à s'un azeur comme ailleurs. Dans les années à venir, nous devons répondre simultanément à la montée en puissance du nucléaire, le PR2, petit réacteur modulaire, de la filière etolienne, hydrolyenne, à une croissance vigoureuse de la construction navale et de l'industrie métallologique en général. Nous risquons de manquer de cerveau et de bras. Les entreprises, filières et groupements font leur part grâce à l'apprentissage et la formation interne, les collectivités territoriales, les chambres consulaires, les accompagnes, les réformes de l'apprentissage, du lycée professionnel contribue à faire bouger les lignes, peut-être, mon qu'on a encore de nouvelles écoles techniques. Comment aborder-vous ce défi fondamental de l'attractivité, de la formation et du maintien des compétences dans les filières nucléaires, navales et de la métallologie ? J'ai eu merci.\n"
     ]
    },
    {
     "name": "stderr",
     "output_type": "stream",
     "text": [
      "/Users/azanella/Library/Python/3.9/lib/python/site-packages/whisper/transcribe.py:115: UserWarning: FP16 is not supported on CPU; using FP32 instead\n",
      "  warnings.warn(\"FP16 is not supported on CPU; using FP32 instead\")\n"
     ]
    },
    {
     "name": "stdout",
     "output_type": "stream",
     "text": [
      " Merci beaucoup, Madame la présidente, Madame Zemméciel et des putais, monsieur le député foritier. Vous avez raison, la fausserie n'est un produit phytosanitaire qui est utilisé principalement sur le blé et qui est requi pour les exportations par un certain nombre de pays que nous livrons, notamment les pays du magrais, mais aussi certains pays d'Afrique, comme la Côte d'Ivoire ou le Sénégal, et ces plusieurs millions de tonnes de blés qui sont concernés.\n"
     ]
    },
    {
     "name": "stderr",
     "output_type": "stream",
     "text": [
      "/Users/azanella/Library/Python/3.9/lib/python/site-packages/whisper/transcribe.py:115: UserWarning: FP16 is not supported on CPU; using FP32 instead\n",
      "  warnings.warn(\"FP16 is not supported on CPU; using FP32 instead\")\n"
     ]
    },
    {
     "name": "stdout",
     "output_type": "stream",
     "text": [
      " Mme la ministre, votre réponse est incroyable. Est-ce que vous vous rendez compte que du coup vous êtes dans une situation où la même université interdit Magasinsky et ça, personne ne trouve à dire, c'est tout de même inquiétant, et de l'autre côté, l'apologie du terrorisme ne semble pas vous déranger. Vous êtes ministre de l'enseignement supérieur et de l'archère, vous devez assurer la légalité de tout cela, la liberté académique doit effectivement être défendue, mais la liberté académique doit aussi faire en sorte que l'on respecte évidemment ce qui se passe à l'intérieur de cette université. Vous, même vous avez pu constater que trois jours après, qu'est-ce qui s'est passé ?\n"
     ]
    },
    {
     "name": "stderr",
     "output_type": "stream",
     "text": [
      "/Users/azanella/Library/Python/3.9/lib/python/site-packages/whisper/transcribe.py:115: UserWarning: FP16 is not supported on CPU; using FP32 instead\n",
      "  warnings.warn(\"FP16 is not supported on CPU; using FP32 instead\")\n"
     ]
    },
    {
     "name": "stdout",
     "output_type": "stream",
     "text": [
      " La question s'adresse à Gabriel Atal, ministre des comptes publics depuis la loi du 23 octobre 2018, portant sur la lutte contre la fraude fiscale sociale et édoignère, le gouvernement a engagé une action forte contre toutes les formes de fraude grâce à l'augmentation des capacités d'enquête à disposition de l'autorité judiciaire, avec la création des services d'enquête judiciaire des finances, l'adoption de mesures de publicité en cas de fraude fiscale grave, la possibilité de poursuivre les intermédiaires, la révision du mode de calcul des amendes pénales, en cas de fraude fiscale, sans compter la suppression du verrou de Bercy. L'action du gouvernement a été volontaire et résolu, un succès, puisqu'à la rapportée 14,6 milliards d'orant en 2022, 1,2 milliards de plus qu'en 2021, et presque deux fois plus qu'en 2020. En dépit de ce succès évident, on sait que la lutte contre la fraude est à combat permanent de nouveaux mécanismes frauduleux apparaissent sur la TVA, par exemple, avec la numérisation de l'économie. ministre Dédouane, vous avez engagé avec le ministre de l'économie, Bruno Le Mère, une réflexion visant à définir une stratégie d'ensemble de l'action des doigts de française et à consolider nos instruments de lutte contre la fraude douanière, le contournement de droit à l'importation, la contrefaçon, l'utilisation des actifs numériques,\n"
     ]
    },
    {
     "name": "stderr",
     "output_type": "stream",
     "text": [
      "/Users/azanella/Library/Python/3.9/lib/python/site-packages/whisper/transcribe.py:115: UserWarning: FP16 is not supported on CPU; using FP32 instead\n",
      "  warnings.warn(\"FP16 is not supported on CPU; using FP32 instead\")\n"
     ]
    },
    {
     "name": "stdout",
     "output_type": "stream",
     "text": [
      " La question s'adresse maintenant à Monsieur le ministre de l'Intérieur. Depuis plusieurs jours, les caméras sont braquées sur Mayotte, où l'opération Gwambucho est infiase côte totale. À Mayotte, l'immigration à contrôler et l'insécurité permanente appelle indénieablement des solutions et des moyens. Mais pour endiguer la misère, le mal logement, le chômage, le manque d'eau, des centaines de policiers ne sauraient suffire. La France, pays des droits de l'homme n'est pas à la hauteur ici. Au lieu de mesure concrète et efficace sur le long terme, vous atisez les violences. Vous bafouez les droits humains. Quelle impréparation. Les expulsions sont jugées irregulières. Les commorts refusent de récupérer ces ressortissants et les appelent à la haine et à la violence multiplie. Oui, les maorées ont droit de vivre en sécurité. Ils ont droit à des conditions de logement descentes. Ils ont droit à une vie descente. Mais jamais, jamais le groupe GDR ne se résignera à l'usage de la force et de la violence abusive. Contre les femmes, des hommes et des enfants, dont le sol tort et de n'être pané sur la bonne île. Je suis inquiète pour maillot et pour la réunion, qui assistent impuissantes. Un désastre dont elle ne sera pas épargnée. Monsieur le ministre, quel vrai solution avait vous prévu? Pour les mineurs isolées, pour ces centaines de personnes que les commorts refusent, pour ces familles sans toi? Quelles solutions pour les maoraises et les maorais qui sont endroits d'espérer mieux de leur pays? De notre pays?\n"
     ]
    },
    {
     "name": "stderr",
     "output_type": "stream",
     "text": [
      "/Users/azanella/Library/Python/3.9/lib/python/site-packages/whisper/transcribe.py:115: UserWarning: FP16 is not supported on CPU; using FP32 instead\n",
      "  warnings.warn(\"FP16 is not supported on CPU; using FP32 instead\")\n"
     ]
    },
    {
     "name": "stdout",
     "output_type": "stream",
     "text": [
      " Un jeune homme de 27 ans est hospitalisé brûlé au deuxième degré. Quand il fait pour se retrouver dans ce lit d'hôpital, son métier vécu de l'Uniforme, il a participé aux opérations de maintien de l'ordre, de protection des personnes et des biens lors de la manifestation du premier mapari. C'est là qu'il a été touché par un cocktail molotov, le blessant grèvement.\n"
     ]
    },
    {
     "name": "stderr",
     "output_type": "stream",
     "text": [
      "/Users/azanella/Library/Python/3.9/lib/python/site-packages/whisper/transcribe.py:115: UserWarning: FP16 is not supported on CPU; using FP32 instead\n",
      "  warnings.warn(\"FP16 is not supported on CPU; using FP32 instead\")\n"
     ]
    },
    {
     "name": "stdout",
     "output_type": "stream",
     "text": [
      " La parole est à madame Sandra Rodole pour le groupe écologist. De 129%. C'est l'augmentation des bénéficiaires de l'aide alimentaire sur les 10 dernières années en France. Soit une multiplication par 3 du nom des bénéficiaires avec une augmentation drastique ces deux dernières années. Évidemment, vous le savez bien, les 3-4 de ces bénéficiaires quasiment sont des femmes. La parole est à madame Sandra Rodole pour le groupe écologist. C'est l'augmentation de la parole.\n"
     ]
    },
    {
     "name": "stderr",
     "output_type": "stream",
     "text": [
      "/Users/azanella/Library/Python/3.9/lib/python/site-packages/whisper/transcribe.py:115: UserWarning: FP16 is not supported on CPU; using FP32 instead\n",
      "  warnings.warn(\"FP16 is not supported on CPU; using FP32 instead\")\n"
     ]
    },
    {
     "name": "stdout",
     "output_type": "stream",
     "text": [
      " Je dis dernier, les corps d'une femme et de ces deux enfants ont été retrouvés sans vie à leur domicile tué de multiples coups de couteau dans la circonscription du président Marlex. Alors même que cette femme s'était présentée la veille aux commissariat de police. Dans la matinée de l'Ondi, le procureur de la République de Chartre a annoncé la mise en détention provisoire de l'ex conjoint de la victime à cette heure présumée coupable ce trip homicide. Un homme déjà condamné à un an en prisonnement en septembre 2021. Pour des faits de violences envers sa femme et sa fille et qui était en période de probation. Comment la plainte de son épouse n'a-t-elle pas pu donner la lerte. Les hommages se sont multipliés durant tout le week-end mais aujourd'hui les mônes suffisent plus. 36 féministes par conjoint ou ex conjoint ont été dénombrés depuis le début de l'année en France contre 24 à la même époque l'enpassée. Les chiffres s'agravent sans que nous soyons en capacité d'inverser la tendance alors même que le président Macron en avait fait une grande cause du quinquennade en 2017. Ce drame sordide a décimé une famille et pose la question récurrente de la protection des femmes victimes de violences et de l'éfficacité des politiques publiques mises en place aujourd'hui. Le dernier rapport du Conseil de l'égalité en janvier dernier souligné l'insuffisance de l'action des pouvoirs publics en la matière. Monsieur le ministre l'histoire serait pète dramatiquement. Les effets d'annonce ne suffisent plus écouter ces femmes et mettaient en place un véritable arsenal juridique capable de leur offrir la protection que notre République leur doit. Combien de victimes devront nous encore déplorer pour que l'action soit efficace. Merci beaucoup ma chère collègue.\n"
     ]
    },
    {
     "name": "stderr",
     "output_type": "stream",
     "text": [
      "/Users/azanella/Library/Python/3.9/lib/python/site-packages/whisper/transcribe.py:115: UserWarning: FP16 is not supported on CPU; using FP32 instead\n",
      "  warnings.warn(\"FP16 is not supported on CPU; using FP32 instead\")\n"
     ]
    },
    {
     "name": "stdout",
     "output_type": "stream",
     "text": [
      " de dire régulièrement depuis le deux hôtes, je pense que je les soutiens beaucoup plus que vous, au post-frontière, parce que moi, j'y suis régulièrement et je suis là à les écouter dans des difficultés terribles, parce que ce que vous oubliez de dire, c'est qu'on ne réglant pas le problème migatoire. Tous les jours, vous les mettez en danger et régulièrement, il y a des accidents et les forces de l'ordre souffrent beaucoup plus que vous ne le pensez sur place. Alors arrêter d'être un compétent, venez sur place et réglez le problème.\n"
     ]
    },
    {
     "name": "stderr",
     "output_type": "stream",
     "text": [
      "/Users/azanella/Library/Python/3.9/lib/python/site-packages/whisper/transcribe.py:115: UserWarning: FP16 is not supported on CPU; using FP32 instead\n",
      "  warnings.warn(\"FP16 is not supported on CPU; using FP32 instead\")\n"
     ]
    },
    {
     "name": "stdout",
     "output_type": "stream",
     "text": [
      " Je vous apprends rien, vos propos ont énormément déçu. Cette déception est partagée par tous de la fondation à Bépière aux artisans de la fédération du bâtiment, en passant par le monde à Chélème. Vos propositions ne sont pas du tout à la hauteur de la crise violente qui touche les idées de la crise. C'est un décembre qui est un décembre qui est un décembre qui est un décembre qui est un décembre qui est un décembre. C'est un décembre qui est un décembre qui est un décembre. Elle a une nouvelle démarche depresse pour la crise violente qui touche secteur. En supprimant le dispositiv panel, vous tuez l'investissement locatif privé. En supprimant le prêt à taux de zéro sur la construction neuvre sur 90 % de notre territoire, vous portez préjudices au monde rural au pays de L'Ovid-Ovid-Moyenne et vous accentuez la facture de notre pays. En multipliant les normes et en réduisant les aides, ce que vous avez fait. La propriété de leurs résidences, c'est une sécurité pour leurs vieux jours. Je vous rappelle que 90% des Français a spiravif dans une maison individuelle. Alors, plutôt, écoutez-nous, madame la première ministre. Notre présidente groupe Olivier Marlekes, vous l'a dit mardi dernier, mettez à moratoire sur le zan, le fameux zero-artifisialisationnette. Les Français, ils ont les deux été les Français ne connaissent pas encore ce sigle, mais non mer, le connaissent et savent que ce sigle est en train de figer complètement le développement de leur commune. Madame la Premier ministre sortez de cette culture de gauche qui rejette l'accession à la propriété et qui refuse la maison individuelle et prenez des mesures du genre.\n"
     ]
    },
    {
     "name": "stderr",
     "output_type": "stream",
     "text": [
      "/Users/azanella/Library/Python/3.9/lib/python/site-packages/whisper/transcribe.py:115: UserWarning: FP16 is not supported on CPU; using FP32 instead\n",
      "  warnings.warn(\"FP16 is not supported on CPU; using FP32 instead\")\n"
     ]
    },
    {
     "name": "stdout",
     "output_type": "stream",
     "text": [
      " Merci, Madame la Président, Madame la ministre. Je me garde de bien de critiquer l'incriticable réforme du lycée professionnel à l'annoncer à saintes déjà un signant soir. Aussi, je me contenterai de dire que nous avons de la chance d'avoir un président qui promet l'excellence, rien de moins, au plus défavorisé sur le plan scolaire. Un président qui a changé de méthode après l'absence totale, découte et le mépris, la concertation. Mais sans des syndicats un peu ou très oubliés et des professionnels un peu aidé voir remplacer par une startup. Et rendez-vous compte de la chance que nous avons un milliard d'euros pour la voie professionnelle qu'on pourrait presque appeler la voie royale. Et il va payer les élèves d'un euro 43 à 2,86 euros de l'heure. Mais ce sera toujours bon à prendre pour faire adhérer les familles les plus pauvres à la vision présidentielle. En plus, les élèves auront des mentors, peut-être des retraités bénévoles. Ah non, il et elle seront au boulot et beaucoup moins disponibles de ce fait. J'ai failli oublier le super pacte proposé aux enseignants du moins celles et ceux qui resteront WELP parce que Monsieur le ministre en verra un certain nombre de proves voire ailleurs. Et puis les élèveront du temps en plus en terminal. Enfin, en moins en réalité puisqu'on avance l'examen. Mais de l'argent en plus, s'ils arrêtent là lorsqu'olarité bien peu émanci patrice pour finir sur des stages pendant que les autres profitront et bien du dernier trimestre. Et pour être au diapasant de la réforme, je citrerai le président Macron. Nous ne sommes pas au rendez-vous de la promesse que nous devrons à ces élèves. Car peut-être que tout cela n'est qu'une opération de com bien huillée pour se refaire une image chaussiale après le fiasco des retraites. Tout ça n'est qu'un cadeau de plus fait aux entreprises, n'est qu'un miroir aux alouettes pour les élèves et leurs familles. Donc, Madame la ministre, je sais que vous allez nous rassurer avec vos éléments de langage. Mais je vous demande quand même, dites-moi que cette grande cause nationale n'est pas en fin de compte qu'une instrumentalisation de l'enseignement professionnelle que nous récusons de toutes nos forces.\n"
     ]
    },
    {
     "name": "stderr",
     "output_type": "stream",
     "text": [
      "/Users/azanella/Library/Python/3.9/lib/python/site-packages/whisper/transcribe.py:115: UserWarning: FP16 is not supported on CPU; using FP32 instead\n",
      "  warnings.warn(\"FP16 is not supported on CPU; using FP32 instead\")\n"
     ]
    },
    {
     "name": "stdout",
     "output_type": "stream",
     "text": [
      " En 2023, la fondation avait pierre, montre que lors de la séparation conjugale, la précarisation des conditions de logement est bien plus fréquente pour les femmes. Parmi les 420 couples, qui se séparent chaque année, il est malheureusement fréquent que la femme soit contrainte de quitter le logement conjugal au familial, seul ou avec leurs enfants, qui sont parfois très jeunes. Mais pour les femmes, en instance de divorce ou de séparation, cherchant à se loger dans le parc social, c'est un véritable parcours du combatant qui s'annonne. Elle doit tout d'abord fournir une preuve de leur volonté de se séparer ou de divorcer, et que cette décision soit effective et que le processus de séparation est engagé. La réglementation encadrant les attributions dans le parc social indique qu'en cas de divorce, c'est l'ordonnance de non-conciliation établie par le juge aux affaires familiales qui faits foi. Ce document est parfois difficile à obtenir et la demande de logement ne peut intervenir avant que la procédure de divorce était butée et que la demande de ce soit mise en lien avec un avocat. Les associations ainsi que certains biaires sociaux reconnaissent que la réglementation actuelle ne prend pas suffisamment en compte la phase transitoire. Des justifices attives sont également nécessaires pour se désolidariser du revenu fiscal commun. Lorsque les ressources du couple déplaent, dépasse le plafond requi pour accéder à un logement social. Quand bien même, l'ex-conjointe n'aurait pas de ressources propres.\n"
     ]
    },
    {
     "name": "stderr",
     "output_type": "stream",
     "text": [
      "/Users/azanella/Library/Python/3.9/lib/python/site-packages/whisper/transcribe.py:115: UserWarning: FP16 is not supported on CPU; using FP32 instead\n",
      "  warnings.warn(\"FP16 is not supported on CPU; using FP32 instead\")\n"
     ]
    },
    {
     "name": "stdout",
     "output_type": "stream",
     "text": [
      " Alors, bien sûr, nous devons aller plus loin construire avec les professionnels de santé, avec les élus locaux des solutions adaptées à chaque territoire. Et ce week-end, comme je l'avais annoncé, un décret a été publié qui permet aux agences régionales de santé d'adapter les règles aux besoins spécifiques des territoires. Notre volonté est clair, les règles nationales ne doivent pas faire obstacle aux solutions locales.\n"
     ]
    },
    {
     "name": "stderr",
     "output_type": "stream",
     "text": [
      "/Users/azanella/Library/Python/3.9/lib/python/site-packages/whisper/transcribe.py:115: UserWarning: FP16 is not supported on CPU; using FP32 instead\n",
      "  warnings.warn(\"FP16 is not supported on CPU; using FP32 instead\")\n"
     ]
    },
    {
     "name": "stdout",
     "output_type": "stream",
     "text": [
      " Il n'y a pas d'un côté des violences qui sont légitimes et de l'autre des violences qui sont illégitimes. En minimisant certaines et en voulant les opposer, vous légitimer des comportements qui n'ont pas leur place dans la République.\n"
     ]
    },
    {
     "name": "stderr",
     "output_type": "stream",
     "text": [
      "/Users/azanella/Library/Python/3.9/lib/python/site-packages/whisper/transcribe.py:115: UserWarning: FP16 is not supported on CPU; using FP32 instead\n",
      "  warnings.warn(\"FP16 is not supported on CPU; using FP32 instead\")\n"
     ]
    },
    {
     "name": "stdout",
     "output_type": "stream",
     "text": [
      " Je pense que vous reconnaîtrez, monsieur le député Lépino, pendant toute la crise du Covid, nous avons accompagné, soutenu, protégé les entreprises, que ce soit dans la viticulture, Weyer. Vous reconnaîtrez, même si votre président nous fait le reproche d'avoir trop dépensé pour protéger les entreprises, que nous avons pris en charge l'activité par ciel, le report de charge et ses fameux prêts garantis par l'Etat. Je vous confirme que nous n'avons laissé tomber aucune entreprise par la crise du Covid. Et que nous ne laissons tomber aucune entreprise après la crise du Covid, n'ont pas sauvé les entreprises en 2020 et 2021 pour laisser tomber en 2022 et 2023. C'est pour ça que tout d'entreprises, qui ont des difficultés financières particuliers à qu'elles soient dans la viticulture, ou Weyer. Peu à les demander au près du médiateur du crédit, l'allongement de la durée de son PGE, de 6 ans à 10 ans, comme vous le souhaitez et comme nous l'avons mis en place depuis maintenant plusieurs mois. Quant à demander à l'Etat de prendre la charge de ses prêts garantis, là pour le coup, je serai creuser les déficits, creuser la dette, vous conviendrez avec moi, que ça n'est pas la solution la plus approprille.\n"
     ]
    },
    {
     "name": "stderr",
     "output_type": "stream",
     "text": [
      "/Users/azanella/Library/Python/3.9/lib/python/site-packages/whisper/transcribe.py:115: UserWarning: FP16 is not supported on CPU; using FP32 instead\n",
      "  warnings.warn(\"FP16 is not supported on CPU; using FP32 instead\")\n"
     ]
    },
    {
     "name": "stdout",
     "output_type": "stream",
     "text": [
      " quelques semaines plus tôt le 22 mars un incendie criminelle à son domicile menacé de le tuer ainsi que sa famille Nous voulons saluer ici cet homme C'était lui local son engagement pour ses concitoyens\n"
     ]
    },
    {
     "name": "stderr",
     "output_type": "stream",
     "text": [
      "/Users/azanella/Library/Python/3.9/lib/python/site-packages/whisper/transcribe.py:115: UserWarning: FP16 is not supported on CPU; using FP32 instead\n",
      "  warnings.warn(\"FP16 is not supported on CPU; using FP32 instead\")\n"
     ]
    },
    {
     "name": "stdout",
     "output_type": "stream",
     "text": [
      " Plusieurs médias ont révélé au terme de 9 mois dans quête que ce sont vos proches qui auraient touché des dizaines de milliers d'euros. C'est moralement et juridiquement condannable, singulièrement en moment où, quand de nos associations souffrent de sous-financement, et où certaines d'entre elles sont criminalisées dans le cadre de votre loi séparatisme.\n"
     ]
    },
    {
     "name": "stderr",
     "output_type": "stream",
     "text": [
      "/Users/azanella/Library/Python/3.9/lib/python/site-packages/whisper/transcribe.py:115: UserWarning: FP16 is not supported on CPU; using FP32 instead\n",
      "  warnings.warn(\"FP16 is not supported on CPU; using FP32 instead\")\n"
     ]
    },
    {
     "name": "stdout",
     "output_type": "stream",
     "text": [
      " de l'ordre. Si il y a un groupe ou siège des députés qui ont été policiers, jandarmes, sapeurs pompiers et qui ont assuré la sécurité des Français pendant des années souvent au péril de leur vie, c'est celui du rassemblement national. Malgré vos annonces et votre communication, votre politique de sécurité est un échec. Vous êtes présent partout, méfiquace nulle part. Par contre, monsieur le ministre, vous gardez bien de dire que les démissions s'enchaînent dans la police et la jandarmerie depuis 2020. C'est du jamais vu. Et sera cela vous remmalalaises car c'est la responsabilité de votre gouvernement. Et ce sont les Français qui ont payé le prix. Selon la Cour des comptes, la police nationale a connu 10840 départ en 2021. La jandarmerie 15 000 et la situation a empiré en 2022. Les forces de l'ordre, doute de vous, non plus confiance en votre politique et partent, magrer l'amour pour leur profession au service du pays. Les motifs sont tellement prévisibles. La présomption de culpabilité et des conditions de travail déplorables. Le laxisme judiciaire, le rouleau compresseur médiatique à chaque intervention sensible. Une gestion humaine catastrophique. Et deux ans de plus, ça se prend des bouts de pétanque du mortier avec votre bénédiction pour un salaire d'apn 2000 euros par mois. Mais, cher collecte, vous vous levez pour soutenir les forces de l'ordre. Et dans le même temps, vous refusez de voter une loi de notre collecte naïmammoutchou pourtant de votre majorité pour mieux lutter contre la récidive et ainsi, à l'ouvrir les peintes pour les auteurs d'agression envers les forces de l'ordre et les élus. Donc la prochaine fois, réfléchissez aux conséquences que cela engendre. Ma question est donc simple, monsieur le ministre. Quelle est-vous faire pour la fidélisation et ainsi remotiver les troupes ?\n"
     ]
    },
    {
     "name": "stderr",
     "output_type": "stream",
     "text": [
      "/Users/azanella/Library/Python/3.9/lib/python/site-packages/whisper/transcribe.py:115: UserWarning: FP16 is not supported on CPU; using FP32 instead\n",
      "  warnings.warn(\"FP16 is not supported on CPU; using FP32 instead\")\n"
     ]
    },
    {
     "name": "stdout",
     "output_type": "stream",
     "text": [
      " puisque c'est parce que ces pays n'importaient que cette molécule que nous l'avons mettant sur les cérules. Et donc on va le faire dans ce cadre-là. Le droit, la demande des pays n'importe, elle veut le faire aussi au nom de la vocation exportatrice qui est celle de notre pays, vous l'avez rappelée madame, elle va le faire aussi au nom de l'exigence qui est la nôtre de faire en sorte que la sécurité sanitaire, la sécurité alimentaire et la souveraineté alimentaire puissent exister en Europe et dans le monde. Elle va le faire enfin parce que l'Allemagne le fait pour la gérée, la Bulgarie le fait pour la gérée, la Roumanie le fait pour la Côte d'Ivoire, il n'y a aucune raison que nous dérogions à ce qu'ils font d'autres pays européens dans leur démarche d'experts. Donc madame.\n"
     ]
    },
    {
     "name": "stderr",
     "output_type": "stream",
     "text": [
      "/Users/azanella/Library/Python/3.9/lib/python/site-packages/whisper/transcribe.py:115: UserWarning: FP16 is not supported on CPU; using FP32 instead\n",
      "  warnings.warn(\"FP16 is not supported on CPU; using FP32 instead\")\n"
     ]
    },
    {
     "name": "stdout",
     "output_type": "stream",
     "text": [
      " Depuis quelques mois, la gêne conversationnelle d'openaïe, chat de gpt, fait le buzz dans les médias, et même dans cet assemblée, pour laquelle il a déjà écrit un amendement, débattu lors du projet de loi sur les Juson l'Empique et Paralympique, et une question aura le poser au ministre de la Transition numérique, la semaine dernière dans cet émicycle. Face à la montée, en performance extrêmement rapide de cette technologie et au caractère inéluctable de son usage, il devient en effet urgent que l'Etat régule ce nouvel outil, mais aussi qu'ils sens saisis et qu'ils ont saisis les opportunités.\n"
     ]
    },
    {
     "name": "stderr",
     "output_type": "stream",
     "text": [
      "/Users/azanella/Library/Python/3.9/lib/python/site-packages/whisper/transcribe.py:115: UserWarning: FP16 is not supported on CPU; using FP32 instead\n",
      "  warnings.warn(\"FP16 is not supported on CPU; using FP32 instead\")\n"
     ]
    },
    {
     "name": "stdout",
     "output_type": "stream",
     "text": [
      " Je souhaite aborder aujourd'hui la décision du groupe Le Duf de renoncer à la construction du nouvel usine Brideur, fabrication de Viennoiserie en Bretagne. Louis Le Duf, voici un enfant du pays qui emploie 30 000 personnes dans le monde, qui fait le choix d'investir 250 millions d'euros dans notre pays et ainsi créé 500 emploies directs qui induit 1500 emploies indirects. Le gouvernement français souhaite réindustrialiser la France comment passer de la parole aux actes. Ce cadet-coles pose aux décideurs les problématiques du moment artificialisation des sols, consommation de l'eau, pratique durable liée à l'impôt export. Est-il acceptable de laisser le groupe Le Duf partir, investir ailleurs dans l'UE alors que nous sommes soumis au même enjeu de transition écologique et d'économie décarbonée dans tous les établances de l'UE ? Enfin, la persistance des recours et des contentieux à perpétuité, voulu par quelques activistes, peuvent-il avoir raison de l'initiative entrepreneurial et de la volonté politique de concilier, économie et écologie alors que toutes les procédures ont été respectées et les autorisations administratives accordées ?\n"
     ]
    },
    {
     "name": "stderr",
     "output_type": "stream",
     "text": [
      "/Users/azanella/Library/Python/3.9/lib/python/site-packages/whisper/transcribe.py:115: UserWarning: FP16 is not supported on CPU; using FP32 instead\n",
      "  warnings.warn(\"FP16 is not supported on CPU; using FP32 instead\")\n"
     ]
    },
    {
     "name": "stdout",
     "output_type": "stream",
     "text": [
      " Vous serez un peu plus crédible dans votre indignation si vous avez voté les mesures que nous avons adoptées pour le pouvoir vachat des ménages et plus modestes. Vous serez un peu plus crédible. Vous et toute la nupelle, c'est toute la France insomise. Si vous aviez voté la revalorisation des appels, la revalorisation des minima sociaux, la revalorisation des bourses étudiantes dont vient de parler Sylvie Rotayot, le repas un euro pour les boursiers. Vous serez un peu plus crédible dans votre indignation sur les travailleurs. Si vous avez voté la démnité carburant pour les travailleurs, pour ceux qui travaillent, pour ceux qui sont les plus modestes.\n"
     ]
    },
    {
     "name": "stderr",
     "output_type": "stream",
     "text": [
      "/Users/azanella/Library/Python/3.9/lib/python/site-packages/whisper/transcribe.py:115: UserWarning: FP16 is not supported on CPU; using FP32 instead\n",
      "  warnings.warn(\"FP16 is not supported on CPU; using FP32 instead\")\n"
     ]
    },
    {
     "name": "stdout",
     "output_type": "stream",
     "text": [
      " Monsieur le ministre, en 2022, la France a exporté près de 30 mégatons de Céréales se plaît sans ainsi au 7e remontial des exportateurs de Céréales Brute. La France s'impose comme premier producteur européen de Céréales et premier exportateur de blé de l'Union européenne. Pourtant, à partir du 25 avril, la France ne pourra plus exporter sa production Céréale-Yère en dehors de l'Europe. Cette date marque en l'interdiction de l'utilisation de FOSFIN pour traiter les cargaisions de Céréales dans lesquelles des bateaux.\n"
     ]
    },
    {
     "name": "stderr",
     "output_type": "stream",
     "text": [
      "/Users/azanella/Library/Python/3.9/lib/python/site-packages/whisper/transcribe.py:115: UserWarning: FP16 is not supported on CPU; using FP32 instead\n",
      "  warnings.warn(\"FP16 is not supported on CPU; using FP32 instead\")\n"
     ]
    },
    {
     "name": "stdout",
     "output_type": "stream",
     "text": [
      " Merci, Madame la Présidente, Madame les députés, Madame la députée Yadan. Comme vous le savez sans doute, c'est moi qui est demandé à ce que une publication des chiffres mensuelles, des atteintes à la ICT, soit faites, c'est ce que nous faisons moi après moi depuis le mois de septembre. Et les chiffres sont affichés sur le site du ministère de l'Education nationale. C'est moi également en accord avec la première ministre et le président de la République, qui est souhaité là où c'est nécessaire renforcer les équipes valeurs de la République. Nous les avons renforcé, c'est aujourd'hui plus de 650 personnes à travers tout le territoire qui répond aux sollicitations qui forment également les personnels. Nous avons accentué la formation des personnels plus de 5 000 chefs d'établissement et leurs adjoints ont été formés depuis le mois de novembre, qui ont compris à propos des remontés, car en effet, il faut faire remonter les atteintes à la ICT, et je peux vous dire que nous progressions en la matière, particulièrement depuis le mois de janvier. C'est moi qui est renforcé les mesures disciplinaires en cas d'atteintes à la ICT en diffusant des circulaires très claires auprès des chefs d'établissement. C'est nous qui avons aussi au ministère de l'Education nationale, institutionnalisé le Conseil des sages de la ICT et des valeurs de la République en lui donnant une acise juridique qu'il n'avait pas jusqu'à présent, en confirmant ces membres, et compris la présidente et en confirmant les principes même qui régissent l'action et le travail de ce conseil très précieux et avec qui j'échange régulièrement. Donc, madame la députée, vous m'appeliez à réaffirmer cet engagement sans faille, je le fais volontiers en rappelant, et c'est ça ce sur quoi je voudrais insister que le principe de la ICT n'est pas seulement une crainte, c'est pas seulement une sanction, la laïcité doit aussi être appréciée, elle doit être aimée. Comme le disait, Jean-Joresse, la République doit être laïque et sociale, elle ne sera.\n"
     ]
    },
    {
     "name": "stderr",
     "output_type": "stream",
     "text": [
      "/Users/azanella/Library/Python/3.9/lib/python/site-packages/whisper/transcribe.py:115: UserWarning: FP16 is not supported on CPU; using FP32 instead\n",
      "  warnings.warn(\"FP16 is not supported on CPU; using FP32 instead\")\n"
     ]
    },
    {
     "name": "stdout",
     "output_type": "stream",
     "text": [
      " qui résume la Macronie. Depuis des mois, vous nous répétez que l'inflation va ralentir, que le pouvoir d'achat va augmenter. Vous nous annoncez maintenant une baisse d'éprits de la alimentaire de 5%. Quel est le honte ? Quels le honte de mentir aussi effrontément au français ? Même TF1 peine à comprendre vos calculs et vos sources. Mançonge, encore, quand la ministre Olivier Grégoire nous annonce une baisse de 13% d'éprits dans le Pagné anti-inflation, annonce aux sites aux ridiculisés par les associations de consommateurs compétentes que vous insultez désormais. Mais l'inché, lui-même indique que les prix de la alimentaire explosent avec en moyenne près de 15% d'inflation sur ces produits, jusqu'à 30% sur l'avion, 12% sur les pattes. Je vous invite à aller dans un super marché pour faire des courses et non des photos, pour faire votre plein de courses et non pour boire les 12 paroles d'ingéance de la distribution. Trop de mensonge entraîne la contradiction. Pourquoi, monsieur le ministre de l'économie, se sont obligés d'intimer l'ordre au distributeur de baisser leurs prix d'ici fin juin en réouvrant de vennes négociations si les prix ont déjà baissé comme la première ministre nous l'indiquait ? Madame, la première ministre, la baisse des prix de la alimentaire ne se décrète pas par 49.3. Monsieur le ministre de l'économie, la baisse des prix de la alimentaire ne se décide pas dans un roman dont vous écrivez l'histoire. Un capable, ce sont ces mots qui reviennent dans la bouche des Français sur les marchés et dans les supermarchés quand ils voient le montant de leurs pleins de courses explosés et qu'ils vous entendent. Un capable d'agirificatement, vous montez encore sur l'impact positif pour les Français de la proposition de Marine Le Pen, de supprimer la TVA sur 100 produits de première nécessité. Alors, Madame, la première ministre, quand allez-vous arrêter de mentir au Français, quand allez-vous reconnaître l'échec de votre politique sur le pouvoir d'achat, l'inflation et surtout quand allez-vous penser aux Français, allez protéger et les aimer.\n"
     ]
    },
    {
     "name": "stderr",
     "output_type": "stream",
     "text": [
      "/Users/azanella/Library/Python/3.9/lib/python/site-packages/whisper/transcribe.py:115: UserWarning: FP16 is not supported on CPU; using FP32 instead\n",
      "  warnings.warn(\"FP16 is not supported on CPU; using FP32 instead\")\n"
     ]
    },
    {
     "name": "stdout",
     "output_type": "stream",
     "text": [
      " Face à l'explosion des prix des billets d'avion, tous les élus des outre-merces tirent depuis plusieurs mois la sonnette d'alarme. Tous des noms, à l'unisson, le cadre artificiel de cette flambe. Tous vous apportent aussi des solutions de baussence, mais alors que l'été approche. Alors que nos étudiants cherchent des espérément retrouver leur famille, y'a une bouge si sonnet que les prix augmentent. Pour contrer cette explosion tarifère, une idée soi-disant lumineuse, refaisse au face depuis quelques jours. Cette idée, c'est celle de la création d'une compagnie air-automère. Une super compagnie fusionnant tous les acteurs du secteur, un mastodote aérien qui se partage réellement le ciel avec air-france pour les vols à destination de nos outre-merres. Monsieur le ministre, une telle vision à de croix equité, elle inquiène d'automère plus que ce projet serait oublié par un fond d'investissement qui va privilégier, bien sûr, les profits des compagnies au pouvoir d'achat des familles. Vous le savez, la diminution de la concurrence n'a jamais fait baisser les prix bien au contraire. Ma question d'exemple, le gouvernement,\n"
     ]
    },
    {
     "name": "stderr",
     "output_type": "stream",
     "text": [
      "/Users/azanella/Library/Python/3.9/lib/python/site-packages/whisper/transcribe.py:115: UserWarning: FP16 is not supported on CPU; using FP32 instead\n",
      "  warnings.warn(\"FP16 is not supported on CPU; using FP32 instead\")\n"
     ]
    },
    {
     "name": "stdout",
     "output_type": "stream",
     "text": [
      " Il n'y aura pas de guérison sans retrait de la loi.\n"
     ]
    },
    {
     "name": "stderr",
     "output_type": "stream",
     "text": [
      "/Users/azanella/Library/Python/3.9/lib/python/site-packages/whisper/transcribe.py:115: UserWarning: FP16 is not supported on CPU; using FP32 instead\n",
      "  warnings.warn(\"FP16 is not supported on CPU; using FP32 instead\")\n"
     ]
    },
    {
     "name": "stdout",
     "output_type": "stream",
     "text": [
      " l'Europe c'est aujourd'hui deux choses, deux choses essentielles, la paix pour vivre ensemble et la signergie pour vivre libre. Les Français aiment l'Europe quand il regarde le passé, parce qu'à la soumettre en terme au cauchemar de la guerre éternelle qui a empoisonné leur histoire. Les Français aiment l'Europe quand il regarde l'avenir, car ils savent que seule l'Union fait la force. Mais cette avenir est inédie. Je voudrais dire révolutionnaire. Au cours des 20 dernières années, l'Europe est confrontée dans l'ordre géopolitique, écologique, démographique, technologique, écologique et démocratique, ainsi des filles majeures. Elle n'y a répondu que de façon partielle. Malgré les appels répéter du président de la République, dans la foulée de son discours de la Sorbonne, les Européens sont globalement incapables de répondre aux trois questions qui déterminent les réponses, qui, quoi, comment? Qui sont les Européens? C'est la question l'identité commune. Quoi? Que voulons-nous faire ensemble et que voulons-nous continuer de faire séparément? Comment? C'est la question d'un modèle institutionnel contesté mais iranplaçable. On ne bâtirait pas l'Europe de demain sur le détricotage de l'Europe d'hierre. Nos concitoyens retrouveront foi dans le projet commun à la condition de ce voire offrir simultanément une vision claire et des actions fortes. Nous devons tenir ensemble les deux bouts de la chaîne. Nous avons besoin d'un cap et d'un calendrier. Un cap pour choisir. Un calendrier pour acheter.\n"
     ]
    },
    {
     "name": "stderr",
     "output_type": "stream",
     "text": [
      "/Users/azanella/Library/Python/3.9/lib/python/site-packages/whisper/transcribe.py:115: UserWarning: FP16 is not supported on CPU; using FP32 instead\n",
      "  warnings.warn(\"FP16 is not supported on CPU; using FP32 instead\")\n"
     ]
    },
    {
     "name": "stdout",
     "output_type": "stream",
     "text": [
      " Merci, Madame la Présidente. Madame la première ministre. Il y a un peu plus d'un an. Vous étiez nommé première ministre avec ce souhait du président de la République, agir sans relâche pour les Françaises et les Français pour entre autres la santé et la Renaissance démocratique. Ou en êtes-vous de cette promesse sur la santé? Quand on se prépare encore une fois à compter nos morts dans nos hôpitaux ou manque les soignants et fermes les services d'urgence? Ou en êtes-vous de cette promesse sur la santé? Quand les maternités des territoires ruraux périphériques, comme à Carrè, l'Ondernot, Gingan, menaces de fermer temporairement, définitivement, faute d'anesthésistes? Applaudissements La crainte d'un démontellement par service est réelle. À Carrè, presque un tiers d'élis sont fermés, sans garantie de rouvrir. Quand il n'y a pas d'alternative, pas de clinique, pas de médecine de ville suffisante, toute suspension ou fermeture par ciel est une atteinte potentielle à la vie d'autrui, une atteinte grave au pacte républicain. Notre santé et nos hôpitaux brûlent d'un système à bout de souffle que vous ne réformez pas. C'est un renoncement terrible. Les citoyens ou le sentiment d'être abandonnés dans une stratégie de pourissement? Ou en êtes-vous de cette promesse de renouveau démocratique quand votre majorité relative n'a qu'à l'esprit d'éviter un vote sur la réforme des retraites en confondant créativité constitutionnelle et mis en danger des droits du Parlement? Applaudissements Ou en êtes-vous de cette renessence démocratique quand vos budgets ne sont pas adoptés que par 49,3 et qui harçoir encore chaque loi de règlement et rejetée par notre assemblée? Dans le monde réel, celui des collectivités, des associations, des entreprises, quand une assemblée vote contre le qui tu suis en financier, l'exécutie...\n"
     ]
    },
    {
     "name": "stderr",
     "output_type": "stream",
     "text": [
      "/Users/azanella/Library/Python/3.9/lib/python/site-packages/whisper/transcribe.py:115: UserWarning: FP16 is not supported on CPU; using FP32 instead\n",
      "  warnings.warn(\"FP16 is not supported on CPU; using FP32 instead\")\n"
     ]
    },
    {
     "name": "stdout",
     "output_type": "stream",
     "text": [
      " Ce drame, l'utilisation d'un artisanal de guerre, mais au grand jour la banalisation inacceptable d'un violence en vère nos forces de l'ordre, en vère ces femmes et ces hommes qui consacrent leur vie professionnelle et trouvent une partie de leur vie personnelle à l'intérêt général et à la protection de nos concitoyens.\n"
     ]
    },
    {
     "name": "stderr",
     "output_type": "stream",
     "text": [
      "/Users/azanella/Library/Python/3.9/lib/python/site-packages/whisper/transcribe.py:115: UserWarning: FP16 is not supported on CPU; using FP32 instead\n",
      "  warnings.warn(\"FP16 is not supported on CPU; using FP32 instead\")\n"
     ]
    },
    {
     "name": "stdout",
     "output_type": "stream",
     "text": [
      " de la Présidente. Monsieur Béchou, présente la France à plus 4 degrés, 5 fois plus de vagues de chaleur, plus 5 degrés en été, plus de plus extrême. Objectif affiché, sortir la France du déni climatique. C'est pas la France qui est dans le déni. C'est vous. Ça fait 6 ans que ça dure. Nous, nous avons entendu le gêque, quand il nous a été trois ans pour agir. Mais, t'es au France et le CNRS, ce qui s'allarmait parce que le dérèglement va plus vite que prévu. Nous avons vu les incendies. La sèche reste sans précédent. Et vous, qu'avez-vous fait ? Rien. Si pardon. Vous avez démanté notre transport fait au vier, rouvait à une centrale à charbon et fait construire un port métagnié. Et, qu'avez-vous fait quand l'assemblée à voter 12 milliards supplémentaires pour la rénovation thermique et 3 milliards pour le train ? Vous avez tout balayé d'un revers de 49.3. J'entends encore, Gabriel Atal pleurait ici des larmes de crocodiles sur la terrible dette que nous, irresponsables, vous l'avez laissé à la jeunesse. La véritable dette, elle est écologique. Elle s'alloure du tous les jours et elle n'est pas transfertable, pas annulable. Même l'économiste Jean-Pisani Ferrie, artisan du programme des manuels Macron en 2017, dit que le champion de la Terre a perdu un temps fou, qu'il faut investir au moins 66 milliards par an dans la transition écologique et imposer les riches hors depuis 6 ans. Vous êtes acharné à toujours baisser la fiscalité. Toujours aux bénéfices des plus riches et des actionnaires. Avec son inaction et son obsession de la dette, le Macronisme nous envoie dans le mur climatique à toute vitesse. C'est quoi votre projet ? Le suicide collective, pour que vos amis les riches puisse conserver leur mode de vide. C'est ça ? Aujourd'hui, Madame Bonne, elle féminine de vouloir subitement respecter les accords de Paris et nous propose un plan qui n'en est pas un pas de stratégie clair, pas de mesures contraignantes, pas de budget. Nous n'avons pas le temps de vos contradictions, pas le temps de votre responsabilité criminelle. Allez-vous créer un impôt sur les plus riches ? Allez-vous imprunter massivement pour engager la bifurcation écologique ? Nous sommes sans doute devant le plus grand défi que connu l'humanité. C'est notre survie que nous parlons. Vous n'avez rien fait et tout s'emballe. Allez-vous enfin instaurer le quoi qu'il en coûte écologique ?\n"
     ]
    },
    {
     "name": "stderr",
     "output_type": "stream",
     "text": [
      "/Users/azanella/Library/Python/3.9/lib/python/site-packages/whisper/transcribe.py:115: UserWarning: FP16 is not supported on CPU; using FP32 instead\n",
      "  warnings.warn(\"FP16 is not supported on CPU; using FP32 instead\")\n"
     ]
    },
    {
     "name": "stdout",
     "output_type": "stream",
     "text": [
      " La question s'adresse à la première ministre et elle porte sur le rapport de la cour des comptes qui est sorti récemment et qui recommande au pouvoir public d'adopter une stratégie de réduction de notre chef-t-elle en France, ou de l'incongruité de magistrat dont on découvre qu'ils auraient des compétences d'agriculteurs ou d'agronomes, et qui ne font aucune distinction entre les différentes catégories d'élevage et de chef-t-elle. Je note que dans cette recommandation, il n'est nue aucun compte de l'impact sur l'importation de viandes qui se rétirent à tout point de vue de celles que nous conduisons en France, et qui ne tient qu'un compte non plus des effets de bord sur le lait, on continue de vivre dans un pays qui croit qu'il aura toujours du lait et des fromages sans viandes, sur la pollue culture élevage vers lequel devrait conduire notre transition agroéco-élogique, et sur la valorisation d'espace, notamment de moyenne montagne de montagne, sur lesquels il n'existe aujourd'hui aucune alternative. Nous allons tout droit vers une espèce d'épisode à la Black Mirror, où les riches pourraient accéder à Poir, Merlan, Arénier, Surprise, Royale, de Bette, Nouriel et Lelvage, et les pauvres mangent de la viande cellulaire, peut-être un jour produite par des imprimantes alimentaires en libre-service dans des supermarchés. Ma question, Madame la Premier ministre, c'est qu'avez-vous à dire aux éleveurs dans le cadre d'attaques insécentes sur leur métier, et qu'elle est la doctrine du gouvernement en matière de concours des pouvoirs publics, à l'investissement dans l'innovation et la recherche sur les protéines alimentaires et la transition agroéco-élogique des élevages.\n"
     ]
    },
    {
     "name": "stderr",
     "output_type": "stream",
     "text": [
      "/Users/azanella/Library/Python/3.9/lib/python/site-packages/whisper/transcribe.py:115: UserWarning: FP16 is not supported on CPU; using FP32 instead\n",
      "  warnings.warn(\"FP16 is not supported on CPU; using FP32 instead\")\n"
     ]
    },
    {
     "name": "stdout",
     "output_type": "stream",
     "text": [
      " Merci, Madame la Présidente, Madame Zémécio, les députés, Madame la députée, merci de votre question qui vient prolonger celle qui ont été posée avant mon arrivée et auquel a répondu mon collègue Olivier Beste. La France va continuer d'exporter des cérales à l'intention des pays tiers. Elle va le faire y compris après le 25 avril pour une raison simple. La première, c'est qu'elle le fait dans le cadre du droit et du droit européen qui permet de faire un coup sur ce type de députés.\n"
     ]
    },
    {
     "name": "stderr",
     "output_type": "stream",
     "text": [
      "/Users/azanella/Library/Python/3.9/lib/python/site-packages/whisper/transcribe.py:115: UserWarning: FP16 is not supported on CPU; using FP32 instead\n",
      "  warnings.warn(\"FP16 is not supported on CPU; using FP32 instead\")\n"
     ]
    },
    {
     "name": "stdout",
     "output_type": "stream",
     "text": [
      " Merci beaucoup, monsieur le ministre, monsieur Nilo. Monsieur le ministre, je suis désolé, mais je vous parle de prix de transport aérien. On dirait que vous voulez me mener en bateau. Dans tous nos autres maires, la colère grande et les gens ont de plus en plus le sentiment de se faire racheter par les compagnies aériennes organisées en oligopole sous le regard complice de l'étaille de la Commission européenne.\n"
     ]
    },
    {
     "name": "stderr",
     "output_type": "stream",
     "text": [
      "/Users/azanella/Library/Python/3.9/lib/python/site-packages/whisper/transcribe.py:115: UserWarning: FP16 is not supported on CPU; using FP32 instead\n",
      "  warnings.warn(\"FP16 is not supported on CPU; using FP32 instead\")\n"
     ]
    },
    {
     "name": "stdout",
     "output_type": "stream",
     "text": [
      " La Présidence de l'Université Montaigne de Bordeaux a interdit de parole à Gansinsky, philosophe, en considérant qu'il y avait un risque de trouble à l'ordre public. La semaine dernière, la même Présidence d'Université a laissé s'exprimer en son sein Monsieur Jean-Marc Ruyant. Ce dernier a pourtant été condamné pour apologie du terrorisme et en prisonné pour deux assassinats caractères terroristes. A titre d'illustration dans une interview, il déclare aux sujets des frères Quachis. Jean-Marc, des pontifs anti-terroristes, moi, je les ai trouvé très courageux. Tout ceci est très choquant. Je n'ose imaginer, Madame la ministre, que vous combatiez la philosophie, mais que vous protégiez le terrorisme. Madame la ministre, vous assurez la tutelle des universités et votre mission et de garantir le contrôle de la légalité des universités françaises et, transgement, on ne vous a absolument pas entendu sur ce sujet. Ma question est donc double. Pourquoi ce silence assourdissant, Madame la ministre, est par ailleurs que comptez-vous faire pour combattre une telle inversion des valeurs parfaitement inacceptables à notre université française ?\n"
     ]
    },
    {
     "name": "stderr",
     "output_type": "stream",
     "text": [
      "/Users/azanella/Library/Python/3.9/lib/python/site-packages/whisper/transcribe.py:115: UserWarning: FP16 is not supported on CPU; using FP32 instead\n",
      "  warnings.warn(\"FP16 is not supported on CPU; using FP32 instead\")\n"
     ]
    },
    {
     "name": "stdout",
     "output_type": "stream",
     "text": [
      " à la fin de la semaine. Nous sommes dans un moment où on a été fait des décisions de l'élection. Madame la Premier ministre, depuis 21 ans, aucune manifestation du premier humaine avait assemblé autant de participants. Si de leur très grande majorité grâce aux organisations syndicales et cortèges, ce sont déroulés dans une ambiance conviviale. Des incidents et des violences ont éclaté dans plusieurs villes, nous le déplorons et nous infirons notre soutien à l'ensemble des blessés. Mais cela ne doit pas masquer la réussite de cette mobilisation. Vous espériez que les Français se démotivent. Nous ne puissent plus se rassembler et que la mobilisation s'est souffle.\n"
     ]
    },
    {
     "name": "stderr",
     "output_type": "stream",
     "text": [
      "/Users/azanella/Library/Python/3.9/lib/python/site-packages/whisper/transcribe.py:115: UserWarning: FP16 is not supported on CPU; using FP32 instead\n",
      "  warnings.warn(\"FP16 is not supported on CPU; using FP32 instead\")\n"
     ]
    },
    {
     "name": "stdout",
     "output_type": "stream",
     "text": [
      " pour le pays, pendant qu'il évolue dans sa bulle médiatique entre cordons de sécurité qui, sur solicite nos forces de l'ordre, la violence flampe dans nos territoires, notamment dans les villes moyennes. La semaine dernière, en quatre jours seulement, trois meurtres se sont sucsédés à valence. Le quotidien des habitants des deux quartiers concernés et ont été par les échanges de tir et réglement de compte sur fond de trafic de drogue et de guerre de territoire. Mais cette violence, nous la retrouvons partout dans le pays. Sur l'année écoulée, les homicides sont 30 % plus nombreux qu'en 2017. Nous assistons consternés à la brutalisation de notre société. Cette brutalisation qui peut nous mener à la bine, comme la montrée l'Histoire, n'est pas très forte. Face à cette engrenage de la violence, la République doit faire preuve de totale fermeté. Et il vous appartient en tout point du territoire de garantir la sécurité première des libertés. Or, forcer de constater votre échec en matière de lutte contre l'insécurité. Dès lors, rétablissez l'autorité de l'Etat. Pour cela, il faudrait davantage d'effectif, forme de force de l'ordre, qui font au quotidien, en dépit de moyens insuffisants, un travail admirable que je tiens à saluer. Il faudrait renforcer le continuum de sécurité en améliorant le dialogue entre les maires et l'Etat et en renforçant les pouvoirs des polices municipales. Il faudrait redonner enfin à notre justice, les moyens d'accomplir sa mission, alors que notre but noe à l'instar du tribunal judiciaire de violence manque de moyens. Alors, monsieur ministre, quand allez-vous répondre aux attentes légitimes de sécurité des Français ?\n"
     ]
    },
    {
     "name": "stderr",
     "output_type": "stream",
     "text": [
      "/Users/azanella/Library/Python/3.9/lib/python/site-packages/whisper/transcribe.py:115: UserWarning: FP16 is not supported on CPU; using FP32 instead\n",
      "  warnings.warn(\"FP16 is not supported on CPU; using FP32 instead\")\n"
     ]
    },
    {
     "name": "stdout",
     "output_type": "stream",
     "text": [
      " Vous dites que partout, il y a des difficultés. Partout, il y a des difficultés, mais aujourd'hui, je peux dire que partout, il y a des solutions qui ont été trouvées grâce, comme dans votre département, par l'engagement territorial de l'hôpital de 51, voire même là aussi dans votre département au niveau des urgences d'irson, qui sont en difficulté, mais pas depuis hier, qui sont en difficulté depuis plusieurs mois, avec l'aide de l'hôpital de fourmi qui est distant de douce km.\n"
     ]
    },
    {
     "name": "stderr",
     "output_type": "stream",
     "text": [
      "/Users/azanella/Library/Python/3.9/lib/python/site-packages/whisper/transcribe.py:115: UserWarning: FP16 is not supported on CPU; using FP32 instead\n",
      "  warnings.warn(\"FP16 is not supported on CPU; using FP32 instead\")\n"
     ]
    },
    {
     "name": "stdout",
     "output_type": "stream",
     "text": [
      " Monsieur le ministre, 60 jours de canicules par an, la quasi-totalité des forêts du pourtours méditerranéens touchés par les incendies, la disparition complète des glaciers de notre pays, un nombre plus important de mes enfissures et jusqu'à 50 000 logements touchés par les reussions côteières, c'est un scénario digne d'un film catastrophe où les températures augmenteraient de plus 4° en 200. C'est pourtant cet hypothèse certes pessimiste que notre pays doit retenir pour anticiper les réponses à apporter en responsabilité à travers le plan d'adaptation au changement climatique, annoncé par le président de la République. Depuis quelques années, nos concitoyens prennent conscience du réchauffement climatique mondial qui a déjà des impacts très concrets, jusque dans notre vie quotidienne. L'accord de Paris a posé les bases des mesures globales à appliquer sur l'ensemble de la planète pour limiter le réchauffement climatique à plus 1,5°, mais les objectifs de différents pays sont déjà loin d'être tenus. Nous devons collectivement changer nos habitudes, adopter les bongesistes, appliquer de nouvelles normes techniques dans tous les domaines, transports, habitants, industries, énergies. Les risques naturels vont s'intensifier et la charge pour notre pays pourrait dépasser sur ces risques naturels les 2 milliards d'euros par an. La feuille de roues du gouvernement est claire pour accompagner cette transition écologique, aussi, alors qu'aujourd'hui, il s'ouvre cette phase et vous en avez déjà parlé de consultation publique, pouvez-vous nous présenter les objectifs de cette démarche, vos interventions, les moyens aussi, pour en trottre phénomène lutter contre la sécheresse qui s'installe dans notre pays? Je vous remercie.\n"
     ]
    },
    {
     "name": "stderr",
     "output_type": "stream",
     "text": [
      "/Users/azanella/Library/Python/3.9/lib/python/site-packages/whisper/transcribe.py:115: UserWarning: FP16 is not supported on CPU; using FP32 instead\n",
      "  warnings.warn(\"FP16 is not supported on CPU; using FP32 instead\")\n"
     ]
    },
    {
     "name": "stdout",
     "output_type": "stream",
     "text": [
      " Ça entraîne un problème aussi pour les usagers, mais aussi pour l'organisation interne à l'hôpital, avec des infirmières, des aides soignantes et des assages, qui se retrouvent de fait affecter dans d'autres services et donc avec des conditions de travail encore plus dégradées. Ma dame, la première ministre, mes questions seront donc très simples. Quelle est l'Etat de la situation actuelle, c'est-à-dire combien de médecins qui, du fait du plafondement, se sont désengagés de l'hôpital public et qu'elles mesurent envisager vous à court terme.\n"
     ]
    },
    {
     "name": "stderr",
     "output_type": "stream",
     "text": [
      "/Users/azanella/Library/Python/3.9/lib/python/site-packages/whisper/transcribe.py:115: UserWarning: FP16 is not supported on CPU; using FP32 instead\n",
      "  warnings.warn(\"FP16 is not supported on CPU; using FP32 instead\")\n"
     ]
    },
    {
     "name": "stdout",
     "output_type": "stream",
     "text": [
      " les liés à décisionnelles de pouvoir s'améliorer et améliorer le temps d'instruction et la pertinence du traitement des dossiers administratifs. Les agents instillibrés pourraient être affectés à l'accueil des usagers qui en auraient besoin afin de limiter les frustrations que pourraient provoquer un état plateforme déshumanisé. Pouvez-vous, monsieur le ministre, nous donner les grands lignes notre foie de route, comme on nous administrera chez un visage tel de s'approprier ce nouvel outil, de permettre l'émergence d'unia souverain, donc indépendante des GAFAM et protéctrice des données des Français. La CNIL, la Commission nationale de l'informatique et des libertés, étant en première ligne en la matière, le gouvernement visage-t-il de renforcer ses proratives et ses effectifs. Je vous remercie.\n"
     ]
    },
    {
     "name": "stderr",
     "output_type": "stream",
     "text": [
      "/Users/azanella/Library/Python/3.9/lib/python/site-packages/whisper/transcribe.py:115: UserWarning: FP16 is not supported on CPU; using FP32 instead\n",
      "  warnings.warn(\"FP16 is not supported on CPU; using FP32 instead\")\n"
     ]
    },
    {
     "name": "stdout",
     "output_type": "stream",
     "text": [
      " Nous comprenons sa décision car elle est profondément humaine. Nous l'accomprenons mais elle a une meurtrisure pour la République. Ce mer a démissionné parce qu'il était agressé par l'extrême droite et abandonné par l'Etat face à elle, c'est-à-dire par vous. Pourquoi a-t-il fallu plus de 10 jours pour que le président de la République exprime sa solidarité après l'incendie ? Pourquoi le ministre de l'Intérieur ne s'est-il jamais rendu à Saint-Brévin pour soutenir ce mer et le projet de CADA pour t'emporter par son propre ministère ? Le sous-préfait de Saint-Azerre a-t-il vraiment refusé une protection rapprochée à ce mer comme l'écrit médiaparte ? Pourquoi le préfet de l'Orat-Lanquique n'a-t-il pas interdit la manifestation du 29 avril, laissant l'extrême droite par adhée jusque sur les marges de la Mérie de Saint-Brévin ? Est-ce Monsieur Darmannin qui a donné ces instructions complaisantes avec l'extrême droite, lui qui trouve Madame Le Pen trop môle ? Ca suffit, face à l'extrême droite, à son racisme, à ses violences, nous appelons tous nos concitoyens à ce rassemblez le 24 mai prochain à Saint-Brévin. Madame Le Pen,\n"
     ]
    },
    {
     "name": "stderr",
     "output_type": "stream",
     "text": [
      "/Users/azanella/Library/Python/3.9/lib/python/site-packages/whisper/transcribe.py:115: UserWarning: FP16 is not supported on CPU; using FP32 instead\n",
      "  warnings.warn(\"FP16 is not supported on CPU; using FP32 instead\")\n"
     ]
    },
    {
     "name": "stdout",
     "output_type": "stream",
     "text": [
      " d'autres, votre département des bouches du rône comme malheureusement de nombreuses autres départements va connaître une baisse des effectifs scolaires à la rentrée, moins 1500 élèves pour ce qui le concerne. Dove autres si la construction a elles seules, ce sont 250 de l'élève dans le premier degré que l'on va compter en moins. Si l'on avait appliqué une règle purement arithmétique, ce sont donc 10 classes que nous aurions fermées dans votre circonscription. Or nous n'enfermons que deux d'un côté pour nous ouvrir deux autres dans deux communes qui connaissent une croissance de leurs effectifs scolaires, en l'occurrence, les communes d'alince et d'orgons. Pour ce qui concerne les bouches du rône plus généralement à la dotation initiale, nous venons d'ajouter 20 de postes de professeurs des écoles, de manière à améliorer le tout d'encadrement qui va s'améliorer dans les bouches du rône puisqu'il va passer de 23,2 élèves par classe à 22,3 élèves par classe. Dans les semaines à venir, en fonction aussi des remontés des élus de terrain, bien entendu, nous allons procéder à d'ultimes ajustements de manière à ce que la situation soit stabilisée pour la rentrée à venir.\n"
     ]
    },
    {
     "name": "stderr",
     "output_type": "stream",
     "text": [
      "/Users/azanella/Library/Python/3.9/lib/python/site-packages/whisper/transcribe.py:115: UserWarning: FP16 is not supported on CPU; using FP32 instead\n",
      "  warnings.warn(\"FP16 is not supported on CPU; using FP32 instead\")\n"
     ]
    },
    {
     "name": "stdout",
     "output_type": "stream",
     "text": [
      " aujourd'hui avec l'annonce par l'agence Fitch de la dégradiation de la note de la France. La succession de crises l'explique très largement, mais doit nous pousser à agir pour établir lesquels il y a libre de nos comptes. Reduction la dépense publique, mais aussi réflexion sur notre système fiscal pour ne rendre plus juste et plus acceptable partout. La réforme de notre système de retraite est un premier pas indispensable dans ce sens. Pour éviter nous endéter sur le dos des générations futures. La classe de revoillure que nous avons fait adopter permettra aux partenaires sociaux et aux parlementaires de se ressaisir de la question le moment venu dans le respect du rythme démocratique. Nous devons agir avec plus de terminations que jamais. Si c'est au gouvernement de porter ces réformes, c'est aussi au parlement de retrouver le sens du dialogue et de travailler avec toutes les bonnes volontés au-delà des postures politiques. Pour répondre aux inquiétudes et français et aux enjeux qui sont devant nous. Comment m'adame la première ministre ?\n"
     ]
    },
    {
     "name": "stderr",
     "output_type": "stream",
     "text": [
      "/Users/azanella/Library/Python/3.9/lib/python/site-packages/whisper/transcribe.py:115: UserWarning: FP16 is not supported on CPU; using FP32 instead\n",
      "  warnings.warn(\"FP16 is not supported on CPU; using FP32 instead\")\n"
     ]
    },
    {
     "name": "stdout",
     "output_type": "stream",
     "text": [
      " Je suis pas sûr à écouter votre réponse que vous soyez totalement consciente de l'urgence de la crise si vous n'avez pas de solution Permettez que les députés des républicains vous en proposent une fois de plus d'abord libérer du foncier cellulurgien.\n"
     ]
    },
    {
     "name": "stderr",
     "output_type": "stream",
     "text": [
      "/Users/azanella/Library/Python/3.9/lib/python/site-packages/whisper/transcribe.py:115: UserWarning: FP16 is not supported on CPU; using FP32 instead\n",
      "  warnings.warn(\"FP16 is not supported on CPU; using FP32 instead\")\n"
     ]
    },
    {
     "name": "stdout",
     "output_type": "stream",
     "text": [
      " alors que 75% des Français soutiennent l'opération en bouchou, cette opération d'ordre public est freinée par l'obstruction comorienne. Les commorts qui refusent de reprendre leurs ressortissants, malgré l'accord, passés avec Paris, et les 150 millions de recul à France àverser à ce titre. Les commorts qui refusent de reconnaître Maïa de française et envoient leur population pour asseoir leur revendication territoriale. Le président Azali, s'est permis de condamner publicment de l'opération en bouchou. Les organes proches du pouvoir comorien menace de mort et d'invasion, la population maorise et les élus. La diplomatie russe offre même ces services pour prendre militairement maïaute. Madame la ministre, nous n'avons pas entendu un seul mot du quédorcé sur cette crise diplomatique grave, pas un mot sur cette ingérences manifeste dans nos affaires d'intérieur. Quand admettrez-vous enfin l'inéficacité de 40 ans de coopération avec Mauroni, le nain diplomatique comorien vous atile mis en échec. Quelle crédibilité pour la stratégie endopassie\n"
     ]
    },
    {
     "name": "stderr",
     "output_type": "stream",
     "text": [
      "/Users/azanella/Library/Python/3.9/lib/python/site-packages/whisper/transcribe.py:115: UserWarning: FP16 is not supported on CPU; using FP32 instead\n",
      "  warnings.warn(\"FP16 is not supported on CPU; using FP32 instead\")\n"
     ]
    },
    {
     "name": "stdout",
     "output_type": "stream",
     "text": [
      " Merci, Madame la Présidente. Monsieur le ministre, les Bétraviers se souviennent de votre impuissance et de votre incapacité à être autre chose que le ministère du constat. Nous vous demandons d'être le ministère de l'Action et vous restez quinze jours pour le prouver.\n"
     ]
    },
    {
     "name": "stderr",
     "output_type": "stream",
     "text": [
      "/Users/azanella/Library/Python/3.9/lib/python/site-packages/whisper/transcribe.py:115: UserWarning: FP16 is not supported on CPU; using FP32 instead\n",
      "  warnings.warn(\"FP16 is not supported on CPU; using FP32 instead\")\n"
     ]
    },
    {
     "name": "stdout",
     "output_type": "stream",
     "text": [
      " Avec une croissance expolentielle du prix du terrain à bâtir deux fois plus rapide que la moyenne des régions françaises. Avec des zones auto-des résidences secondaires atteint jusqu'à 80 % du parc de logement. Avec une différence de pouvoir lâchant des faveurs des résidences insulaires. Avec Denis Schfiskal, avantageant la spéculation, les corps se vivent légitimement cela comme une dépossession. Ce n'est plutôt l'érable.\n"
     ]
    },
    {
     "name": "stderr",
     "output_type": "stream",
     "text": [
      "/Users/azanella/Library/Python/3.9/lib/python/site-packages/whisper/transcribe.py:115: UserWarning: FP16 is not supported on CPU; using FP32 instead\n",
      "  warnings.warn(\"FP16 is not supported on CPU; using FP32 instead\")\n"
     ]
    },
    {
     "name": "stdout",
     "output_type": "stream",
     "text": [
      " Il est encore temps d'agir de mettre un carton rouge à ce gouvernement.\n"
     ]
    },
    {
     "name": "stderr",
     "output_type": "stream",
     "text": [
      "/Users/azanella/Library/Python/3.9/lib/python/site-packages/whisper/transcribe.py:115: UserWarning: FP16 is not supported on CPU; using FP32 instead\n",
      "  warnings.warn(\"FP16 is not supported on CPU; using FP32 instead\")\n"
     ]
    },
    {
     "name": "stdout",
     "output_type": "stream",
     "text": [
      " L'indiquée la première ministre dans sa feuille de route, la réindustrialisation des carbonnets de notre pays est une priorité de ce gouvernement. L'objectif est double, c'est renforcer la tractivité de la France et accompagner notre industrie dans cette décarbonation. Alors que la note de la France a été dégradée vendredi, en raison de la trajectoire de la dette et du déficit, mais aussi des mouvements sociaux que connait notre pays, nous mesurons l'impact qu'une telle décision peut avoir sur le taux auquel l'Etat emprunte pour financer nos politiques publics et la solidarité nationale.\n"
     ]
    },
    {
     "name": "stderr",
     "output_type": "stream",
     "text": [
      "/Users/azanella/Library/Python/3.9/lib/python/site-packages/whisper/transcribe.py:115: UserWarning: FP16 is not supported on CPU; using FP32 instead\n",
      "  warnings.warn(\"FP16 is not supported on CPU; using FP32 instead\")\n"
     ]
    },
    {
     "name": "stdout",
     "output_type": "stream",
     "text": [
      " L'immeuble s'est effondré dans la foulée, en portant ses habitants dans les décombres.\n"
     ]
    },
    {
     "name": "stderr",
     "output_type": "stream",
     "text": [
      "/Users/azanella/Library/Python/3.9/lib/python/site-packages/whisper/transcribe.py:115: UserWarning: FP16 is not supported on CPU; using FP32 instead\n",
      "  warnings.warn(\"FP16 is not supported on CPU; using FP32 instead\")\n"
     ]
    },
    {
     "name": "stdout",
     "output_type": "stream",
     "text": [
      " garantir un accès équitable et alûté contre la pollution et les pollution de l'eau. Ça inscrivant dans la droite ligne des problématiques que je porte, effectivement, au travers cette mission. Je souhaiterai, monsieur le ministre, vous entendre sur l'ensemble des moyens financiers qui vont être mobilisés dans le cadre de ce plan, sur les actions qui sont monnaies dans la lutte contre la surexploitation parfois de certaines nappes. La préservation des milieux, en termes de biodiversité et l'accès à l'eau potable tend sa grande globalité et notamment sur les zones rurales où, pour nos concitoyens, les plus isolés, avec bien évidemment au perspective la qualité et l'ensemble des pollution qui sont aujourd'hui parfois identifiés dans l'eau.\n"
     ]
    },
    {
     "name": "stderr",
     "output_type": "stream",
     "text": [
      "/Users/azanella/Library/Python/3.9/lib/python/site-packages/whisper/transcribe.py:115: UserWarning: FP16 is not supported on CPU; using FP32 instead\n",
      "  warnings.warn(\"FP16 is not supported on CPU; using FP32 instead\")\n"
     ]
    },
    {
     "name": "stdout",
     "output_type": "stream",
     "text": [
      " On se journée de mobilisation. Des millions de Français et de Français dans la rue pour la première fois pour beaucoup d'entre eux. Une interse syndicale au grand complet, toujours aussi déterminée et historiquement soudée. 70% de Français opposé à votre réforme est quasiment autant d'entre eux favorables au blocage. Voici le bilan catastrophique de votre gouvernement depuis que vous avez fait le choix d'engager qu'il en coûte une réforme des retraites aussi injustifiées sur le fond.\n"
     ]
    },
    {
     "name": "stderr",
     "output_type": "stream",
     "text": [
      "/Users/azanella/Library/Python/3.9/lib/python/site-packages/whisper/transcribe.py:115: UserWarning: FP16 is not supported on CPU; using FP32 instead\n",
      "  warnings.warn(\"FP16 is not supported on CPU; using FP32 instead\")\n"
     ]
    },
    {
     "name": "stdout",
     "output_type": "stream",
     "text": [
      " Depuis un an, de 49,393, vous assurez le service après-vente des caprices du président de la République. En l'espace d'un an, vous avez fait de notre pays une poudrière, Bravo, madame la Premier ministre, quelle anniversaire. Aujourd'hui encore, le président de la République vit dans une réalité parallèle. À présent, Emmanuel Macron est le seul qui croit encore en Emmanuel Macron. Vous êtes les seuls dans le pays qui croit pouvoir tourner la page. Nous vous répondons jamais. Jamais nous n'accepterons que vous voyez deux ans de vie au français. 34 000 euros de retraite à chacun de eux et que vous les brutalisez au propre comme au figuré. Le pays tout entier a opposé à votre réforme, les syndicats comme le Parlement. Bravo, madame la Premier ministre, quelle anniversaire. La Macronie se vit à présent comme une citadèle à siège. Alors, vous dis à biolyz l'alternatif politique que nous sommes, en même temps que vous banalisez l'extrême droite. Madame la Premier ministre, vous dites que nous ferions de l'antiparlementarisme. L'antiparlementarisme, c'est vous. 11 49 3 à votre actif et des manoeufs pour empêcher le vote de la progression de la réforme. Les extrémistes, c'est vous. Vous avez refusé toutes les sorties par le haut que nous avions proposé, référendum ou retour devant le peuple. Jamais un gouvernement avait eu aussi peur du peuple. Il vous reste à comprendre qu'en démocratie, il est seul souverain.\n"
     ]
    },
    {
     "name": "stderr",
     "output_type": "stream",
     "text": [
      "/Users/azanella/Library/Python/3.9/lib/python/site-packages/whisper/transcribe.py:115: UserWarning: FP16 is not supported on CPU; using FP32 instead\n",
      "  warnings.warn(\"FP16 is not supported on CPU; using FP32 instead\")\n"
     ]
    },
    {
     "name": "stdout",
     "output_type": "stream",
     "text": [
      " de dire ici que notre survie parce que c'est de cela qu'il s'agit à Mayotte, notre survie ne peut pas être l'autage des querelles partisanes.\n"
     ]
    },
    {
     "name": "stderr",
     "output_type": "stream",
     "text": [
      "/Users/azanella/Library/Python/3.9/lib/python/site-packages/whisper/transcribe.py:115: UserWarning: FP16 is not supported on CPU; using FP32 instead\n",
      "  warnings.warn(\"FP16 is not supported on CPU; using FP32 instead\")\n"
     ]
    },
    {
     "name": "stdout",
     "output_type": "stream",
     "text": [
      " En vous acharnant, vous abîmer la démocratie. Vous abîmer la démocratie en utilisant les outils les plus autoritaires de la cinquième République. Vous abîmer la démocratie en bafouant la Constitution qui dit que la République, c'est le gouvernement du peuple, le peuple et le peuple. Vous abîmer la démocratie en utilisant la police non pour garantir le droit à manifester, mais pour le réprimer. Votre bilan, c'est la violence. Ca suffit. Policier brûler, journaliste frapper, manifestant, mutiler, l'écoupable. C'est vous. Nous apportons notre soutien à tous les blessés. Vous opposez le peuple au peuple. Pas nous.\n"
     ]
    },
    {
     "name": "stderr",
     "output_type": "stream",
     "text": [
      "/Users/azanella/Library/Python/3.9/lib/python/site-packages/whisper/transcribe.py:115: UserWarning: FP16 is not supported on CPU; using FP32 instead\n",
      "  warnings.warn(\"FP16 is not supported on CPU; using FP32 instead\")\n"
     ]
    },
    {
     "name": "stdout",
     "output_type": "stream",
     "text": [
      " La première ministre, maïotte, depuis des semaines, des mois, voire des années, une situation totalement insupportable. Violence, piage, guétapant, sont le loup quotidien des maorés. Cette situation est due à une immigration totalement hors de contrôle qui fait qu'aujourd'hui, il y a plus d'étranger en situation irrégulière à maïotte que de citoyens de la République française. Cette situation est la appelée à la demande des élus et notamment du député mensour qu'Amardine. L'opération que vous avez initiée monsieur le ministre de l'Intérieur, cette opération au Mombouchou, nous l'assoutenons. Et je le dis sans réserve parce qu'elle est essentielle et elle est importante. Mais aujourd'hui, face au courage des maorés, face à leur résilience. La République ne peut pas reculer. En cette opération, elle est à la ré, du fait d'une décision judiciaire, aux motivations totalement àurissantes. Mais aussi devant la force qui exprime les commorts, face à la volonté de la République française. D'où le demandant ? La République ne peut pas reculer. Le drapeau français doit continuer à flotter sur maïotte pour dire que l'immigration illégale n'a pas sa place sur notre territoire et pour faire en sorte que demain, la métropole ne subise pas la situation que subit maïotte aujourd'hui.\n"
     ]
    },
    {
     "name": "stderr",
     "output_type": "stream",
     "text": [
      "/Users/azanella/Library/Python/3.9/lib/python/site-packages/whisper/transcribe.py:115: UserWarning: FP16 is not supported on CPU; using FP32 instead\n",
      "  warnings.warn(\"FP16 is not supported on CPU; using FP32 instead\")\n"
     ]
    },
    {
     "name": "stdout",
     "output_type": "stream",
     "text": [
      " Un new frontier, cette expression utilisée en 1960 dans son discours d'investiture par le président Kennedy faisait référence au défi à venir pour les futures décennies en l'ensemble à la course de l'espace. Contenue du contexte international avec le retour de la guerre de haute intensité au porte de l'Europe, cette expression est tragiquement d'actualité. L'espace est devenu le nouveau front de conflictualité. Le très juillet dernier, le président de la République annoncait une nouvelle loi de programmation militaire de 2024 à 2030, qui fixe les grands axes de notre politique de défense. Pour renforcer et étendre nos capacités spatiales de défense, 6 milliards d'euros, ils seront consacrés. Afin de répondre à cette ambition, le commandement de l'espace basé dans ma circonscription à Toulouse aura une infrastructure militaire avec près de 500 experts en 2025. Ce bâtiment dédié représentera le symbole du spatial militaire français. Même si nous avons une avancée considérable, d'autres états se sont lancés dans la maîtrise de l'espace. Face à nous, nous avons de sérieux compétiteurs. Nous devons surveiller l'activité de toutes nos orbites, protéger nos satellites, nos moyens de communication et nos équipements militaires. Cette nouvelle frontière, le New Space, est aujourd'hui en proie des menaces. Cette LPM doit également porter une politique spatiale ambitieuse pour la France, ainsi, monsieur le ministre, quelle est votre vision pour le spatial afin de contréder une vente de suels attaques? Comment anticiper l'évolution de nos capacités de télécommunications spatiales à horizon 2030 et après cette date? Ne faut-il pas s'appuyer sur les constellations? Notre avancée industrielle sur l'observation depuis l'espace est indéniable, mais comment la LPM prévoit-elle de consolider cette avance? Je vous remercie.\n"
     ]
    },
    {
     "name": "stderr",
     "output_type": "stream",
     "text": [
      "/Users/azanella/Library/Python/3.9/lib/python/site-packages/whisper/transcribe.py:115: UserWarning: FP16 is not supported on CPU; using FP32 instead\n",
      "  warnings.warn(\"FP16 is not supported on CPU; using FP32 instead\")\n"
     ]
    },
    {
     "name": "stdout",
     "output_type": "stream",
     "text": [
      " Monsieur le ministre, alors que la police et la gendarmerie multiplient les arrestations d'envergure sur le terrain, la mobilisation de maillot pour soutenir l'opération en bouchou ne fêblit pas. Des milliers de nos compatriotes ont encore défiler ce week-end à acqua dans le nord de l'huile, mais aussi à Lyon, Marseille et Saint-Nid de la réunion. Cette extraordinaire mobilisation citoyenne m'a horrisse traduit notre aspiration à vivre en sécurité, notre reconnaissance pour les efforts à employer pour nous permettre de retrouver une vie normale. Cette mobilisation tradue aussi notre gratitude pour les coûts et pour la solidarité pour maillot, exprimé ici au-delà des clivages partisans, mais aussi dans les médias et lors des manifestations. Être enfin entendu que nos compatriotes nous comprennent et capital. Cela nous redonne à nous, espoir pour l'avenir de maillot et pour cela nous vous disons merci ici à tous. Cette mobilisation citoyenne porte aussi la dignité et le courage d'un peuple face au mensonge du président Comorien, qui encourage implicitement la terreur et qui n'y notre souveraineté nationale à la maillote. A zalie qui se permet ici à Paris de faire la leçon à la France et de bloquer l'un des volets de l'opération en bouchou en refusant de reprendre ses ressortissants en situation irregulière. Le chef de l'État Comorien, qui s'est entretenu avec le président de la République émanuelle Macron hier à l'Élysée, ma question et la suivante monsieur le ministre. Ces négociations diplomatiques ont-elles habouti? Les Comor vont-elles enfin permettre les reconduites à la frontière? Je vous remercie.\n"
     ]
    },
    {
     "name": "stderr",
     "output_type": "stream",
     "text": [
      "/Users/azanella/Library/Python/3.9/lib/python/site-packages/whisper/transcribe.py:115: UserWarning: FP16 is not supported on CPU; using FP32 instead\n",
      "  warnings.warn(\"FP16 is not supported on CPU; using FP32 instead\")\n"
     ]
    },
    {
     "name": "stdout",
     "output_type": "stream",
     "text": [
      " que l'ordre dans lequel vous avez cité les choses et le bon, je ne vais pas le nier non plus. Énergie avait vous dit transport, alimentation, voilà, exactement dans cet ordre, les trois postes de dépenses les plus importants des ménages. C'est bien pourquoi, depuis l'été 2021, dans cet ordre, énergie, carburant, alimentation, nous avons mis en place le bouclier tarifère, 110 milliards d'euros, depuis le mois d'août 2021. Dans cet année-pazano, le bouclier tarifère, c'est entre 150 et 200 euros d'économie par mois par ménage. Nous avons aussi, vous le savez, mis en place l'indémnité carburant destinée au travailleur, mais aussi revalorisé l'ensemble des minima sociaux, mais aussi les retraites. Nous avons mis en place l'aide exceptionnelle de rentrer, nous avons aussi supprimé, continuer à supprimer des impôts dont la redevance de visuelle bref, je veux vous dire que nous avons agi par la loi, 44 milliards d'euros dès le projet de loi de finance réactivitatif 2022, mais aussi à côté de la loi avec le trimestre.\n"
     ]
    },
    {
     "name": "stderr",
     "output_type": "stream",
     "text": [
      "/Users/azanella/Library/Python/3.9/lib/python/site-packages/whisper/transcribe.py:115: UserWarning: FP16 is not supported on CPU; using FP32 instead\n",
      "  warnings.warn(\"FP16 is not supported on CPU; using FP32 instead\")\n"
     ]
    },
    {
     "name": "stdout",
     "output_type": "stream",
     "text": [
      " votre opération tournait la page est un fiasco. Votent attive de diversions ne peuvent effacer votre passage en force, s'agissant d'une réforme qui abîme si durment, si concrètement, si brutalement la vie des gens. Et les premières victimes sont bien réelles, ce sont ces femmes, et ces hommes qui après toute une vie professionnelle avaient planifié leur départ en retraite. Alors oui, ils étaient en congé de fin de carrière, car leur projet s'était bien de partir en retraite. Et ils sont aujourd'hui contraints de revenir au travail. Pour faire la jonction avec leur nouvelle date de départ à leur retraite, il aurait proposé de prendre un congé sans soldes ou de reprendre leur poste avec un salaire lycée, donc diminué. Et vous savez très bien que une seule ministre n'y aura pas que les 16 d'orano. Et ce sont aussi des milliers de femmes et d'hommes suspendus à la publication des décrets d'application pour déterminer si ils devront ou non retirer leur demande de départ à la retraite ou consentir à une décode de leur pension. Ce sont encore ces travailleurs et travaux venus du magrable ou d'Afrique sur Psyarian qui occupe les métiers les plus pénibles, qui ont des retraites de misère à cause de carrière achet faite d'intéribes et de périodes mal ou non déclarées par leur employeur. Et ils découvrent qu'aujourd'hui, leur faudra rester neuf mois en France et non plus six pour des bénéficiaires de l'ASPA. Du jour au lendemain, ce sont des projets de vie que vous brisez, des mois, des années de vie que vous voler. On n'hésite alors à savoir quoi juger sur votre gouvernement, votre manque d'anticipation ou votre malonette T. Et vu le précédent sur les carrières longues et sur les 1 200 euros, permettez-nous d'y voir un mensonge de plus, un mensonge pour cacher votre déconnexion abyssale avec la vie des Français, une marque de mépris supplémentaires et à n'en pas douter votre réserve nous réserve encore beaucoup trop, beaucoup trop de mauvaises surprises. Alors non, décidément, nous ne tournerons pas la page, elle ne se tourne pas comme ça. C'est pourquoi les députés du groupe GDR, comme tout ceux de la Nupesse, ce seront bien se...\n"
     ]
    },
    {
     "name": "stderr",
     "output_type": "stream",
     "text": [
      "/Users/azanella/Library/Python/3.9/lib/python/site-packages/whisper/transcribe.py:115: UserWarning: FP16 is not supported on CPU; using FP32 instead\n",
      "  warnings.warn(\"FP16 is not supported on CPU; using FP32 instead\")\n"
     ]
    },
    {
     "name": "stdout",
     "output_type": "stream",
     "text": [
      " Merci, Madame la présidente, ma question s'adresse aux ministres de l'économie et des finances au préalable. Je voudrais revenir sur le rejet hier en émicycle des projets de loi de règlement 2021 et 2022 parce que une fois de plus, le rassemblement national et la nupeuse ont voté ensemble, ensemble contre un arrêté comptable, ensemble contre un arrêté, contre un document budgétaire nécessaire pour l'administration et pour nos fonctionnaires, ensemble contre les intérêts de notre pays. Ici, il y a ceux qui sont contre tout et ceux qui sont au travail pour l'intérêt de nos concitoyens. Monsieur le ministre, je voudrais revenir sur la décision de la gence SNP de maintenir la notation de la dette française, cette confirmation est assignale, positif pour notre pays, elle conforte notre stratégie de réforme afin d'atteindre le plan emploi. Elle conforte les choix économiques que nous avons fait depuis 2017. Elle conforte enfin la trajectoire de maîtrise des finances publiques que nous nous sommes fixés. Mais cette notation nous engage, car oui, nous devons absolument assurer la bonne exécution de cette trajectoire. Oui, nous devons absolument accélérer le désentêtement de la France en tourcer qu'il est un poison pour les générations futures. Oui, nous devons ramener le déficit en dessous des 3% d'ici 4 ans. Oui, nous devons maîtriser la croissance de nos dépenses publiques dès le prochain budget. Il en va de notre crédibilité, il en va de notre capacité à investir massivement en particulier sur la transition écologique. Monsieur le ministre, pouvez-vous nous détailler votre stratégie pour tenir notre trajectoire de maîtrise de la dépense publique? Vous pouvez vous nous assurer que les propositions concrètes de réduction des dépenses seront faites dès le prochain PML, PLL. Je vous remercie.\n"
     ]
    },
    {
     "name": "stderr",
     "output_type": "stream",
     "text": [
      "/Users/azanella/Library/Python/3.9/lib/python/site-packages/whisper/transcribe.py:115: UserWarning: FP16 is not supported on CPU; using FP32 instead\n",
      "  warnings.warn(\"FP16 is not supported on CPU; using FP32 instead\")\n"
     ]
    },
    {
     "name": "stdout",
     "output_type": "stream",
     "text": [
      " de la population. Merci, Madame la présidente. La question s'adresse aux ministres en charge des solidarités. Monsieur le ministre, depuis plusieurs mois, les épaules, les établissements qu'accueillent nos aînés, les personnes âgées dépendantes sont confrontées à des difficultés de fonctionnement qui les fragilise et font poser une menace sur leur avenir. Des difficultés avant tout d'ordre budgétaire en raison d'un contexte d'inflation qui se traduit par une hausse de leurs charges fixes, notamment des dents réalismentaires et les autorités de l'énergie, des dépenses d'hébergement qui ont progressé bien plus vite que les tarifs et bersgements indépendances, ce qui a pour effet de placer ces établissements nos maisons de retraite dans une situation d'une gravité inédite. En début d'année, la Fédération Hospitalière de France révélait que 39 % des épaules publics rencontraient des difficultés de trésorerie et que 85 % d'entre eux ont participé un résultat fortement déficitaire à la fin de l'exercice 2022. Fragilisé par la crise sanitaire, qui a mis leur personnel à rue des preuves, nous n'aussais pas de doivent ennoutrer faire face à des difficultés de recrutement qui les contraignent à recourir à l'intérim dont le co-exercif grève plus encore leur budget. Monsieur le ministre, il y a eu urgent ça agir. Et si on veut éviter la multiplication des fermes turdes-lis ou pire encore de certains établissements qui risquent de se retrouver sous peu en ces sessions de paiement, ces établissements ne peuvent pas attendre plusieurs mois encore la grande réforme du grand âge régulièrement annoncé sans cesse reporté. Aussi, je souhaiterais que vous puissiez nous indiquer qu'elle mesure contre mettre en œuvre le gouvernement pour aider les épaules à surmonter cette crise sans précédent, rassurer leur gestionnaire, leur personnel, les ennés et leurs familles.\n"
     ]
    },
    {
     "name": "stderr",
     "output_type": "stream",
     "text": [
      "/Users/azanella/Library/Python/3.9/lib/python/site-packages/whisper/transcribe.py:115: UserWarning: FP16 is not supported on CPU; using FP32 instead\n",
      "  warnings.warn(\"FP16 is not supported on CPU; using FP32 instead\")\n"
     ]
    },
    {
     "name": "stdout",
     "output_type": "stream",
     "text": [
      " franchement, franchement. Vous avez avec ce fourmariane sali la mémoire de Samuel Patti qui appelle la descence et la dignité. Vous faites en permanence dans cette émissique et à l'extérieur des leçons sur le respect des institutions. Or, tout et moigne que vous manquez de l'impartialité dans la conduite des affaires de l'Etat. Tout et moigne de l'affaireisme qui occupe les bandes du gouvernement. Tout et moigne du fait que vous salissez les institutions, notre démocratie et notre pacte républicain. En occurrence dans la crise démocratique que nous connaissons, c'est criminel.\n"
     ]
    },
    {
     "name": "stderr",
     "output_type": "stream",
     "text": [
      "/Users/azanella/Library/Python/3.9/lib/python/site-packages/whisper/transcribe.py:115: UserWarning: FP16 is not supported on CPU; using FP32 instead\n",
      "  warnings.warn(\"FP16 is not supported on CPU; using FP32 instead\")\n"
     ]
    },
    {
     "name": "stdout",
     "output_type": "stream",
     "text": [
      " Le 5 mai dernier, un migrant guinein, l'ancien direct sur BFMTV, on va vous envahir. Il était au poste frontière de Manto, dans ma circonscription, quelques minutes après que j'ai constaté moi-même que ce poste du pont salui ne faisait l'objet d'aucun contrôle de police et ce, malgré vos annonces de renfort. Deux jours plus tôt, avec Jordan Bardela et mes collègues, Brian Mason et Lionel Tivoli, nous avions pu constater pour la éniemfois que les effectifs de la police au frontière étaient largement insuffisants à la vague migratoire qui a coadruplé en moins d'un an. En réponse à cette déferlante, nous vous voulons vous trouver rien de mieux que de traiter la chef du gouvernement italien d'un capable. Comme vous n'êtes pas un paradoxe près, en novembre, c'est exactement la verse. Jordan Mélonie était inhumaine et responsable en refusant d'accueillir les ONG qui récupèrent les migrants dans les olibiennes. Vos propos, monsieur le ministre et vos actions sont désastreux, vos déclarations irresponsables. Au moment où nous deux pays doivent plus que jamais être partenaires, vous avez affaiblis et terminé l'image de la France en Italie, mais aussi auprès des milliers d'italiens qui vivent et qui travaillent chaque jour dans notre pays. Monsieur le ministre, allez-vous présenter vos excuses à l'Italie et allez-vous enfin prendre vos responsabilités et à s'aller de manière pérène des affectifs à cette frontière qui se protègera les Français. Merci. Je vous remercie la parole et ta monsieur Gérald Darmanin, ministre de l'Intérieur et des autres maires.\n"
     ]
    },
    {
     "name": "stderr",
     "output_type": "stream",
     "text": [
      "/Users/azanella/Library/Python/3.9/lib/python/site-packages/whisper/transcribe.py:115: UserWarning: FP16 is not supported on CPU; using FP32 instead\n",
      "  warnings.warn(\"FP16 is not supported on CPU; using FP32 instead\")\n"
     ]
    },
    {
     "name": "stdout",
     "output_type": "stream",
     "text": [
      " Ce vendredi, le Conseil constitutionnel donnera son avis. Avec votre trucage, vous l'avez mis dans l'ambara. Si vous sens sûr, il assume un rôle politique qui n'est pas lecien. Si vous ne vous sens sûr pas, il renonce à défendre la Constitution dont il a la garde et à féblier, alors, irrémediablement, la 5e République qui se porte déjà très mal.\n"
     ]
    },
    {
     "name": "stderr",
     "output_type": "stream",
     "text": [
      "/Users/azanella/Library/Python/3.9/lib/python/site-packages/whisper/transcribe.py:115: UserWarning: FP16 is not supported on CPU; using FP32 instead\n",
      "  warnings.warn(\"FP16 is not supported on CPU; using FP32 instead\")\n"
     ]
    },
    {
     "name": "stdout",
     "output_type": "stream",
     "text": [
      " Mais hier, lors d'un débat parlementaire sur le théorisme d'extrême droite proposé par la nupeuse, dans lequel vous n'êtes même pas intervenu, dans lequel la majorité parlementaire n'a pas parlé une seule seconde, dans lequel vous avez catapulté le ministre des Outre-Maire témoignant. De votre extrême indigence sur le sujet, l'État répondu qu'il n'avait pas condamné des gens qui exprimaient simplement une opinion, pensé vous, vraiment, monsieur Darmanin, qu'être militaire à arborer des signes nazis par exemple ce n'est que témoigner une opinion. Monsieur Darmanin, vous faciez de la politique de la pierre des manières, c'est une chose, mais vous n'avez pas le droit de vous affranchir de vos responsabilités. Vous n'avez pas le droit de vider les mots de leur sens pour disqualifier vos adversaires, pour dissoudre des associations écologiques, quand le théorisme d'extrême droite se structure sous vos yeux. Vous n'avez pas le droit d'instrumentaliser la laïcité à des fins politiques et j'en profite pour demander, comme France 2 et les Samuel Patil ont fait et sa famille, ce qui l'est à devenu des millions d'euros dépensés par le ministère de l'intérieur dans le fond Marianne. Une mosquée à Wattini a été sacagée. Un fidèle à Hichiro l'a été agressé. Les musulmans habitant à Wazem ont été désignés pour s'il blanc plat ramadan. Vous savez que nous sommes dans une période à risque pour nos compatriotes musulmans, comme nos compatriotes chrétiens et juifs en festivité, mais nous sommes dans une période à risque pour nos compatriotes musulmans.\n"
     ]
    },
    {
     "name": "stderr",
     "output_type": "stream",
     "text": [
      "/Users/azanella/Library/Python/3.9/lib/python/site-packages/whisper/transcribe.py:115: UserWarning: FP16 is not supported on CPU; using FP32 instead\n",
      "  warnings.warn(\"FP16 is not supported on CPU; using FP32 instead\")\n"
     ]
    },
    {
     "name": "stdout",
     "output_type": "stream",
     "text": [
      " La première ministre s'il attachement des maourais à la France n'est plus à démontrer l'attachement des gouvernements successifs à maillotement, cruellement, de preuve. Quand les commandes voisines refusent d'appliquer le droit international en reprenant leurs ressortissants, c'est évidemment sur la voie ferme de la 7e puissance mondiale face à un pays de 800 000 habitants que les maourais comptent et non. Sur les propos de votre ministre des Affaires étrangères, évoquant il y a quelques semaines encore une coopération étroite. Quand les maourais constatent quotidiennement qu'ils n'ont quasiment aucun droit de plus que les étrangers souvent clandestins, il regrette amèrement que les lois de la République ne soient pas plus favorables à ceux qui possèdent la nationalité française. Quand les maourais entendent des juges et spiqués qu'il faut tout faire pour empêcher de lutter contre l'immigration clandestine, il prenne le cas aux sécuritaires et le désastre économique qui en résultent pour une fatalité. Or comme je le dis à tous les Français, je dis au maoreille, il n'y a pas de fatalité, mais bien des choix politiques. Non, nous n'avons pas affinancé les pays qui bafouent le droit international et organisent la submercion migratoire de la France. Non, nous n'avons pas à accueillir sur notre sol les délinquances étrangers qui bafouent les valeurs d'Asile et d'accueil. Mais oui, nous avons à mettre un terme au cauchemar que vivent des Français notamment en changeant profondément une partie de notre droit sur l'immigration. Je vous le savais, un texte prête soumis au référendum. À ce propos, si vous voulez travailler mes propositions, elles sont toujours en ligne. Alors, Madame, la première ministre, calais-vous faire pour Mayotte. Et plus généralement, avez-vous compris que pour ce que vivent nos compatriotes maoreilles ne soient pas, ce que vivront demain l'ensemble des Français, il faut changer radicalement de vision et mettre en place une politique dissuative d'immigration.\n"
     ]
    },
    {
     "name": "stderr",
     "output_type": "stream",
     "text": [
      "/Users/azanella/Library/Python/3.9/lib/python/site-packages/whisper/transcribe.py:115: UserWarning: FP16 is not supported on CPU; using FP32 instead\n",
      "  warnings.warn(\"FP16 is not supported on CPU; using FP32 instead\")\n"
     ]
    },
    {
     "name": "stdout",
     "output_type": "stream",
     "text": [
      " parce que nous sommes le parti de la France qui travaille, de la France qui aimerait travailler, de la France qui a travaillé. J'étais ce matin au côté des ouvriers de Valdun. Dans le nord, j'étais avec eux, j'tiens l'air merci. Ces ouvriers qui voient défiler d'ailleurs tous ceux qui pendant des années ont ruiné l'industrie de notre pays et qui viennent parfois même leur donner des cours d'écologie, j'étais avec eux parce que Valdun pourrait fermer. C'est le dernier fabricant français de Roux de Trains dont l'unique actionnaire chinois a déclaré qu'il ne mettrait plus un centime dans la société. Valdun, c'est 336 emplois dans le nord, à Tris Saint-Légez. Et alors que le savoir-faire, la productivité, les compétences, la qualité du travail et reconnu de tous, c'est bien aujourd'hui cet entreprise MNAC. L'investisseur chinois a obtenu ce qu'il voulait, les brevets, le savoir-faire, la technologie, aujourd'hui les prêts, appuyés bagages, les sangs, les ouvriers, les employés dans le désarroi. Ce piège des compétences françaises, c'est un capacité à contraindre une entreprise française, comme la SNCF, à passer des commandes publics pour les routes trains à une entreprise française, en dillons sur l'abandon de nos fleurons industriels, en dillons sur votre soumission. En 2021, j'avais déjà alerté, par écrit le ministre de l'Economie des Finances et la désindustrialisation, je n'ai jamais eu de réponse, le mépris, la désinvolture. Monsieur le ministre, aujourd'hui qu'elle sort, réservez-vous à Valdun, à ces salariés, qu'attendez-vous pour appliquer la préférence nationale de la commande publique, comme Marine Le Pen, le suggéré, pour protéger notre industrie, pour agir concrètement via la BPI, puisque vous aviez des leviers en main. En 2022, vous avez autorisé plus de 130 hachins d'entreprises sensibles par des étrangers, quand allez-vous vous occuper enfin de l'industrie française.\n"
     ]
    },
    {
     "name": "stderr",
     "output_type": "stream",
     "text": [
      "/Users/azanella/Library/Python/3.9/lib/python/site-packages/whisper/transcribe.py:115: UserWarning: FP16 is not supported on CPU; using FP32 instead\n",
      "  warnings.warn(\"FP16 is not supported on CPU; using FP32 instead\")\n"
     ]
    },
    {
     "name": "stdout",
     "output_type": "stream",
     "text": [
      " Monsieur le député Gonzales, je ne vais pas vous referre une histoire que vous connaissez. Celle de Sego, important re-binatier français au coeur de l'industrie française, qui intervient principalement dans la fabrication des sous-marins nucléaires, mais également dans les réacteurs nucléaires. Sego est actuellement détenu par l'entreprise canadienne Vélan et la famille Vélan a communiqué récemment sur des discussions qui sont poussées avec un autre grand re-binatier, vous le savez, américain qui s'appelle Flosserve. Un accord de rachat par Flosserve, des activités de Vélan, incluant Sego, pourrait être avoir lieu d'ici l'été.\n"
     ]
    },
    {
     "name": "stderr",
     "output_type": "stream",
     "text": [
      "/Users/azanella/Library/Python/3.9/lib/python/site-packages/whisper/transcribe.py:115: UserWarning: FP16 is not supported on CPU; using FP32 instead\n",
      "  warnings.warn(\"FP16 is not supported on CPU; using FP32 instead\")\n"
     ]
    },
    {
     "name": "stdout",
     "output_type": "stream",
     "text": [
      " 10 à 15 mètres françaises qui pourront voir ce projet se développer au cours de la décennie qui vient. Si vous me permettez de le résumer ainsi, ne s'agit d'ailleurs ni seulement de RR, ni seulement d'un objet métropolitain. Quand je dis pas seulement des RR, il faudra adapter les choses à chaque territoire, à chacune des métropoles concernées. Il peut y avoir des logiques de transport plus léger, voire de carréxpress, si cela fait diminuer l'usage de la voiture individuelle. Et surtout, je le dis, ne s'agit pas d'un projet pour les centres-villes, seulement, mais justement pour celles et ceux qui sont à 20, 30, 40 km de nos centres-villes, parfois plus loin encore, et qui n'ont aujourd'hui aucune option de transport public pour rejoindre la nôtre bout de la métropole ou le cœur de la ville.\n"
     ]
    },
    {
     "name": "stderr",
     "output_type": "stream",
     "text": [
      "/Users/azanella/Library/Python/3.9/lib/python/site-packages/whisper/transcribe.py:115: UserWarning: FP16 is not supported on CPU; using FP32 instead\n",
      "  warnings.warn(\"FP16 is not supported on CPU; using FP32 instead\")\n"
     ]
    },
    {
     "name": "stdout",
     "output_type": "stream",
     "text": [
      " L'élegation des PME du commerce de l'artisanat et du tourisme liviagrégoire. La tenue de la semaine nationale, le l'artisanat du 2 au 9 juin, me donne l'occasion de rappeler que avec plus de 1 800 000 entreprises et plus de 3 millions d'actifs, le secteur de l'artisanat joue un rôle clé dans le développement économique français. Le gouvernement a été attentif à la situation de nos artisans, durment frappé par les crises successives, belmelle, si ton les dispositifs d'être, comme le bouclier tarifaire, la mortisseur électrique, la stratégie nationale en faveur des métiers d'art, les représentants de la semaine dernière, le soutien d'apprentissage, la réforme des lycées professionnelles qui ont vocation à porter des réponses aux difficultés de recrutement, si ton enfin la mobilisation exemplaire déconseillait la sortie de crise dans les directions départementales, les finances publiques, les artisans de leur côté ont su réagir, en faisant évoluer leur mode de production, en adaptant leurs horaires de travail, en imaginant de nouveaux services, ils ont prouvé leur agilité. Cependant, malgré ces actions, la première entreprise de France reste fragile. Dans ma circonscription de loi recherche, les boulanger continuent d'être menacés par les pénalités de rupture importante, en cas de changement de contrat d'énergie. Par ailleurs, de nombreux professionnels subissent la concurrence d'éloyale de plateformes qui bénéficient d'une fortemise en valeur de la part des grandes enseignes, proposent de mettre en relation des particuliers pour diverses prestations, informations mensongères des sites internet, absences de garanties des sénales ou de précisions sur les compétences du prestataires de services, prestations payées en liquide qui échappent à toute fiscalité. Les dérampages sont nombreux. Enfin, si les artistes en s'intéressent de plus en plus à l'action arrière, pour fidéliser leurs personnels ou favoriser la transmission d'entreprise, force est de constater que les dispositifs actuels, dont sont souvent exclués, les SCRL sont peu adaptés à leurs besoins. Alors, quels actions m'a d'amener la ministre? Quantez-vous mettre en place pour limiter la concurrence d'éloyale qui fragilise nos artistes et pour apporter plus de souplesse à celles et ceux qui souhaitent innover dans la gestion de leurs entreprises?\n"
     ]
    },
    {
     "name": "stderr",
     "output_type": "stream",
     "text": [
      "/Users/azanella/Library/Python/3.9/lib/python/site-packages/whisper/transcribe.py:115: UserWarning: FP16 is not supported on CPU; using FP32 instead\n",
      "  warnings.warn(\"FP16 is not supported on CPU; using FP32 instead\")\n"
     ]
    },
    {
     "name": "stdout",
     "output_type": "stream",
     "text": [
      " Pourquoi tant d'acharnements contre la filière de l'élevage ? Hier c'est la Cour des Contes, qui est dans un rapport sur les élevages bovins, à appeler à une réduction importante du Cheptèle bovins dans notre pays. Et pour la Cour des Contes, cette réduction devrait s'accompagner d'une imitation de la consommation de viande, car je cite le rapport, intière des Français qu'on somme davantage, que le plafond de 500 grammes de viande rouge par semaine, prévu par le programme national nutrition santé. Mais de quoi se met la Cour des Contes ? Malame la première ministre, nous aurions aimé vous entendre, ou entendre votre ministre de l'Agriculture, remettre à leur place les magistrats de la Cour des Contes. Le rôle n'est pas de dicter au français leur mode d'alimentation ni de prescrire la taille de nos élevages. Et nous pouvons même nous demander si cet attaque contre la filière viande n'est pas organisé délibérément. La semaine dernière s'était en effet votre ministre de l'Economie et des Finances qui inaugurait en grande pompe une usine spécialisée dans les substituts végétaux à l'aviante. À cette occasion, il assurait ouvertement la promotion des protéines végétales tout en cherchant à disqualifier les protéines animales. Plus inquiétant encore, il indiquait que cette nouvelle usine était, je cite l'exemple parfait de ce que nous voulons faire avec le projet de loi industrieverte. Alors, Malame la première ministre, à quoi se la certile d'aller au salon de l'agriculture pendant de longues heures à la rencontre de nos alveurs, si c'est pour mieux les poignarder dans le dos quelques semaines plus tard. Nos alveurs se battent chaque jour pour maintenir la viabilité de leurs exploitations. Ils le font dans un contexte économique compliqué et en subissant des contraintes réglementaires excessive. Ils ont besoin de tous notre soutien. Malame la première ministre, quand vont cesser ces attaques contre l'élevage et contre l'agriculture de notre...\n"
     ]
    },
    {
     "name": "stderr",
     "output_type": "stream",
     "text": [
      "/Users/azanella/Library/Python/3.9/lib/python/site-packages/whisper/transcribe.py:115: UserWarning: FP16 is not supported on CPU; using FP32 instead\n",
      "  warnings.warn(\"FP16 is not supported on CPU; using FP32 instead\")\n"
     ]
    },
    {
     "name": "stdout",
     "output_type": "stream",
     "text": [
      " Et ceci alors que les céréales traités par la FOSFine et importés en France, elles ne seront pas concernées par cette décision d'un 16. Décision d'ailleurs qui aura des conséquences, c'est des astreuses dans certains pays qui ont besoin de notre blé et qui pourraient se trouver dans une situation d'un passe eux aussi.\n"
     ]
    },
    {
     "name": "stderr",
     "output_type": "stream",
     "text": [
      "/Users/azanella/Library/Python/3.9/lib/python/site-packages/whisper/transcribe.py:115: UserWarning: FP16 is not supported on CPU; using FP32 instead\n",
      "  warnings.warn(\"FP16 is not supported on CPU; using FP32 instead\")\n"
     ]
    },
    {
     "name": "stdout",
     "output_type": "stream",
     "text": [
      " la part equivale du centreありがとうございました sett simpleありがとうございました .. transformation ni Hyper Air France.\n"
     ]
    },
    {
     "name": "stderr",
     "output_type": "stream",
     "text": [
      "/Users/azanella/Library/Python/3.9/lib/python/site-packages/whisper/transcribe.py:115: UserWarning: FP16 is not supported on CPU; using FP32 instead\n",
      "  warnings.warn(\"FP16 is not supported on CPU; using FP32 instead\")\n"
     ]
    },
    {
     "name": "stdout",
     "output_type": "stream",
     "text": [
      " Notre constitution permet de sortir de l'impasse démocratique dans laquelle vous nous avez enfermé. On est y en recours d'abord au 40-7-1, puis au 44-3, puis au 49-3. En quelques moments,\n"
     ]
    },
    {
     "name": "stderr",
     "output_type": "stream",
     "text": [
      "/Users/azanella/Library/Python/3.9/lib/python/site-packages/whisper/transcribe.py:115: UserWarning: FP16 is not supported on CPU; using FP32 instead\n",
      "  warnings.warn(\"FP16 is not supported on CPU; using FP32 instead\")\n"
     ]
    },
    {
     "name": "stdout",
     "output_type": "stream",
     "text": [
      " Monsieur le ministre, l'an dernier, dans une étude intitulée intelligente, artificielle et action publique, construire la confiance, servir la performance, le Conseil d'État, encouragez vivement les pouvoirs publics à intégrer liat, comme un paramètre majeur des politiques publics, notamment dans sa version décisionnelle, pour la mettre au service de nos concitoyens, permettant ainsi d'enmétriser les usages et de rassurer. Ce travail, excellent, au demeureant, incité les pouvoirs publics à s'approprier, ce que l'on peut considérer sans faire preuve dans face, comme un bouleversement technologique majeur, dont il est urgent d'anticiper les impacts.\n"
     ]
    },
    {
     "name": "stderr",
     "output_type": "stream",
     "text": [
      "/Users/azanella/Library/Python/3.9/lib/python/site-packages/whisper/transcribe.py:115: UserWarning: FP16 is not supported on CPU; using FP32 instead\n",
      "  warnings.warn(\"FP16 is not supported on CPU; using FP32 instead\")\n"
     ]
    },
    {
     "name": "stdout",
     "output_type": "stream",
     "text": [
      " de l'éducation de l'Education. Il y a 13 milliards d'euros d'investissement, 8 000 emplois créés. C'est le bilan de l'édition 2023 de Chousse-France, qui s'est tenu hier sur ma circonscription. Cette édition est celle de tous les records. Depuis quatre ans, la France et le pays européen le plus attractif pour les investissements étrangers. Depuis quatre ans, les entreprises françaises et étrangères nous réachirent le même message. Elles ont confiance en la France. Elles ont confiance dans les fondements de notre économie. Elles ont confiance dans notre réponse au crise successive. Vous l'avez dit, enfin, depuis six ans, nous avons battie une vraie politique industrielle. Nous avons massivement baissé les impôts pour les ménages et pour les entreprises et nous allons continuer. Nous avons réformé et baissé, nous avons réformé notre marché du travail pour créer un virulet 7 millions d'emplois depuis 2017. Nous avons massivement soutenu notre appareil productiche à travers les plans France 2030 et France relance. Pour la première fois depuis 30 ans, la France rouvre des usines. Cette politique industrielle nous l'avons battie aux services de toute nos régions. D'un kerque où le président s'est rendu vendredi, en est le symbole. 6 000 emplois détruits sur les 20 dernières années, 16 000 emplois créés dans les 10 ans qui viennent. Notre politique industrielle donne des résultats. Nous allons l'accélérer. C'est l'objet du projet de loi industrie verte que vous avez présenté ce matin. Monsieur le ministre, vous voulez accélérer nos délais d'implantation industrielle en préservant notre environnement? Quelles sont les mesures pour atteindre cet objectif? Deuxièmement, vous avez toujours veillé à ce que la relance industrielle soit juste pour bénéficier à toute nos régions. Quelles mesures proposez-vous en ce sens? Je vous remercie. Je vous remercie mon cher collègue.\n"
     ]
    },
    {
     "name": "stderr",
     "output_type": "stream",
     "text": [
      "/Users/azanella/Library/Python/3.9/lib/python/site-packages/whisper/transcribe.py:115: UserWarning: FP16 is not supported on CPU; using FP32 instead\n",
      "  warnings.warn(\"FP16 is not supported on CPU; using FP32 instead\")\n"
     ]
    },
    {
     "name": "stdout",
     "output_type": "stream",
     "text": [
      " Ça me dit dernier, France 2, invité à un témoin de la violence sociale qui réine dans le pays, un de nos compatriotes qui exposé ces grandes difficultés à nourrir ces quatre enfants en achetant des paquets de pâte. Cet homme, c'est des vignements brunaux le mers, qui s'élivraient à un numéro d'un descense totalement démagogique pour quelqu'un payer 10 000 euros par mois et je ne compale pas le droit d'auteur chez Arloquin. Une chose juste néanmoins, il reconnaît ce que sa politique orchestre à savoir le retour des privations et de la fin de notre pays. Et que faites-vous dans cette situation ? Et bien à rien, à part promouvoir une réforme des retraites iniques et célérates. Car à chaque alerte, vous regardez ailleurs. Les prix de la nourriture ont augmenté de 15% vous refusez de les bloquer, mais vous êtes disponible pour voler 2 ans de vie au français et au français. Une personne sur 6 ne mange pas à sa fin dans le pays. Accordez-vous aux associations le milliard de elles ont besoin pour leur venir en aide. Non, vous êtes trop occupés à voler 2 ans de vie aux personnes. La moitié de nos compatriotes renonce à leur course, ne remplissent plus leur caddie. Vous êtes vous effortsés d'organiser la hausse des salaires. Non, vous êtes pris sur une réforme des retraites. Les jeunes sont de plus en plus nombreux dans les fils d'attente associatifs pour recevoir l'aide alimentaire. Avez-vous accordé le repas un euro au crousse ? Non, vous étiez occupé à nous imposer une réforme des retraites. Les associations d'aide, enfin, ont été ruinées par vos réformes fiscales. Là où l'IASF permetait au super riche de s'acheter un brin de conscience une fois de temps en temps en donnant de manière défiscalisée à ce type d'association et bien désormais, elles ont... elles prouvent les difficultés les plus vivent à lever de l'argent. Pourquoi ? Parce que vous êtes occupés exclusivement à voler 2 ans de vie aux Français et aux Français. Bref, que fait-mais, monsieur Bruno Le Mère ? Et bien, il supplit devant le siège du Médéph, un cierge à la main, que certains veulent bien limiter leur marche personnel. Mais, mesdames et messieurs les ministres, vous êtes au pouvoir. Donc, si vous plaît, gouvernez.\n"
     ]
    },
    {
     "name": "stderr",
     "output_type": "stream",
     "text": [
      "/Users/azanella/Library/Python/3.9/lib/python/site-packages/whisper/transcribe.py:115: UserWarning: FP16 is not supported on CPU; using FP32 instead\n",
      "  warnings.warn(\"FP16 is not supported on CPU; using FP32 instead\")\n"
     ]
    },
    {
     "name": "stdout",
     "output_type": "stream",
     "text": [
      " Merci, Madame la Présidente, monsieur le ministre de l'Intérieur. Un contexte de violence insupportable contre les élus de la République amène des élus de tout bord abordonnés par l'Etat à la démission. Au nom de mon groupe, je voudrais tout d'abord adresser à ces serviteurs de la République tout mon soutien. Dans ce contexte, j'ai été alerté la semaine dernière par un maire de ma circonscription sur une occupation illégale du domaine public par des forains qui ne sont en aucun cas représentatif de la profession. Alors que cette commune en accueille toute l'année avec plaisir. Ces forains-là se sont à caparrer le domaine public. On volait du courant et menacé un employé municipal. Il est entendé et donné des représentations de sport motorisé sans les autorisations préfectorales. Le maire de Boquer, qui entend assurer l'ordre public, a immédiatement saisi la justice en référé pour obtenir leur expulsion. L'audience a eu lieu aujourd'hui après la bataille. Abandonné par l'Etat, qui avait en vain alerté le cabinet du préfet, a donc décidé ce week-end d'aller lui-même sur place pour alerter et protéger les habitants. J'étais à ses côtés avec de nombreux élus et à Jean de la ville, notamment la police municipal. Fasse au rappel du droit. Certains de ces forains ont alors outragé et diffarmé le maire. Mon violenté, on violentait à Jean de la ville et on commune tentative de m'y sider avec armes par destination, un camion, à l'encontre d'un autre élu. Ces élus dont l'indéminité mensuelle est demande de 200 euros à 5 jours d'été. Quatre plaints ont été déposés et en arrêté d'interdiction prix pour les spectacles suivants, suite à ses troublers à l'ordre public et à ses violences. Grâce à la dénacité et au courage du maire, ces spectacles n'ont pas eu lieu dans beaucoup d'autres villes. Les élus, seuls, face au menace, abandonnent de paurs des représailles. Pour autant, ces délinquants ont indiqué à plusieurs reprises souhaitées en représailles venir à 300 et bloquer la ville jeudi pour la grande foire de la sanction. Monsieur le ministre.\n"
     ]
    },
    {
     "name": "stderr",
     "output_type": "stream",
     "text": [
      "/Users/azanella/Library/Python/3.9/lib/python/site-packages/whisper/transcribe.py:115: UserWarning: FP16 is not supported on CPU; using FP32 instead\n",
      "  warnings.warn(\"FP16 is not supported on CPU; using FP32 instead\")\n"
     ]
    },
    {
     "name": "stdout",
     "output_type": "stream",
     "text": [
      " On évalue à 8 à 10 millions le nombre de personnes qui ne peuvent plus manger assez ou à leur femme. En réponse, vous nous avez parlé de checke de panier. Le champ de l'exico est là, l'action en revanche. On la tente toujours.\n"
     ]
    },
    {
     "name": "stderr",
     "output_type": "stream",
     "text": [
      "/Users/azanella/Library/Python/3.9/lib/python/site-packages/whisper/transcribe.py:115: UserWarning: FP16 is not supported on CPU; using FP32 instead\n",
      "  warnings.warn(\"FP16 is not supported on CPU; using FP32 instead\")\n"
     ]
    },
    {
     "name": "stdout",
     "output_type": "stream",
     "text": [
      " Il voulait dire, effectivement, l'ancesse souhaitait interdire l'usage de la faussifine sur les exportations de Céréales. Je le rappelle, il n'y a aucune règle européenne qui empêche l'utilisation de ce produit, la faussifine, lorsque les Céréales sont à destination de l'exportation, lorsque le pays importateur l'autorise lui-même.\n"
     ]
    },
    {
     "name": "stderr",
     "output_type": "stream",
     "text": [
      "/Users/azanella/Library/Python/3.9/lib/python/site-packages/whisper/transcribe.py:115: UserWarning: FP16 is not supported on CPU; using FP32 instead\n",
      "  warnings.warn(\"FP16 is not supported on CPU; using FP32 instead\")\n"
     ]
    },
    {
     "name": "stdout",
     "output_type": "stream",
     "text": [
      " Je l'ai condamne toute sans aucune ambiguïté d'où qu'elle vienne. Il est en effet inacceptable que dans notre République, les élus et en première ligne les mers, subissent des insultes, des menaces, des intimidations, du harcèlement ou des agressions. L'escalade, la surenchère et la banalisation des actes violents auxquels nous assistons doivent cesser. Des voies de recours existent dans notre Constitution pour s'opposer. La violence, quels soient verbales, morales ou physiques, n'a donc pas sa place et ne doit jamais être une réponse. Tout acte de violence doit être dénoncé et se déle premier fait. Car à chaque fois ce sont nos institutions qui sont visées, qui sont touchées et la démocratie qui recule. Nous ne pouvons tolérer l'instrumentalisation qui est faite par des groupes uscules politiques extrémistes. La République a besoin de ces élus, car ce sont eux qui font vivre quotidien la démocratie sur le terrain. Il doit bénéficier d'une protection à la hauteur de leurs engagements et responsabilités.\n"
     ]
    },
    {
     "name": "stderr",
     "output_type": "stream",
     "text": [
      "/Users/azanella/Library/Python/3.9/lib/python/site-packages/whisper/transcribe.py:115: UserWarning: FP16 is not supported on CPU; using FP32 instead\n",
      "  warnings.warn(\"FP16 is not supported on CPU; using FP32 instead\")\n"
     ]
    },
    {
     "name": "stdout",
     "output_type": "stream",
     "text": [
      " Une obstruction gouvernementale sur une proposition de loi du jamais-vu sous la cinquième république, pour aujourd'hui nous trouver une nouvelle excuse, les modalités. Pourtant, depuis la suspension, il n'y a eu aucune modalité particulière quand c'est les ceux qui avaient attrapez le virus retourné travailler car ils étaient considérés comme immunisés. Vous avez sans cesse répéter que la date butoire serait la vie de la haute autorité de santé. Or cette autorité a rendu un avis positif pour la réintégration de le 30 mars et dernier depuis plus rien. La loi du 30 juillet 2022 dispose bien que lorsqu'on regarde l'évolution de la situation impidémologique, tel que constaté par la haute autorité de santé, l'obligation vaccinale n'est plus justifiée, celle-ci est suspendue par décrées. Il n'est pas question de concertation quelconque. Alors, monsieur le ministre, de quelle modalité parlez-vous? Devez-vous vérifier que ces personnels ne se répontent sur-effectifs? Devez-vous vérifier la disponibilité des postes, leur budgetisation peut-être? Vous savez aussi bien que moi que ce n'est pas le cas, dans tous les établissements nous avons cru allemand besoin de. Vous savez pertinemment qu'ils sont toutes et tous prêts à reprendre le travail dans l'heure. Après,\n"
     ]
    },
    {
     "name": "stderr",
     "output_type": "stream",
     "text": [
      "/Users/azanella/Library/Python/3.9/lib/python/site-packages/whisper/transcribe.py:115: UserWarning: FP16 is not supported on CPU; using FP32 instead\n",
      "  warnings.warn(\"FP16 is not supported on CPU; using FP32 instead\")\n"
     ]
    },
    {
     "name": "stdout",
     "output_type": "stream",
     "text": [
      " La première ministre, tous les indicateurs le montrent, le logement est en crise. 100 000 logements construits de moins qu'il y a 15 ans. Chute de 30 % sur un an du nombre de maisons individuelles vendus. Explosions des faillites de promoteurs, de constructeurs individuels, d'agents immobiliers plus 83 % ce sont aujourd'hui 150 000 emplois qui sont menacés dans cette filière. Les causes de cette crise, elles sont alloureusement, totalement identifiées. D'abord, évidemment, la hausse des prix de construction à cause de la guerre en Ukraine. Le rancherissement des projets à cause des normes, le manque de fonciers disponibles à cause de la politique du zéro artificialisation. Et puis, évidemment, la hausse des taux d'intérêt. Aujourd'hui, les Français ne trouvent enprater qu'au tour de 4,5 % sur 20 ans, ce qui exclut de plus en plus de nos compatriotes dans leur projet d'achat, puisqu'ils se voient opposer des refus de près par les banques. Maintenant, le premier ministre, on sait depuis 2017 que le logement n'intéresse pas beaucoup le président de la République, qui a fessienne cette idéologie, selon laquelle on construit rétron en France et qu'il faudrait que les Français renoncent à leur rêve de la maison individuelle. Par exemple, cette fois, la crise est là, pénurie de logement, destruction d'emplois, des du poids d'achat. Allez, vous répondre, Madame la Première ministre, au Crédal Arme, que vous en adressez les professionnels de cette filière.\n"
     ]
    },
    {
     "name": "stderr",
     "output_type": "stream",
     "text": [
      "/Users/azanella/Library/Python/3.9/lib/python/site-packages/whisper/transcribe.py:115: UserWarning: FP16 is not supported on CPU; using FP32 instead\n",
      "  warnings.warn(\"FP16 is not supported on CPU; using FP32 instead\")\n"
     ]
    },
    {
     "name": "stdout",
     "output_type": "stream",
     "text": [
      " En effet, l'utilisation de ce produit est obligatoire dans de nombreux pays clients de l'exagon pour pouvoir débarquer la marchandise. C'est notamment le cas de l'Afrique du Nord qui, avec l'Algérie, est l'un des premiers clients de la France au Grand Expo. En conséquence, l'export des céréales français sera bloquée. Les autres pays européens exportateurs pouvant continuer d'utiliser la molécules de fosfin se la mettra la France dans une position de désavantage fort.\n"
     ]
    },
    {
     "name": "stderr",
     "output_type": "stream",
     "text": [
      "/Users/azanella/Library/Python/3.9/lib/python/site-packages/whisper/transcribe.py:115: UserWarning: FP16 is not supported on CPU; using FP32 instead\n",
      "  warnings.warn(\"FP16 is not supported on CPU; using FP32 instead\")\n"
     ]
    },
    {
     "name": "stdout",
     "output_type": "stream",
     "text": [
      " Ma dame la première ministre, selon vous, la France est convaléceante. Mais la France n'est pas convaléceante, ma dame. Car la France est malade. Elle est malade de voir ses grands principes démocratiques et sociaux foulés au pied. C'est votre loi retraite qui a donné la fièvre à la France. Et sa température est à 49,3.\n"
     ]
    },
    {
     "name": "stderr",
     "output_type": "stream",
     "text": [
      "/Users/azanella/Library/Python/3.9/lib/python/site-packages/whisper/transcribe.py:115: UserWarning: FP16 is not supported on CPU; using FP32 instead\n",
      "  warnings.warn(\"FP16 is not supported on CPU; using FP32 instead\")\n"
     ]
    },
    {
     "name": "stdout",
     "output_type": "stream",
     "text": [
      " mettre en danger sanitaire et alimentaire la population française.\n"
     ]
    },
    {
     "name": "stderr",
     "output_type": "stream",
     "text": [
      "/Users/azanella/Library/Python/3.9/lib/python/site-packages/whisper/transcribe.py:115: UserWarning: FP16 is not supported on CPU; using FP32 instead\n",
      "  warnings.warn(\"FP16 is not supported on CPU; using FP32 instead\")\n"
     ]
    },
    {
     "name": "stdout",
     "output_type": "stream",
     "text": [
      " de quoi parle-t-on ? Bien sûr pas de l'intérimédical dans son ensemble, mais d'une dérive de cette intérimédicale qui s'apparente à un mercenariat qui font que les gens font monter les prix et les hôpitaux qui sont les plus touchés par cette dérive sont justement les petits hôpitaux qui sont pris en otage par ces pratiques totalement contraires à l'étique. L'étique il faut la retrouver si l'on veut reconstruire notre système de santé sur des bases solides. Alors, lutter contre cette intérimédicale mercenaire mais aussi, mais aussi favoriser nos professionnels de santé qui sont dans les hôpitaux qui tiennent la ligne pendant le COVID, qui tiennent encore la ligne, qui sont plus fortement sollicités aujourd'hui.\n"
     ]
    },
    {
     "name": "stderr",
     "output_type": "stream",
     "text": [
      "/Users/azanella/Library/Python/3.9/lib/python/site-packages/whisper/transcribe.py:115: UserWarning: FP16 is not supported on CPU; using FP32 instead\n",
      "  warnings.warn(\"FP16 is not supported on CPU; using FP32 instead\")\n"
     ]
    },
    {
     "name": "stdout",
     "output_type": "stream",
     "text": [
      " de la situation. Il est le déterminant des trajectoires d'intégration ou d'exclusion. La crise polyforme à laquelle le logement est confronté est pris à bas à bras le corps par la stratégie du plan Marseille en grande du président de la République. Marseille est résiliente, Marseille est solidaire, elle a toujours su faire face, elle fait face, elle saura faire face. Marseille est résiliente, Marseille est solidaire, elle a toujours su faire face, elle fait face, elle saura faire face.\n"
     ]
    },
    {
     "name": "stderr",
     "output_type": "stream",
     "text": [
      "/Users/azanella/Library/Python/3.9/lib/python/site-packages/whisper/transcribe.py:115: UserWarning: FP16 is not supported on CPU; using FP32 instead\n",
      "  warnings.warn(\"FP16 is not supported on CPU; using FP32 instead\")\n"
     ]
    },
    {
     "name": "stdout",
     "output_type": "stream",
     "text": [
      " Dans beaucoup de médias, monsieur le ministre, vous avez annoncé que la philosophie de votre informe s'est rapproché le lycée professionnel du monde de l'entreprise, mais c'est déjà le cas. Tous les diplômes de l'enseignement professionnel, tous sans exception, sont définis dans des commissions en présence de branches patronales. C'est aussi le cas pour la carte des formations et pourquoi faire croire le contraire dans quel but. Alors que tous les élèves de terminal ont déjà 8 semaines de stage. Vous proposer d'en rajouter 50% sans la moindre justification pédagogique. Votre modèle semble être celui de l'apprentissage contre la formation publique, mais vous savez qu'aujourd'hui, 3 élèves sur quatre sous statu scolaire vont jusqu'au bac quand c'est seulement 2 sur 5 qui arrive dans l'apprentissage. Vous annoncez des fumeux, lycée, des bureaux d'entreprise dans les lycées professionnelles qui en vérité ne serviront qu'à répondre aux besoins immédiats et à courtes vues du patronat. Vous proposer une rémunération pour les enseignants, mais à monsieur le ministre, vous n'êtes que dans le slogan éculé de Sarkozy, je vous ignorerai d'ailleurs un accord avec lui, je vous ai cognis autrement, travailler plus pour gagner plus. Vous annoncez une gratification pour les élèves.\n"
     ]
    },
    {
     "name": "stderr",
     "output_type": "stream",
     "text": [
      "/Users/azanella/Library/Python/3.9/lib/python/site-packages/whisper/transcribe.py:115: UserWarning: FP16 is not supported on CPU; using FP32 instead\n",
      "  warnings.warn(\"FP16 is not supported on CPU; using FP32 instead\")\n"
     ]
    },
    {
     "name": "stdout",
     "output_type": "stream",
     "text": [
      " Si il vous plaît, est-ce que là-dessus, on est capable de trouver des consensus républicains au lieu de se jeter des anatèmes, les uns aux autres, alors que le réchauffement climatique, et les règlements sont d'une réalité qui est pas politique mais qui est naturelle, c'est-ce qu'est-ce qu'est-ce qu'est-ce qu'est-ce qu'est-ce qu'est-ce qu'il y a des objectifs de polémique? Rejoignez-nous sur les solutions, regardez-vous, caparca, en fonction des territoires, ce que nous pouvons mettre en oeuvre, arrêtez l'idéologie, entrer dans le pragmatisme et dans les solutions, c'est à ce prix-là qu'on réconcilira à nous, et vous voyez un avec l'écologie, on en faisant pas, un champ de bataille stérile!\n"
     ]
    },
    {
     "name": "stderr",
     "output_type": "stream",
     "text": [
      "/Users/azanella/Library/Python/3.9/lib/python/site-packages/whisper/transcribe.py:115: UserWarning: FP16 is not supported on CPU; using FP32 instead\n",
      "  warnings.warn(\"FP16 is not supported on CPU; using FP32 instead\")\n"
     ]
    },
    {
     "name": "stdout",
     "output_type": "stream",
     "text": [
      " La République, non, il n'est pas là. La République française est construite et ancrée comme une idée à l'émancipation grâce à l'école. Les fameux Ucernoirs, de par leur engagement au service du pays, ont permis à des générations entières d'accéder à l'instruction, cassant ainsi la présence sociale dans laquelle certains étaient enfermés. L'école forte est la garantie pour une nation de n'avenir serein. Or, la situation de l'école est extrêmement inquiétante. L'été dernier, on apprenait que l'État n'arrivait pas recruter suffisamment de professeurs qualifiés, car le nombre de candidats était en forte baisse. Depuis plusieurs années, les parents d'élèves constatent impuissant que les professeurs absin ne sont pas remplacés. D'un mâssir conscription, par exemple, dans un collège près de la frontière espagnole, un professeur d'un clé n'a pas été remplacé pendant un prédénant. Un peu plus loin, la même situation a eu lieu avec un professeur de français en lycée alors que ces élèves devaient passer le bac. Selon le principal syndicat d'un saignant du primaire, le nombre de fermetures de classe était mis mars de 1944 pour 2695 ouvertures, soit un sol de négatif de 2259 classes. Nous savons qu' encore une fois, les territoires ruraux vont empêler le plus lourd tribut. Il est inacceptable de voir nos services publics fermer les uns après les autres et la colère qui grande se nourrit aussi de cet état d'abandon des territoires ruraux par l'Etat. La baisse de la démographie pour expliquer les fermetures des classes n'est pas une explication acceptable. Si il y a moins d'élèves par classe, alors l'enseignement ne pourra n'être que meilleur. Vous avez annoncé une revalorisation des salaires des enseignants dès la rentrée prochaine, cet annonce est positive car nous avons besoin de renforcer la tractivité de ce métier. Alors monsieur le ministre, que comptez-vous faire pour assurer le remplacement des professeurs d'abandonnage comme la promis de la République ? Pourquoi ne pas se saisir de la baisse démographique pour améliorer les conditions d'enseignement à l'école ? Peut-on que de fermer des classes ? Je vous remercie.\n"
     ]
    },
    {
     "name": "stderr",
     "output_type": "stream",
     "text": [
      "/Users/azanella/Library/Python/3.9/lib/python/site-packages/whisper/transcribe.py:115: UserWarning: FP16 is not supported on CPU; using FP32 instead\n",
      "  warnings.warn(\"FP16 is not supported on CPU; using FP32 instead\")\n"
     ]
    },
    {
     "name": "stdout",
     "output_type": "stream",
     "text": [
      " aujourd'hui une mère célibataire avec deux enfants qui voient son pouvoir d'achat diminuer chaque mois de 170 euros. Ne voient son pouvoir d'achat augmenter grâce à vos mesures que de 17 euros soit 10 fois moins.\n"
     ]
    },
    {
     "name": "stderr",
     "output_type": "stream",
     "text": [
      "/Users/azanella/Library/Python/3.9/lib/python/site-packages/whisper/transcribe.py:115: UserWarning: FP16 is not supported on CPU; using FP32 instead\n",
      "  warnings.warn(\"FP16 is not supported on CPU; using FP32 instead\")\n"
     ]
    },
    {
     "name": "stdout",
     "output_type": "stream",
     "text": [
      " Nous associons en cette question les territoires qui vivent quotidiennement sous le même tendance, le paye basque, la Bretagne, les territoires alpins, la Côte d'Azur, les vôges littorale-Atlantiques, entre autres. La mission interministérielle sur la trition des résidences principales et d'autres travaux parlementaires préconisent certaines mesures intéressantes, mais pour nous insuffisantes. Si nous ne donnons pas compétence aux collectivités, de manière différenciée par territoire, d'agir de manière suffisamment énergique sur ce sujet, la montagne accouchera d'une souris et les déception seront trop grandes. Des propositions vous ont été faites en ce sens, certaines ont notamment été adoptées par des assemblées territoriales délibérantes et par cet assemble national elle-même a plusieurs reprises. Trois types de mesures nous semblent t'indispensables. Tout d'abord, l'exercice d'un droit de preemption renforcée dans certaines zones pour y restaurer un équilibre disparu aujourd'hui. Ensuite, la taxation des transactions immobilières sur la résidence secondaire a parté d'un certain seuil. Enfin, la garantie d'un statut de résident dans le but d'avoir un accès réservé au logement principal et au foncier dans les documents d'urbanisme. J'ajouterai à celle-ci la nécessité d'adapter le zéro artificialisation nette à la réalité des territoires. Êtes-vous prête, madame la Premier ministre, au regard de l'urgence absolue de la situation ? Un créant d'accord politique transportisant autour de ce type de mesures, proportionnés et différenciés lors d'un prochain véhicule législatif. Je vous remercie.\n"
     ]
    },
    {
     "name": "stderr",
     "output_type": "stream",
     "text": [
      "/Users/azanella/Library/Python/3.9/lib/python/site-packages/whisper/transcribe.py:115: UserWarning: FP16 is not supported on CPU; using FP32 instead\n",
      "  warnings.warn(\"FP16 is not supported on CPU; using FP32 instead\")\n"
     ]
    },
    {
     "name": "stdout",
     "output_type": "stream",
     "text": [
      " En fait, toutes les personnes que vos réformes affectent directement.\n"
     ]
    },
    {
     "name": "stderr",
     "output_type": "stream",
     "text": [
      "/Users/azanella/Library/Python/3.9/lib/python/site-packages/whisper/transcribe.py:115: UserWarning: FP16 is not supported on CPU; using FP32 instead\n",
      "  warnings.warn(\"FP16 is not supported on CPU; using FP32 instead\")\n"
     ]
    },
    {
     "name": "stdout",
     "output_type": "stream",
     "text": [
      " la lutte contre le trafic de supréfiants et tout autant un enjeu de santé publique, de sécurité, que non, jeux de société. Ce trafic impact, le déconchaise scolaire, partout où il prospère, venant opposer le mirage de l'égalité des chances par l'argent, fassement facile, à l'égalité des chances réelles permises par l'école de la République.\n"
     ]
    },
    {
     "name": "stderr",
     "output_type": "stream",
     "text": [
      "/Users/azanella/Library/Python/3.9/lib/python/site-packages/whisper/transcribe.py:115: UserWarning: FP16 is not supported on CPU; using FP32 instead\n",
      "  warnings.warn(\"FP16 is not supported on CPU; using FP32 instead\")\n"
     ]
    },
    {
     "name": "stdout",
     "output_type": "stream",
     "text": [
      " C'est une véritable ajustie sociale et économique qui est en train de se jouer sous nos yeux. Nos collectivités et nos CCAS sont en première ligne. Aujourd'hui, ils se battent pour le droit de manger alors qu'ils se battent pour le droit vacances à la culture et à l'éducation.\n"
     ]
    },
    {
     "name": "stderr",
     "output_type": "stream",
     "text": [
      "/Users/azanella/Library/Python/3.9/lib/python/site-packages/whisper/transcribe.py:115: UserWarning: FP16 is not supported on CPU; using FP32 instead\n",
      "  warnings.warn(\"FP16 is not supported on CPU; using FP32 instead\")\n"
     ]
    },
    {
     "name": "stdout",
     "output_type": "stream",
     "text": [
      " Président ministre, sur la réforme des retraites, les Français attendent un vrai vote à l'Assemblée. Pas de blabla, pas de combine. On n'en veut plus de vous, on n'en peut plus de vous. Juste un vote hors de puge envié. Vous mobilisez toute la gamme des artifices de procédure en allant gratter les fonds de tiroirs pour corps se tels débats, pour empêcher la voix de ceux qui sont opposés à votre projet d'impôt sur la vie, pour empêcher que un vote ne vienne balayer ce texte ni justifier et peu défendable. Vous avez gagné du temps. Vous avez tenté de discréditer votre opposition parce que vous n'aimé pas la contradiction. Vous n'aimé pas le débat. Vous n'aimé pas la démocratie. Vous rêvez même de supprimer des contre-pouvoir. Vous avez refusé un vote pour ne pas le perdre avec le 49-3. Demain, en commission, le 8 juin ici. C'est une séance de rattrapage. Les Français la tendent. Les Français vous regardent. Alors, soit en démocrate, vous assumez le risque du vote. Soit vous continuez à raser les murs et inventer une nouvelle partie de biars à trois bandes pour éviter encore l'expression d'une décision pleinement démocratique. Si vous prenez ce chemin, les Français vous verront. Ils verront votre lâcheté politique et vous traînerait nos plus des casseroles mais un boulet pour l'histoire. Si vous prenez ce chemin, alors que déjà les Français ne vous supportent plus, vous accentirez la crise démocratique. Nous vous invitons, nous le groupe communiste solennelement, à laisser se dérouler pleinement l'examen de cette loi, en rappelant que jamais un gouvernement aucune majorité ne s'est réfugiée derrière l'article 40 d'une proposition loi d'un groupe dans sa journée d'initiative parlementaire.\n"
     ]
    },
    {
     "name": "stderr",
     "output_type": "stream",
     "text": [
      "/Users/azanella/Library/Python/3.9/lib/python/site-packages/whisper/transcribe.py:115: UserWarning: FP16 is not supported on CPU; using FP32 instead\n",
      "  warnings.warn(\"FP16 is not supported on CPU; using FP32 instead\")\n"
     ]
    },
    {
     "name": "stdout",
     "output_type": "stream",
     "text": [
      " Nous nous sommes engagés pour réformer notre pays pour que les Français ressemblent dans leur vie quotidienne plus de justice, plus d'égalité d'accès aux services publics, à la santé ou à l'éducation, pour qu'ils retrouvent l'espoir d'un ascenseur social qui fonctionne mieux.\n"
     ]
    },
    {
     "name": "stderr",
     "output_type": "stream",
     "text": [
      "/Users/azanella/Library/Python/3.9/lib/python/site-packages/whisper/transcribe.py:115: UserWarning: FP16 is not supported on CPU; using FP32 instead\n",
      "  warnings.warn(\"FP16 is not supported on CPU; using FP32 instead\")\n"
     ]
    },
    {
     "name": "stdout",
     "output_type": "stream",
     "text": [
      " La filière s'inquiète. Des discussions au plus haut niveau, laisse à penser que les chaudiers au gage pourraient être interdites, le renouveau du renouvellement, par exemple, dans les bâtiments anciens, avant d'être purement et simplement proibés partout.\n"
     ]
    },
    {
     "name": "stderr",
     "output_type": "stream",
     "text": [
      "/Users/azanella/Library/Python/3.9/lib/python/site-packages/whisper/transcribe.py:115: UserWarning: FP16 is not supported on CPU; using FP32 instead\n",
      "  warnings.warn(\"FP16 is not supported on CPU; using FP32 instead\")\n"
     ]
    },
    {
     "name": "stdout",
     "output_type": "stream",
     "text": [
      " de la parole. Je vous ai dit que les gens qui ont été confrontés à des pénuries de médicaments pharmacie cette année, s'ils ont été multipliés par 30 en 10 ans et touchent les antibiotiques, mais aussi les antiques en sérue, les insulines, les antiques et les p'tites. Rrupture de stock, tension d'approvisionnement disent les uns. Ça n'offit évoque une problématique industrielle. Et le premier ministre de la parole de Senator Long sehr beau. Cetteчidence est en dinète avec aucun idiot qui devait faire de anthem severe rзя. Vous avez appelé p Villa patients et part a qui confBrase deads passés aux motivatesurs aussi courtss, résumés. de la production. Pour rappel, 40 % des médicaments de l'Union européenne, pardon, proviennent de la Chine et de l'Inde. 60 à 80 % des principes actifs sont également fabriqués. Monsieur le ministre, quels sont vos marges de manoeuvre pour doter notre pays d'une capacité de production de médicaments, de quelle façon allez-vous pouvoir ranger la responsabilité de l'Etat conjointement avec l'Europe pour assurer la continuité de traitement face à la pénurie de médicaments. Je vous remercie. Merci beaucoup, ma chère collègue.\n"
     ]
    },
    {
     "name": "stderr",
     "output_type": "stream",
     "text": [
      "/Users/azanella/Library/Python/3.9/lib/python/site-packages/whisper/transcribe.py:115: UserWarning: FP16 is not supported on CPU; using FP32 instead\n",
      "  warnings.warn(\"FP16 is not supported on CPU; using FP32 instead\")\n"
     ]
    },
    {
     "name": "stdout",
     "output_type": "stream",
     "text": [
      " Je ne l'ai pas parlé de la pluie du beau temps, mais l'actualité est mis contre un malheureusement. Il y a quelques semaines, je questionnais le gouvernement sur la sécheresse hivernale que nous traversions. Je vous interroge aujourd'hui sur les pluies d'Iluvienne, déversée sur l'Italie ces derniers jours. L'équivalent de 6 mois de précipitation tombé en quelques heures seulement dans la région de l'Emily Romane. On y voit plus de 30 ans de la pluie, mais la pluie est la pluie de Romane. On y voit plus de 20 cours d'eau qui était leur lit. Des cru bulleuses, balayées des villages entiers, déponds, séfonneries, 400 routes, s'affaissées. Des glissements de terrain se creuser. Humennement, c'est plus de 10 000 habitants contraintes de quitter leur domicile et malheureusement 14 personnes décédées. L'ensemble de mes collègues horizon et moi-même, et j'en suis sûr, l'ensemble de la représentation nationale, présentons d'ailleurs toutes nos conneaux-léans à nos voisines et voisins européens. La région touchée et par ses pluies d'Iluvienne se trouve à quelques kilomètres seulement de la frontière entre nos deux pays. Et pourtant, très peu de médias relaient la catastrophe naturelle, humaine et économique qui se passe en Italie. Comme la France, l'Italie est en stress hydrique et l'eau tombée ces derniers jours ne permettra pas de le résorber. On le sait, le changement climatique du à l'activité humaine à croire l'intensité, la fréquence des phénomènes météorologiques extrêmes. Notre pays a déjà vécu et vivra encore des catastrophes similaires. À ce sujet, je salue le travail et les annonces faites par Monsieur le ministre Christophe Béchut. Cependant, j'aimerais savoir, Monsieur le ministre, si notre modèle de protection des populations et de sécurité civile mais aussi de préparation des territoires répond à ces nous-enjeux.\n"
     ]
    },
    {
     "name": "stderr",
     "output_type": "stream",
     "text": [
      "/Users/azanella/Library/Python/3.9/lib/python/site-packages/whisper/transcribe.py:115: UserWarning: FP16 is not supported on CPU; using FP32 instead\n",
      "  warnings.warn(\"FP16 is not supported on CPU; using FP32 instead\")\n"
     ]
    },
    {
     "name": "stdout",
     "output_type": "stream",
     "text": [
      " Nous avons été députés par le Pôle Molaque, mais merci Madame la présidente, mais Madame Zémécieux, Monsieur le député Pôle Molaque permettait-moi d'excuser Agnès Pagnier une achete de son absence. Vous le savez, l'ambition du président de la République est claire. Nous devons être le premier, pardon, grand pays industrielle à se libérer de sa dépendance aux énergies fossiles et atteindre les nécessaires pour la planète. Pour cela sous l'égide de la première ministre, c'est chargé de la planification écologique. Nous travaillons à décliner cette ambition secteur par secteur pour atteindre notre réalité carte bonne. Concernant le chauffage jaguase, qui est le objet de votre question. Vous le savez, la réglementation est revendante, environnementale, impose depuis le premier janvier une part importante d'énergie décarbonée pour le chauffage et la production de l'eau chaude sanitaire pour les logements neufs.\n"
     ]
    },
    {
     "name": "stderr",
     "output_type": "stream",
     "text": [
      "/Users/azanella/Library/Python/3.9/lib/python/site-packages/whisper/transcribe.py:115: UserWarning: FP16 is not supported on CPU; using FP32 instead\n",
      "  warnings.warn(\"FP16 is not supported on CPU; using FP32 instead\")\n"
     ]
    },
    {
     "name": "stdout",
     "output_type": "stream",
     "text": [
      " et puis faciliter le recours des Français à l'emprunt en énergissant le prêt à taux-zéro ou en rétablissant la déduction des attaques.\n"
     ]
    },
    {
     "name": "stderr",
     "output_type": "stream",
     "text": [
      "/Users/azanella/Library/Python/3.9/lib/python/site-packages/whisper/transcribe.py:115: UserWarning: FP16 is not supported on CPU; using FP32 instead\n",
      "  warnings.warn(\"FP16 is not supported on CPU; using FP32 instead\")\n"
     ]
    },
    {
     "name": "stdout",
     "output_type": "stream",
     "text": [
      " Cependant, comme le déplore nombre d'exploitants s'est réallés, il n'a pas d'autre choix de molécules pour garantir les caractères sains loiales, marchands exandains que c'est, vivant des cargaisons de serelles à destination du grand export.\n"
     ]
    },
    {
     "name": "stderr",
     "output_type": "stream",
     "text": [
      "/Users/azanella/Library/Python/3.9/lib/python/site-packages/whisper/transcribe.py:115: UserWarning: FP16 is not supported on CPU; using FP32 instead\n",
      "  warnings.warn(\"FP16 is not supported on CPU; using FP32 instead\")\n"
     ]
    },
    {
     "name": "stdout",
     "output_type": "stream",
     "text": [
      " Ça y est, monsieur le ministre, enfin. Ça y est, l'éducation nationale va enfin être première quelque part. Oui, l'éducation nationale va décrocher la palme du plus mauvais employeur de France. Et ça, c'est à votre réforme du lycée professionnelle qu'on le doit. Alors évidemment, en tant que député, je peux me rejoindre et me retrouver dans certains des objectifs de cette réforme. Mais en tant qu'enseignant par contre, je ne peux qu'être très choqués de la méthode et des propos que vous avez employés. Vous prévoyez des fermetures de filières 80 à la rentrée. Les enseignants 5-hête, vous leur répondez, je cite, qu'ils peuvent se diriger vers le professeurat des écoles ou vers le collège. J'ai cru que c'était un canuel à. J'ai vérifié, mais non, la blague était sérieuse. Si je vous suis, les enseignants en vente ou en gestion vont dorénavant enseigner la lecture en CP ou l'Europe médiévale en 5-hème. C'est bien ça. Dans quel monde vivez-vous ? C'est comme si on vous débarquait, monsieur le ministre, pour vous mettre à l'industrie ou aux finances totalement inconcevable. Monsieur le ministre, allez une semaine dans une classe et vous comprendrez que ce ne sont pas les mêmes métiers, pas les mêmes concours, pas les mêmes choix de vie. Pour beaucoup, vos propos sont la goutte d'eau qui fait déborder le vase. Je dis dernier avec notre président de groupe Olivier Marlex, nous visitions à l'issée professionnelle à Mont-Rouge. Un enseignant a été jusqu'à parler de dépôttoires pour nous dire sa colère face à l'Etat de la gestion d'Alysée Pro en France. C'était le cri du cœur d'un enseignant passionné qui croyait en ségamin mais qui n'en pouvait plus du mépris de l'institution pour cette filière qui devrait être la voix royale et non pas la voix de garage. Alors, monsieur le ministre, pourquoi a-t-elle mépris pour les enseignants du lycée Pro ?\n"
     ]
    },
    {
     "name": "stderr",
     "output_type": "stream",
     "text": [
      "/Users/azanella/Library/Python/3.9/lib/python/site-packages/whisper/transcribe.py:115: UserWarning: FP16 is not supported on CPU; using FP32 instead\n",
      "  warnings.warn(\"FP16 is not supported on CPU; using FP32 instead\")\n"
     ]
    },
    {
     "name": "stdout",
     "output_type": "stream",
     "text": [
      " à la veille de la commémoration de la abolition de l'esclavage, une nouvelle forme de servitude sabade plein effouette sur les populations d'Ultra-Marine dont la mobilité est forcément captivée. Pour le seul mois de mars, le coût du bied à Vion a augmenté de plus de 50% en Martinique et en Guadeloupe. Et entre le premier et le 25 août, il faut débourser 2231 euros pour un pari fort de France, comme 1337 euros pour un pari miamis. La flambe du coût du kerosene, la guerre en Ukraine n'explique pas objectifement une telle différence de prix pour d'être durée de vols équivalentes. En réalité, l'Etat rif plus cabusif imposé par des compagnie aériennes oligos-polistiques vis-à-vis de peuples qui plient déjà sous la vie chère constituent un véritable scandale. Depuis 1976, l'Etat a doté la course d'une délégation de services publics. Au titre de la continuité territorial, il y dépasse aujourd'hui 220 millions d'euros, ce qui nous réjouit. Mais seulement 45 millions d'euros pour l'ensemble d'être territoire d'Idoutromers, ce qui nous révoltent. Madame la première ministre, au nom du principe d'égalité, quand adopteuré vos infins dans l'être territoire d'Idoutromers, une vraie politique de continuité territorial, d'auté de vrais moyens budgétaires en star de la course.\n"
     ]
    },
    {
     "name": "stderr",
     "output_type": "stream",
     "text": [
      "/Users/azanella/Library/Python/3.9/lib/python/site-packages/whisper/transcribe.py:115: UserWarning: FP16 is not supported on CPU; using FP32 instead\n",
      "  warnings.warn(\"FP16 is not supported on CPU; using FP32 instead\")\n"
     ]
    },
    {
     "name": "stdout",
     "output_type": "stream",
     "text": [
      " Et si vous assumiez ma dame votre responsabilité et deveniez l'antidote à la maladie que vous avez vous-même générée, le pays ne s'emporterait-il pas mieux? Retirez la loi!\n"
     ]
    },
    {
     "name": "stderr",
     "output_type": "stream",
     "text": [
      "/Users/azanella/Library/Python/3.9/lib/python/site-packages/whisper/transcribe.py:115: UserWarning: FP16 is not supported on CPU; using FP32 instead\n",
      "  warnings.warn(\"FP16 is not supported on CPU; using FP32 instead\")\n"
     ]
    },
    {
     "name": "stdout",
     "output_type": "stream",
     "text": [
      " Monsieur le ministre, depuis hier, le Loireiste instaure le plafondement des salaires pour les médecins intérimaires. Cette loi trouve une certaine légitimité en faisant sorte d'éviter les abus de remunération. Je crois qu'il faut en convenir. Pour autant, elle n'est pas sans conséquence et accroît les difficultés pour nos hôpitaux de proximité, déjà confrontée à une pénurie de soignants. Dans l'aide, mon département a hir sont à 50, mais aussi à fourmilia, vitrite, françois, Bastia, Hosh, Achiveau. Partout, la tension s'accélère dans les services. Dans les urgences, en anesthésie, en pédiatrie, dans les services de soins de suite et réadaptation et j'en passe, Monsieur le ministre. Comme lors du Covid, des interventions chirurgicales sont aujourd'hui déprogrammées, des lignes médecines, de SSR, même pudiquement gelées pour pas dire fermées. Monsieur le ministre, vous tentez d'atteignuer les effets pervers de cette loi, en portant la garde de 24 heures à 1390 euros, ou en abondant les contrats par des contrats de... qu'on appelle le motif 2 ou en accordant une prime de solidarité territorial, mais là, n'est pas l'urgence. Votre disposition ne répond pas aux problèmes de fonds, celui des déserts médicaux, ni aux problèmes de reconnaissance par la remunération de nos médecins. Au final, si votre disposition est nécessaire, elle doit être accompagnée de solutions durables, car une seule chose compte.\n"
     ]
    }
   ],
   "source": [
    "transcripts = []\n",
    "\n",
    "for file in files:\n",
    "    model = whisper.load_model(\"base\")\n",
    "    result = model.transcribe(f\"/Users/azanella/Documents/repo_git/ai-hackatech/StudioVRAI/hackatech/raw-audio/{file}\")\n",
    "    print(result[\"text\"])\n",
    "    transcripts.append(result)"
   ]
  },
  {
   "cell_type": "code",
   "execution_count": 7,
   "metadata": {},
   "outputs": [
    {
     "data": {
      "text/html": [
       "<div>\n",
       "<style scoped>\n",
       "    .dataframe tbody tr th:only-of-type {\n",
       "        vertical-align: middle;\n",
       "    }\n",
       "\n",
       "    .dataframe tbody tr th {\n",
       "        vertical-align: top;\n",
       "    }\n",
       "\n",
       "    .dataframe thead th {\n",
       "        text-align: right;\n",
       "    }\n",
       "</style>\n",
       "<table border=\"1\" class=\"dataframe\">\n",
       "  <thead>\n",
       "    <tr style=\"text-align: right;\">\n",
       "      <th></th>\n",
       "      <th>file_name</th>\n",
       "      <th>whisper_transcript</th>\n",
       "    </tr>\n",
       "  </thead>\n",
       "  <tbody>\n",
       "    <tr>\n",
       "      <th>0</th>\n",
       "      <td>QG_20230404144514_1_3329410_3583690_9046_55482...</td>\n",
       "      <td>{'text': ' Monsieur le ministre de l'Intérieur...</td>\n",
       "    </tr>\n",
       "    <tr>\n",
       "      <th>1</th>\n",
       "      <td>QG_20230411144521_1_6466900_6730600_9952_78448...</td>\n",
       "      <td>{'text': ' Le dernier rapport de Madame la Déf...</td>\n",
       "    </tr>\n",
       "    <tr>\n",
       "      <th>2</th>\n",
       "      <td>QG_20230516144510_1_2814980_3082510_11655_1233...</td>\n",
       "      <td>{'text': ' Il y a 60 ans, l'écologist Rachele ...</td>\n",
       "    </tr>\n",
       "    <tr>\n",
       "      <th>3</th>\n",
       "      <td>QG_20230606143049_1_5188860_5447990_12853_9832...</td>\n",
       "      <td>{'text': ' Monsieur Papé Ndiaye, ministre de l...</td>\n",
       "    </tr>\n",
       "    <tr>\n",
       "      <th>4</th>\n",
       "      <td>QG_20230411144521_1_3589780_3847440_131450_155...</td>\n",
       "      <td>{'text': ' Madame la Présidente, mesdames et m...</td>\n",
       "    </tr>\n",
       "    <tr>\n",
       "      <th>...</th>\n",
       "      <td>...</td>\n",
       "      <td>...</td>\n",
       "    </tr>\n",
       "    <tr>\n",
       "      <th>140</th>\n",
       "      <td>QG_20230411144521_1_2852380_3060700_45562_5833...</td>\n",
       "      <td>{'text': ' Cependant, comme le déplore nombre ...</td>\n",
       "    </tr>\n",
       "    <tr>\n",
       "      <th>141</th>\n",
       "      <td>QG_20230516144510_1_2065030_2328650_13036_1173...</td>\n",
       "      <td>{'text': ' Ça y est, monsieur le ministre, enf...</td>\n",
       "    </tr>\n",
       "    <tr>\n",
       "      <th>142</th>\n",
       "      <td>QG_20230509144503_1_3501590_3719560_10448_1004...</td>\n",
       "      <td>{'text': ' à la veille de la commémoration de ...</td>\n",
       "    </tr>\n",
       "    <tr>\n",
       "      <th>143</th>\n",
       "      <td>QG_20230411144521_1_2112820_2342300_79237_9208...</td>\n",
       "      <td>{'text': ' Et si vous assumiez ma dame votre r...</td>\n",
       "    </tr>\n",
       "    <tr>\n",
       "      <th>144</th>\n",
       "      <td>QG_20230404144514_1_4294050_4542500_10015_9619...</td>\n",
       "      <td>{'text': ' Monsieur le ministre, depuis hier, ...</td>\n",
       "    </tr>\n",
       "  </tbody>\n",
       "</table>\n",
       "<p>145 rows × 2 columns</p>\n",
       "</div>"
      ],
      "text/plain": [
       "                                             file_name  \\\n",
       "0    QG_20230404144514_1_3329410_3583690_9046_55482...   \n",
       "1    QG_20230411144521_1_6466900_6730600_9952_78448...   \n",
       "2    QG_20230516144510_1_2814980_3082510_11655_1233...   \n",
       "3    QG_20230606143049_1_5188860_5447990_12853_9832...   \n",
       "4    QG_20230411144521_1_3589780_3847440_131450_155...   \n",
       "..                                                 ...   \n",
       "140  QG_20230411144521_1_2852380_3060700_45562_5833...   \n",
       "141  QG_20230516144510_1_2065030_2328650_13036_1173...   \n",
       "142  QG_20230509144503_1_3501590_3719560_10448_1004...   \n",
       "143  QG_20230411144521_1_2112820_2342300_79237_9208...   \n",
       "144  QG_20230404144514_1_4294050_4542500_10015_9619...   \n",
       "\n",
       "                                    whisper_transcript  \n",
       "0    {'text': ' Monsieur le ministre de l'Intérieur...  \n",
       "1    {'text': ' Le dernier rapport de Madame la Déf...  \n",
       "2    {'text': ' Il y a 60 ans, l'écologist Rachele ...  \n",
       "3    {'text': ' Monsieur Papé Ndiaye, ministre de l...  \n",
       "4    {'text': ' Madame la Présidente, mesdames et m...  \n",
       "..                                                 ...  \n",
       "140  {'text': ' Cependant, comme le déplore nombre ...  \n",
       "141  {'text': ' Ça y est, monsieur le ministre, enf...  \n",
       "142  {'text': ' à la veille de la commémoration de ...  \n",
       "143  {'text': ' Et si vous assumiez ma dame votre r...  \n",
       "144  {'text': ' Monsieur le ministre, depuis hier, ...  \n",
       "\n",
       "[145 rows x 2 columns]"
      ]
     },
     "execution_count": 7,
     "metadata": {},
     "output_type": "execute_result"
    }
   ],
   "source": [
    "df_new = pd.DataFrame({'file_name': files, 'whisper_transcript': transcripts})\n",
    "df_new"
   ]
  },
  {
   "cell_type": "code",
   "execution_count": 8,
   "metadata": {},
   "outputs": [],
   "source": [
    "df = pd.read_csv('/Users/azanella/Documents/repo_git/ai-hackatech/StudioVRAI/hackatech/data-csv/tchatche_split_x.csv')\n",
    "df['file_name']=df['file_name'].astype(str)\n",
    "df_new['file_name']=df_new['file_name'].astype(str)\n",
    "df_final = df.merge(df_new, on='file_name')\n",
    "\n",
    "df_final.to_csv('tchatche_split_x_new.csv', index=False)"
   ]
  },
  {
   "cell_type": "code",
   "execution_count": null,
   "metadata": {},
   "outputs": [],
   "source": [
    "import whisper\n",
    "\n",
    "model = whisper.load_model(\"base\")\n",
    "\n",
    "# load audio and pad/trim it to fit 30 seconds\n",
    "audio = whisper.load_audio(\"audio.mp3\")\n",
    "audio = whisper.pad_or_trim(audio)\n",
    "\n",
    "# make log-Mel spectrogram and move to the same device as the model\n",
    "mel = whisper.log_mel_spectrogram(audio).to(model.device)\n",
    "\n",
    "# detect the spoken language\n",
    "_, probs = model.detect_language(mel)\n",
    "print(f\"Detected language: {max(probs, key=probs.get)}\")\n",
    "\n",
    "# decode the audio\n",
    "options = whisper.DecodingOptions()\n",
    "result = whisper.decode(model, mel, options)\n",
    "\n",
    "# print the recognized text\n",
    "print(result.text)"
   ]
  }
 ],
 "metadata": {
  "kernelspec": {
   "display_name": "Python 3",
   "language": "python",
   "name": "python3"
  },
  "language_info": {
   "codemirror_mode": {
    "name": "ipython",
    "version": 3
   },
   "file_extension": ".py",
   "mimetype": "text/x-python",
   "name": "python",
   "nbconvert_exporter": "python",
   "pygments_lexer": "ipython3",
   "version": "3.9.6"
  }
 },
 "nbformat": 4,
 "nbformat_minor": 2
}
